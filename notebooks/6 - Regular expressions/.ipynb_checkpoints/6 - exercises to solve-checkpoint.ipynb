{
 "cells": [
  {
   "cell_type": "markdown",
   "id": "ecb91a5a",
   "metadata": {},
   "source": [
    "6.1 Write a function that will match a string that contains a.\\*b.\\*c.\\*d without using regular expressions."
   ]
  },
  {
   "cell_type": "code",
   "execution_count": 1,
   "id": "5a7fa7d8",
   "metadata": {},
   "outputs": [],
   "source": [
    "# solution"
   ]
  },
  {
   "cell_type": "markdown",
   "id": "e31b98ef",
   "metadata": {},
   "source": [
    "6.2 What will the pattern '..^' match? Explain why.\n"
   ]
  },
  {
   "cell_type": "code",
   "execution_count": 2,
   "id": "041a651d",
   "metadata": {},
   "outputs": [],
   "source": [
    "# solution"
   ]
  },
  {
   "cell_type": "markdown",
   "id": "554769c1",
   "metadata": {},
   "source": [
    "6.3 What’s the difference between (a*)|(b*) and (a|b)*? Explain the\n",
    "difference and give examples of strings that both will match, only the\n",
    "first will match, and only the second will match."
   ]
  },
  {
   "cell_type": "code",
   "execution_count": 3,
   "id": "e1ca184f",
   "metadata": {},
   "outputs": [],
   "source": [
    "# solution"
   ]
  },
  {
   "cell_type": "markdown",
   "id": "fa2503e6",
   "metadata": {},
   "source": [
    "6.4 Describe in words what each of the following patterns will match:\n",
    "(a) '(Tom)|(Dick)|(Harry)'\n",
    "(b) '(.*)\\1'\n",
    "(c) '(a[^a])+'\n",
    "(d) '^[^0-9]+$'\n",
    "(e) '(a|b)*c(d*|e*)'"
   ]
  },
  {
   "cell_type": "code",
   "execution_count": 4,
   "id": "c77912a0",
   "metadata": {},
   "outputs": [],
   "source": [
    "# solution"
   ]
  },
  {
   "cell_type": "markdown",
   "id": "c04d57b8",
   "metadata": {},
   "source": [
    "6.5 Write a program that collects the final consonant clusters of English.\n"
   ]
  },
  {
   "cell_type": "code",
   "execution_count": 5,
   "id": "7a4eb6f1",
   "metadata": {},
   "outputs": [],
   "source": [
    "# solution"
   ]
  },
  {
   "cell_type": "markdown",
   "id": "44f06a55",
   "metadata": {},
   "source": [
    "6.6 Write a regular expression that finds reduplicated words.\n"
   ]
  },
  {
   "cell_type": "code",
   "execution_count": 6,
   "id": "8cd382d9",
   "metadata": {},
   "outputs": [],
   "source": [
    "# solution"
   ]
  },
  {
   "cell_type": "markdown",
   "id": "4e382137",
   "metadata": {},
   "source": [
    "6.7 Write a program that uses regular expressions to find palindromes.\n"
   ]
  },
  {
   "cell_type": "code",
   "execution_count": 7,
   "id": "a122004b",
   "metadata": {},
   "outputs": [],
   "source": [
    "# solution"
   ]
  },
  {
   "cell_type": "markdown",
   "id": "4fddbd32",
   "metadata": {},
   "source": [
    "6.8 Some of the work of the string method format() can be done with regular expressions instead. Write a function that will take arguments where the first argument is a string in the appropriate format for the\n",
    "format() method and subsequent arguments are the additional ones that format() would take. Your function should, insofar as your patience takes you, do the work of format()."
   ]
  },
  {
   "cell_type": "code",
   "execution_count": 8,
   "id": "2c9f64f9",
   "metadata": {},
   "outputs": [],
   "source": [
    "# solution"
   ]
  },
  {
   "cell_type": "markdown",
   "id": "c4d9e58a",
   "metadata": {},
   "source": [
    "6.10 The symbol ? has another use in regular expressions that we have\n",
    "not discussed. Snoop around on the web, find out what it is, explain it,\n",
    "and write a short program showing how it can be used."
   ]
  },
  {
   "cell_type": "code",
   "execution_count": null,
   "id": "c0b8b099",
   "metadata": {},
   "outputs": [],
   "source": []
  }
 ],
 "metadata": {
  "kernelspec": {
   "display_name": "Python 3 (ipykernel)",
   "language": "python",
   "name": "python3"
  },
  "language_info": {
   "codemirror_mode": {
    "name": "ipython",
    "version": 3
   },
   "file_extension": ".py",
   "mimetype": "text/x-python",
   "name": "python",
   "nbconvert_exporter": "python",
   "pygments_lexer": "ipython3",
   "version": "3.10.6"
  }
 },
 "nbformat": 4,
 "nbformat_minor": 5
}

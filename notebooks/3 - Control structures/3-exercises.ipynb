{
 "cells": [
  {
   "cell_type": "markdown",
   "id": "2b775998",
   "metadata": {},
   "source": [
    "Why does this fail?\n"
   ]
  },
  {
   "cell_type": "code",
   "execution_count": 1,
   "id": "add25988",
   "metadata": {},
   "outputs": [
    {
     "ename": "SyntaxError",
     "evalue": "unterminated string literal (detected at line 2) (3027959567.py, line 2)",
     "output_type": "error",
     "traceback": [
      "\u001b[0;36m  Cell \u001b[0;32mIn [1], line 2\u001b[0;36m\u001b[0m\n\u001b[0;31m    print('that shouldn't happen')\u001b[0m\n\u001b[0m                                ^\u001b[0m\n\u001b[0;31mSyntaxError\u001b[0m\u001b[0;31m:\u001b[0m unterminated string literal (detected at line 2)\n"
     ]
    }
   ],
   "source": [
    "if 2 + 2 == 5:\n",
    "    print('that shouldn't happen')\n",
    "    print('or this....')\n"
   ]
  },
  {
   "cell_type": "markdown",
   "id": "fea82360",
   "metadata": {},
   "source": [
    "\n",
    "Augment the recursive prefixation example on page 38 to handle three\n",
    "distinct prefixes. Assume that only identical prefixes can cooccur.\n"
   ]
  },
  {
   "cell_type": "code",
   "execution_count": 3,
   "id": "863f0d91",
   "metadata": {},
   "outputs": [
    {
     "name": "stdout",
     "output_type": "stream",
     "text": [
      "missile\n",
      "anti-missile\n",
      "anti-anti-missile\n",
      "anti-anti-anti-missile\n",
      "racism\n",
      "anti-racism\n",
      "anti-anti-racism\n",
      "anti-anti-anti-racism\n",
      "music\n",
      "anti-music\n",
      "anti-anti-music\n",
      "anti-anti-anti-music\n"
     ]
    }
   ],
   "source": [
    "#define prefix and 3 words\n",
    "prefix = 'anti'\n",
    "words = ['missile','racism','music']\n",
    "for word in words:\n",
    "    #iterate over words\n",
    "    print(word)\n",
    "    #print word\n",
    "    #for each word, iterate 3 times\n",
    "    for i in range(3):\n",
    "        #add prefix to current word\n",
    "        word = prefix + '-' + word\n",
    "        print(word)\n",
    "        #print new word"
   ]
  },
  {
   "cell_type": "code",
   "execution_count": null,
   "id": "03618817",
   "metadata": {},
   "outputs": [],
   "source": []
  },
  {
   "cell_type": "markdown",
   "id": "e55f696b",
   "metadata": {},
   "source": [
    "Augment the recursive prefixation example above to handle three distinct\n",
    "prefixes. Assume that all prefixes can cooccur and any word can have up\n",
    "to three prefixes.\n"
   ]
  },
  {
   "cell_type": "markdown",
   "id": "fc80d985",
   "metadata": {},
   "source": [
    "What’s wrong with the following code snippet?\n"
   ]
  },
  {
   "cell_type": "code",
   "execution_count": null,
   "id": "31d962b0",
   "metadata": {},
   "outputs": [],
   "source": [
    "count = 0\n",
    "while count < 3:\n",
    "    print(count)\n",
    "    count -= 1"
   ]
  },
  {
   "cell_type": "code",
   "execution_count": null,
   "id": "fd1807f0",
   "metadata": {},
   "outputs": [],
   "source": []
  },
  {
   "cell_type": "markdown",
   "id": "78dacf66",
   "metadata": {},
   "source": [
    "Make a chart that shows how the following would work step by step if\n",
    "we define word to be 'cat'."
   ]
  },
  {
   "cell_type": "code",
   "execution_count": null,
   "id": "d55b09b6",
   "metadata": {},
   "outputs": [],
   "source": [
    "word = 'alphabet'\n",
    "count = 0\n",
    "while count < len(word):\n",
    "    print(word[count])\n",
    "    count += 1\n",
    "    othercount = 1\n",
    "    while othercount < count+1:\n",
    "        print('\\t',word[0:othercount])\n",
    "        othercount += 1"
   ]
  },
  {
   "cell_type": "markdown",
   "id": "4fb34aff",
   "metadata": {},
   "source": [
    "Why does the following code fail?"
   ]
  },
  {
   "cell_type": "code",
   "execution_count": null,
   "id": "eb413d79",
   "metadata": {},
   "outputs": [],
   "source": [
    "word = 'alphabet'\n",
    "vowels = 'aeiou'\n",
    "count = 0\n",
    "while count < len(word):\n",
    "    letter = word[count]\n",
    "    if letter not in vowels:\n",
    "        print(letter)\n",
    "        count += 1\n",
    "        "
   ]
  },
  {
   "cell_type": "markdown",
   "id": "84c3e8cf",
   "metadata": {},
   "source": [
    "The five code examples on pages 44, 45, 46, 47, and 48 involve test-\n",
    "ing letters for whether they are vowel letters. What happens if the word\n",
    "variable has no vowels?"
   ]
  },
  {
   "cell_type": "markdown",
   "id": "43cb20b5",
   "metadata": {},
   "source": [
    "The program control41.py on page 52 uses a continue statement.\n",
    "Using a break instead would be wrong; why?"
   ]
  },
  {
   "cell_type": "code",
   "execution_count": null,
   "id": "a8ddd7e5",
   "metadata": {},
   "outputs": [],
   "source": []
  },
  {
   "cell_type": "markdown",
   "id": "2ea26918",
   "metadata": {},
   "source": [
    "In Section 3.7 of the text, we develo`p programs to generate nonsense\n",
    "words and nonsense sentences that respect certain restrictions, e.g., avoid\n",
    "identical consonants or replace an identical object with a reflexive.\n",
    "Amplify one of these programs to include another restriction. Make sure\n",
    "to explain what the restriction is!"
   ]
  },
  {
   "cell_type": "markdown",
   "id": "4a2f7c87",
   "metadata": {},
   "source": [
    "Web: Snoop around the web to find out how the switch control struc-\n",
    "ture works in other programming languages. Python doesn’t have it; show\n",
    "how you can simulate its effect with resources Python does have."
   ]
  }
 ],
 "metadata": {
  "kernelspec": {
   "display_name": "Python 3 (ipykernel)",
   "language": "python",
   "name": "python3"
  },
  "language_info": {
   "codemirror_mode": {
    "name": "ipython",
    "version": 3
   },
   "file_extension": ".py",
   "mimetype": "text/x-python",
   "name": "python",
   "nbconvert_exporter": "python",
   "pygments_lexer": "ipython3",
   "version": "3.10.6"
  }
 },
 "nbformat": 4,
 "nbformat_minor": 5
}

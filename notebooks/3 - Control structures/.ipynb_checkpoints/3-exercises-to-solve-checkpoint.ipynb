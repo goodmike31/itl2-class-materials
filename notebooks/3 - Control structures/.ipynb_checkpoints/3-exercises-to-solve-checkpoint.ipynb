{
 "cells": [
  {
   "cell_type": "markdown",
   "id": "2b775998",
   "metadata": {},
   "source": [
    "# Task 1\n",
    "Why does this fail?\n"
   ]
  },
  {
   "cell_type": "code",
   "execution_count": null,
   "id": "b33532a6",
   "metadata": {},
   "outputs": [],
   "source": [
    "if 2 + 2 == 5:\n",
    "    print('that shouldn't happen')\n",
    "    print('or this....')\n"
   ]
  },
  {
   "cell_type": "code",
   "execution_count": null,
   "id": "f4972e1a",
   "metadata": {},
   "outputs": [],
   "source": [
    "#solution"
   ]
  },
  {
   "cell_type": "markdown",
   "id": "e55f696b",
   "metadata": {},
   "source": [
    "# Task 2\n",
    "Augment the recursive prefixation example below to handle three distinct prefixes.<br>\n",
    "Assume that all prefixes can cooccur and any word can have up to three prefixes.\n"
   ]
  },
  {
   "cell_type": "code",
   "execution_count": 3,
   "id": "863f0d91",
   "metadata": {},
   "outputs": [
    {
     "name": "stdout",
     "output_type": "stream",
     "text": [
      "missile\n",
      "anti-missile\n",
      "anti-anti-missile\n",
      "anti-anti-anti-missile\n",
      "racism\n",
      "anti-racism\n",
      "anti-anti-racism\n",
      "anti-anti-anti-racism\n",
      "music\n",
      "anti-music\n",
      "anti-anti-music\n",
      "anti-anti-anti-music\n"
     ]
    }
   ],
   "source": [
    "#define prefix and 3 words\n",
    "prefix = 'anti'\n",
    "words = ['missile','racism','music']\n",
    "for word in words:\n",
    "    #iterate over words\n",
    "    print(word)\n",
    "    #print word\n",
    "    #for each word, iterate 3 times\n",
    "    for i in range(3):\n",
    "        #add prefix to current word\n",
    "        word = prefix + '-' + word\n",
    "        print(word)\n",
    "        #print new word"
   ]
  },
  {
   "cell_type": "code",
   "execution_count": 4,
   "id": "70ef09df",
   "metadata": {},
   "outputs": [],
   "source": [
    "# solution"
   ]
  },
  {
   "cell_type": "markdown",
   "id": "fc80d985",
   "metadata": {},
   "source": [
    "# Task 3 \n",
    "What’s wrong with the following code snippet?\n"
   ]
  },
  {
   "cell_type": "markdown",
   "id": "dd7339b6",
   "metadata": {},
   "source": [
    "count = 0\n",
    "while count < 3:\n",
    "    print(count)\n",
    "    count -= 1"
   ]
  },
  {
   "cell_type": "code",
   "execution_count": null,
   "id": "fd1807f0",
   "metadata": {},
   "outputs": [],
   "source": [
    "# solution"
   ]
  },
  {
   "cell_type": "markdown",
   "id": "78dacf66",
   "metadata": {},
   "source": [
    "# Task 4\n",
    "Make a chart that shows how the following code would work step by step, if we define word to be 'cat'."
   ]
  },
  {
   "cell_type": "code",
   "execution_count": null,
   "id": "d55b09b6",
   "metadata": {},
   "outputs": [],
   "source": [
    "word = 'alphabet'\n",
    "count = 0\n",
    "while count < len(word):\n",
    "    print(word[count])\n",
    "    count += 1\n",
    "    othercount = 1\n",
    "    while othercount < count+1:\n",
    "        print('\\t',word[0:othercount])\n",
    "        othercount += 1"
   ]
  },
  {
   "cell_type": "markdown",
   "id": "4fb34aff",
   "metadata": {},
   "source": [
    "# Task 5\n",
    "Why does the following code fail?"
   ]
  },
  {
   "cell_type": "code",
   "execution_count": null,
   "id": "3905a528",
   "metadata": {},
   "outputs": [],
   "source": [
    "word = 'alphabet'\n",
    "vowels = 'aeiou'\n",
    "count = 0\n",
    "while count < len(word):\n",
    "    letter = word[count]\n",
    "    if letter not in vowels:\n",
    "        print(letter)\n",
    "        count += 1\n",
    "        "
   ]
  },
  {
   "cell_type": "code",
   "execution_count": null,
   "id": "18749795",
   "metadata": {},
   "outputs": [],
   "source": [
    "# solution"
   ]
  },
  {
   "cell_type": "markdown",
   "id": "2ea26918",
   "metadata": {},
   "source": [
    "# Task 6\n",
    "Modify programs for generating nonsense words and nonsense sentences. <br>\n",
    "Amplify one of these programs to include another restriction. <br> \n",
    "Make sure to explain what the restriction is e.g., avoiding identical consonants or replacing an identical object with a reflexive.\n"
   ]
  },
  {
   "cell_type": "code",
   "execution_count": null,
   "id": "7f7664c3",
   "metadata": {},
   "outputs": [],
   "source": [
    "# solution"
   ]
  },
  {
   "cell_type": "markdown",
   "id": "4a2f7c87",
   "metadata": {},
   "source": [
    "# Task 7\n",
    "Snoop around the web to find out how the switch control structure works in other programming languages. Python doesn’t have it; show how you can simulate its effect with resources Python does have."
   ]
  },
  {
   "cell_type": "code",
   "execution_count": null,
   "id": "7332b5e9",
   "metadata": {},
   "outputs": [],
   "source": [
    "# solution"
   ]
  },
  {
   "cell_type": "code",
   "execution_count": null,
   "id": "5c139921",
   "metadata": {},
   "outputs": [],
   "source": []
  }
 ],
 "metadata": {
  "kernelspec": {
   "display_name": "Python 3 (ipykernel)",
   "language": "python",
   "name": "python3"
  },
  "language_info": {
   "codemirror_mode": {
    "name": "ipython",
    "version": 3
   },
   "file_extension": ".py",
   "mimetype": "text/x-python",
   "name": "python",
   "nbconvert_exporter": "python",
   "pygments_lexer": "ipython3",
   "version": "3.10.6"
  }
 },
 "nbformat": 4,
 "nbformat_minor": 5
}

{
 "cells": [
  {
   "cell_type": "markdown",
   "id": "c55f2926",
   "metadata": {
    "slideshow": {
     "slide_type": "slide"
    }
   },
   "source": [
    "# IT Skills for linguists 2\n",
    "## UAM, Faculty of English, 2BA\n",
    "### *Python control structures*\n",
    "### Poznań, 05.12.2022\n",
    "#### Teacher: mgr inż. Michał Junczyk\n"
   ]
  },
  {
   "cell_type": "code",
   "execution_count": null,
   "id": "64c9171b",
   "metadata": {
    "slideshow": {
     "slide_type": "skip"
    }
   },
   "outputs": [
    {
     "name": "stdout",
     "output_type": "stream",
     "text": [
      "[NbConvertApp] Converting notebook 3-follow-along.ipynb to slides\n",
      "[NbConvertApp] Writing 676809 bytes to 3-follow-along.slides.html\n",
      "[NbConvertApp] Redirecting reveal.js requests to https://cdnjs.cloudflare.com/ajax/libs/reveal.js/3.5.0\n",
      "Serving your slides at http://127.0.0.1:8000/3-follow-along.slides.html\n",
      "Use Control-C to stop this server\n"
     ]
    }
   ],
   "source": [
    "!jupyter nbconvert \"3-follow-along.ipynb\" --to slides --post serve"
   ]
  },
  {
   "cell_type": "markdown",
   "id": "85d419d3",
   "metadata": {
    "slideshow": {
     "slide_type": "slide"
    }
   },
   "source": [
    "# Control structures \n",
    "- Today we'll learn how to do an **infinite** amount of stuff with a **finite amount of code**.\n",
    "- Simple control structures and variable assignment are the heart and soul of a programming system"
   ]
  },
  {
   "cell_type": "markdown",
   "id": "452a9c34",
   "metadata": {
    "slideshow": {
     "slide_type": "slide"
    }
   },
   "source": [
    "## The *if* control structure. \n",
    "- *if* control structure allows for conditional execution.\n",
    "- Starts with a test clause and followed by one or more statements. \n",
    "- If the test clause is true, the statements are executed.\n",
    "- If it is false, the statements are not executed"
   ]
  },
  {
   "cell_type": "markdown",
   "id": "2d608a1e",
   "metadata": {
    "slideshow": {
     "slide_type": "subslide"
    }
   },
   "source": [
    "- The test is introduced with the keyword if and terminates with a colon. \n",
    "\n",
    "- After the colon starts a block of statements to execute if test result is TRUE"
   ]
  },
  {
   "cell_type": "code",
   "execution_count": 238,
   "id": "db761847",
   "metadata": {
    "slideshow": {
     "slide_type": "fragment"
    }
   },
   "outputs": [
    {
     "name": "stdout",
     "output_type": "stream",
     "text": [
      "that was true\n"
     ]
    }
   ],
   "source": [
    "\n",
    "if 2+2 == 4: print('that was true')\n",
    "# Note - single statement if followed \n",
    "# by code to be executed if test is TRUE \n",
    "# are on the same line\n"
   ]
  },
  {
   "cell_type": "markdown",
   "id": "be5f7447",
   "metadata": {
    "slideshow": {
     "slide_type": "slide"
    }
   },
   "source": [
    "### Grouping and indentation\n",
    "- If the statement block is a single statement, it can occur on the same line or the next.\n",
    "- If it occurs on the next line, it must be spaced or tabbed in at least one space or tab. \n",
    "- If there is no indentation, an error is produced."
   ]
  },
  {
   "cell_type": "code",
   "execution_count": 239,
   "id": "477a0144",
   "metadata": {
    "slideshow": {
     "slide_type": "fragment"
    }
   },
   "outputs": [
    {
     "name": "stdout",
     "output_type": "stream",
     "text": [
      "that was true\n"
     ]
    }
   ],
   "source": [
    "#single statement indented on next line\n",
    "if 2+2 == 4:\n",
    "\tprint('that was true')\n"
   ]
  },
  {
   "cell_type": "code",
   "execution_count": 240,
   "id": "58b995a5",
   "metadata": {
    "slideshow": {
     "slide_type": "fragment"
    }
   },
   "outputs": [
    {
     "ename": "IndentationError",
     "evalue": "expected an indented block after 'if' statement on line 1 (801823117.py, line 2)",
     "output_type": "error",
     "traceback": [
      "\u001b[0;36m  Cell \u001b[0;32mIn [240], line 2\u001b[0;36m\u001b[0m\n\u001b[0;31m    print('that was true')  #produces an error\u001b[0m\n\u001b[0m    ^\u001b[0m\n\u001b[0;31mIndentationError\u001b[0m\u001b[0;31m:\u001b[0m expected an indented block after 'if' statement on line 1\n"
     ]
    }
   ],
   "source": [
    "if 2+2 == 4:\n",
    "print('that was true')  #produces an error"
   ]
  },
  {
   "cell_type": "markdown",
   "id": "60867f98",
   "metadata": {
    "slideshow": {
     "slide_type": "subslide"
    }
   },
   "source": [
    "- in case of multiple statements contingent on the test:\n",
    "  - statements must appear on separate lines\n",
    "  - must be tabbed or spaced with the same number of spaces or tabs."
   ]
  },
  {
   "cell_type": "code",
   "execution_count": 241,
   "id": "ef8c699c",
   "metadata": {
    "slideshow": {
     "slide_type": "fragment"
    }
   },
   "outputs": [
    {
     "name": "stdout",
     "output_type": "stream",
     "text": [
      "that was true\n",
      "...really true\n"
     ]
    }
   ],
   "source": [
    "#multiple statements correctly indented\n",
    "if 2+2 == 4:\n",
    "\tprint('that was true')\n",
    "\tprint('...really true')"
   ]
  },
  {
   "cell_type": "code",
   "execution_count": 242,
   "id": "6552e475",
   "metadata": {
    "slideshow": {
     "slide_type": "subslide"
    }
   },
   "outputs": [
    {
     "ename": "IndentationError",
     "evalue": "unexpected indent (3308273802.py, line 3)",
     "output_type": "error",
     "traceback": [
      "\u001b[0;36m  Cell \u001b[0;32mIn [242], line 3\u001b[0;36m\u001b[0m\n\u001b[0;31m    print('...really true')   #produces error\u001b[0m\n\u001b[0m    ^\u001b[0m\n\u001b[0;31mIndentationError\u001b[0m\u001b[0;31m:\u001b[0m unexpected indent\n"
     ]
    }
   ],
   "source": [
    "\n",
    "if 2+2 == 4:\n",
    "\tprint('that was true')\n",
    "\t print('...really true')   #produces error"
   ]
  },
  {
   "cell_type": "code",
   "execution_count": 244,
   "id": "1dffd417",
   "metadata": {
    "slideshow": {
     "slide_type": "subslide"
    }
   },
   "outputs": [
    {
     "ename": "IndentationError",
     "evalue": "unindent does not match any outer indentation level (<tokenize>, line 3)",
     "output_type": "error",
     "traceback": [
      "\u001b[0;36m  File \u001b[0;32m<tokenize>:3\u001b[0;36m\u001b[0m\n\u001b[0;31m    print('...really true')\u001b[0m\n\u001b[0m    ^\u001b[0m\n\u001b[0;31mIndentationError\u001b[0m\u001b[0;31m:\u001b[0m unindent does not match any outer indentation level\n"
     ]
    }
   ],
   "source": [
    "if 2+2 == 4:\n",
    "\t print('that was true')   #produces error\n",
    "   print('...really true')"
   ]
  },
  {
   "cell_type": "markdown",
   "id": "b6d98b4f",
   "metadata": {
    "slideshow": {
     "slide_type": "slide"
    }
   },
   "source": [
    "### Indentation rules\n",
    "- either spaces or tabs can be used, but not mixed!\n",
    "- it's best to use either a single tab or 4 spaces\n",
    "- Note - indentation have semantic consequences"
   ]
  },
  {
   "cell_type": "code",
   "execution_count": 245,
   "id": "866f0e1f",
   "metadata": {
    "slideshow": {
     "slide_type": "fragment"
    }
   },
   "outputs": [],
   "source": [
    "if 2 + 2 == 5:   #2-statement block\n",
    "\tprint(\"that shouldn't happen\")\n",
    "\tprint('or this....')"
   ]
  },
  {
   "cell_type": "code",
   "execution_count": 246,
   "id": "7ebf2e58",
   "metadata": {
    "slideshow": {
     "slide_type": "fragment"
    }
   },
   "outputs": [
    {
     "name": "stdout",
     "output_type": "stream",
     "text": [
      "or this....\n"
     ]
    }
   ],
   "source": [
    "if 2 + 2 == 5:   #1-statement block\n",
    "\tprint(\"that shouldn't happen\")\n",
    "print('or this....')\n",
    "\n",
    "#second sentence is executed, because it is not indented\n",
    "#as the result it is evaluated as being outside the if structure and thus not contingent on the if test."
   ]
  },
  {
   "cell_type": "markdown",
   "id": "81857247",
   "metadata": {
    "slideshow": {
     "slide_type": "subslide"
    }
   },
   "source": [
    "## More examples"
   ]
  },
  {
   "cell_type": "code",
   "execution_count": 247,
   "id": "99cb0191",
   "metadata": {
    "slideshow": {
     "slide_type": "fragment"
    }
   },
   "outputs": [
    {
     "name": "stdout",
     "output_type": "stream",
     "text": [
      "wow\n",
      "wow a third time\n"
     ]
    }
   ],
   "source": [
    "if 2+2==4:\n",
    "\tprint('wow')\n",
    "\tif 7*7==48:\n",
    "\t\tprint('wow again')\n",
    "\tprint('wow a third time')"
   ]
  },
  {
   "cell_type": "code",
   "execution_count": 248,
   "id": "ce60fe5b",
   "metadata": {
    "slideshow": {
     "slide_type": "fragment"
    }
   },
   "outputs": [
    {
     "name": "stdout",
     "output_type": "stream",
     "text": [
      "wow\n",
      "wow again\n",
      "wow a third time\n"
     ]
    }
   ],
   "source": [
    "\n",
    "#nested if with two-statement block\n",
    "if 2+2==4:\n",
    "\tprint('wow')\n",
    "\tif 7*7==49:\n",
    "\t\tprint('wow again')\n",
    "\t\tprint('wow a third time')\n",
    "        # It will execute only if both if tests evaluate to true.\n",
    "\n"
   ]
  },
  {
   "cell_type": "code",
   "execution_count": 249,
   "id": "0a9f8ebb",
   "metadata": {
    "slideshow": {
     "slide_type": "subslide"
    }
   },
   "outputs": [
    {
     "name": "stdout",
     "output_type": "stream",
     "text": [
      "wow\n",
      "wow a third time\n"
     ]
    }
   ],
   "source": [
    "#nested if, with independent statement, without indentation\n",
    "if 2+2==4:\n",
    "\tprint('wow')\n",
    "\tif 7*7==48:\n",
    "\t\tprint('wow again')\n",
    "print('wow a third time')"
   ]
  },
  {
   "cell_type": "markdown",
   "id": "90a16320",
   "metadata": {
    "slideshow": {
     "slide_type": "slide"
    }
   },
   "source": [
    "### The *else* clause"
   ]
  },
  {
   "cell_type": "markdown",
   "id": "2ca6d64b",
   "metadata": {
    "slideshow": {
     "slide_type": "slide"
    }
   },
   "source": [
    "- if test evaluates to false the else block code is executed\n",
    "- else caluse follows the first block of code \n",
    "- must be at the same level of indentation as the initial if clause."
   ]
  },
  {
   "cell_type": "code",
   "execution_count": 250,
   "id": "5f7adf57",
   "metadata": {
    "slideshow": {
     "slide_type": "subslide"
    }
   },
   "outputs": [
    {
     "name": "stdout",
     "output_type": "stream",
     "text": [
      "but this will\n",
      "...and so will this\n"
     ]
    }
   ],
   "source": [
    "if 2+2==5:   #only else block executes\n",
    "\tprint(\"this won't print\")\n",
    "else:\n",
    "\tprint('but this will')\n",
    "\tprint('...and so will this')"
   ]
  },
  {
   "cell_type": "code",
   "execution_count": 251,
   "id": "0a6a5c01",
   "metadata": {
    "slideshow": {
     "slide_type": "subslide"
    }
   },
   "outputs": [
    {
     "name": "stdout",
     "output_type": "stream",
     "text": [
      "this will print\n"
     ]
    }
   ],
   "source": [
    "if 2+2==4:   #else-block does not execute\n",
    "\tprint('this will print')\n",
    "else:\n",
    "\tprint(\"but this won't\")\n",
    "\tprint('...and neither will this')"
   ]
  },
  {
   "cell_type": "markdown",
   "id": "7e85d4af",
   "metadata": {
    "slideshow": {
     "slide_type": "slide"
    }
   },
   "source": [
    "- sometimes is convenient to have an empty block.\n",
    "- Python has the pass statement to fill an empty block."
   ]
  },
  {
   "cell_type": "code",
   "execution_count": 252,
   "id": "43006092",
   "metadata": {
    "slideshow": {
     "slide_type": "fragment"
    }
   },
   "outputs": [
    {
     "name": "stdout",
     "output_type": "stream",
     "text": [
      "doing something here....\n"
     ]
    }
   ],
   "source": [
    "x = 'hat'   #set a variable\n",
    "if x[0] == 'a':\n",
    "\tpass     #if clause with empty block\n",
    "else:\n",
    "\tprint('doing something here....')"
   ]
  },
  {
   "cell_type": "markdown",
   "id": "7984945c",
   "metadata": {
    "slideshow": {
     "slide_type": "slide"
    }
   },
   "source": [
    "# Loops"
   ]
  },
  {
   "cell_type": "markdown",
   "id": "bbc14367",
   "metadata": {
    "slideshow": {
     "slide_type": "slide"
    }
   },
   "source": [
    "## *For* clause"
   ]
  },
  {
   "cell_type": "markdown",
   "id": "81761e8f",
   "metadata": {
    "slideshow": {
     "slide_type": "fragment"
    }
   },
   "source": [
    "- Allows for multiple application of some fixed block of code. \n",
    "- loops iterate over items of lists\n",
    "- for each item the same block can be applied\n",
    "- **for** clause is followed by an indented block of one or more statements. "
   ]
  },
  {
   "cell_type": "markdown",
   "id": "fbe0156d",
   "metadata": {
    "slideshow": {
     "slide_type": "subslide"
    }
   },
   "source": [
    "### **For** loop syntax\n",
    "- keyword **for**  \n",
    "- *variable name* \n",
    "- **in** operator\n",
    "- *list or sequence of items that can be iterated over*\n",
    "- **colon**."
   ]
  },
  {
   "cell_type": "code",
   "execution_count": 253,
   "id": "161de1fc",
   "metadata": {
    "slideshow": {
     "slide_type": "fragment"
    }
   },
   "outputs": [
    {
     "name": "stdout",
     "output_type": "stream",
     "text": [
      "wow\n",
      "wow\n",
      "wow\n"
     ]
    }
   ],
   "source": [
    "for i in [1,2,3]:\n",
    "    print('wow')"
   ]
  },
  {
   "cell_type": "code",
   "execution_count": 254,
   "id": "3bb1e46c",
   "metadata": {
    "slideshow": {
     "slide_type": "fragment"
    }
   },
   "outputs": [
    {
     "name": "stdout",
     "output_type": "stream",
     "text": [
      "1\n",
      "2\n",
      "3\n"
     ]
    }
   ],
   "source": [
    "# we can use value of index i\n",
    "for i in [1,2,3]:\n",
    "\tprint(i)"
   ]
  },
  {
   "cell_type": "code",
   "execution_count": 255,
   "id": "d0fd7e8f",
   "metadata": {
    "slideshow": {
     "slide_type": "subslide"
    }
   },
   "outputs": [
    {
     "name": "stdout",
     "output_type": "stream",
     "text": [
      "0\n",
      "0\n",
      "1\n",
      "3\n",
      "2\n",
      "6\n"
     ]
    }
   ],
   "source": [
    "for i in range(3):\n",
    "    print(i)\n",
    "    print(i*3)"
   ]
  },
  {
   "cell_type": "code",
   "execution_count": 256,
   "id": "4d53f696",
   "metadata": {
    "slideshow": {
     "slide_type": "fragment"
    }
   },
   "outputs": [
    {
     "name": "stdout",
     "output_type": "stream",
     "text": [
      "1 + 2 = 3\n",
      "2 + 2 = 4\n",
      "3 + 2 = 5\n"
     ]
    }
   ],
   "source": [
    "for i in [1,2,3]:\n",
    "    #using variable twice\n",
    "    print('{} + 2 = {}'.format(i,i+2))"
   ]
  },
  {
   "cell_type": "code",
   "execution_count": 257,
   "id": "86a8db7c",
   "metadata": {
    "slideshow": {
     "slide_type": "subslide"
    }
   },
   "outputs": [
    {
     "name": "stdout",
     "output_type": "stream",
     "text": [
      "t o n e \n",
      "END\n"
     ]
    }
   ],
   "source": [
    "for i in 'tone':\n",
    "\tprint(i,end=' ')   #letters with spaces\n",
    "print(\"\\nEND\")"
   ]
  },
  {
   "cell_type": "code",
   "execution_count": 258,
   "id": "b2aaf67d",
   "metadata": {
    "slideshow": {
     "slide_type": "fragment"
    }
   },
   "outputs": [
    {
     "name": "stdout",
     "output_type": "stream",
     "text": [
      "0\n",
      "1\n",
      "3\n",
      "6\n",
      "10\n",
      "10\n"
     ]
    }
   ],
   "source": [
    "total = 0            #set variable\n",
    "for i in range(5):   #iterate...\n",
    "    total = total + i #...add to total\n",
    "    print(total) \n",
    "print(total)         #print total"
   ]
  },
  {
   "cell_type": "code",
   "execution_count": 259,
   "id": "5e2c574e",
   "metadata": {
    "slideshow": {
     "slide_type": "subslide"
    }
   },
   "outputs": [
    {
     "name": "stdout",
     "output_type": "stream",
     "text": [
      "missile\n",
      "anti-missile\n",
      "anti-anti-missile\n",
      "anti-anti-anti-missile\n"
     ]
    }
   ],
   "source": [
    "#variable can incrementally change in some sort of loop. \n",
    "    \n",
    "prefix = 'anti'               #initial prefix\n",
    "word = 'missile'              #initial word\n",
    "print(word)                   #print word\n",
    "for i in range(3):            #iterate 3 times\n",
    "\tword = prefix + '-' + word #add prefix...\n",
    "\tprint(word)                #print new word"
   ]
  },
  {
   "cell_type": "markdown",
   "id": "d44d1166",
   "metadata": {
    "slideshow": {
     "slide_type": "slide"
    }
   },
   "source": [
    "### Nested **for** loops"
   ]
  },
  {
   "cell_type": "code",
   "execution_count": 260,
   "id": "29406446",
   "metadata": {
    "slideshow": {
     "slide_type": "subslide"
    }
   },
   "outputs": [
    {
     "name": "stdout",
     "output_type": "stream",
     "text": [
      "missile\n",
      "anti-missile\n",
      "anti-anti-missile\n",
      "anti-anti-anti-missile\n",
      "racism\n",
      "anti-racism\n",
      "anti-anti-racism\n",
      "anti-anti-anti-racism\n",
      "music\n",
      "anti-music\n",
      "anti-anti-music\n",
      "anti-anti-anti-music\n"
     ]
    }
   ],
   "source": [
    "#define prefix and 3 words\n",
    "prefix = 'anti'\n",
    "words = ['missile','racism','music']\n",
    "for word in words:   #iterate over words\n",
    "\tprint(word)       #print word\n",
    "\t#for each word, iterate 3 times\n",
    "\tfor i in range(3):\n",
    "\t\t#add prefix to current word\n",
    "\t\tword = prefix + '-' + word\n",
    "\t\tprint(word)    #print new word\n"
   ]
  },
  {
   "cell_type": "markdown",
   "id": "a5e97cb3",
   "metadata": {
    "slideshow": {
     "slide_type": "subslide"
    }
   },
   "source": [
    "- Note - **nested loops are computationally expensive**\n",
    "- Massive calculations should be carefully considered\n",
    "- The best practice is to \n",
    "  - test the code first on single loop, rather than all at once\n",
    "  - limit the number of nestes loops to minimum\n",
    "  - test code on small samples and then on larger ones"
   ]
  },
  {
   "cell_type": "markdown",
   "id": "975feca6",
   "metadata": {
    "slideshow": {
     "slide_type": "fragment"
    }
   },
   "source": [
    "- Before writing a program, a logic of the problem must be understood first\n",
    "- Then the problem is recast it in terms of control structures."
   ]
  },
  {
   "cell_type": "markdown",
   "id": "80a2ae02",
   "metadata": {
    "slideshow": {
     "slide_type": "slide"
    }
   },
   "source": [
    "More examples of using **for** loop"
   ]
  },
  {
   "cell_type": "code",
   "execution_count": 261,
   "id": "17297283",
   "metadata": {
    "slideshow": {
     "slide_type": "subslide"
    }
   },
   "outputs": [
    {
     "name": "stdout",
     "output_type": "stream",
     "text": [
      "49995000\n"
     ]
    }
   ],
   "source": [
    "# sum of numbers up to 10,000\n",
    "\n",
    "#variable to accumulate additions\n",
    "total = 0\n",
    "for i in range(10000):  #iterate a lot\n",
    "\ttotal = total + i    #add i to total\n",
    "print(total)            #print total"
   ]
  },
  {
   "cell_type": "code",
   "execution_count": 262,
   "id": "512700ea",
   "metadata": {
    "slideshow": {
     "slide_type": "subslide"
    }
   },
   "outputs": [
    {
     "name": "stdout",
     "output_type": "stream",
     "text": [
      "5\n"
     ]
    }
   ],
   "source": [
    "#Let’s write some code to count the vowels in a string.\n",
    "#define vowels\n",
    "vowels = 'aeiou'\n",
    "#variable to accumulate count\n",
    "vowelCount = 0\n",
    "word = 'Appalachicola'            #define word\n",
    "#go letter by letter\n",
    "for letter in word:\n",
    "\tif letter in vowels:           #vowel?\n",
    "\t\tvowelCount = vowelCount + 1 #add 1\n",
    "print(vowelCount)                 #print total"
   ]
  },
  {
   "cell_type": "code",
   "execution_count": 263,
   "id": "0590183b",
   "metadata": {
    "slideshow": {
     "slide_type": "subslide"
    }
   },
   "outputs": [
    {
     "name": "stdout",
     "output_type": "stream",
     "text": [
      "13\n"
     ]
    }
   ],
   "source": [
    "\n",
    "vowels = 'aeiou'        #define vowels\n",
    "letterCount = 0         #set counter to zero\n",
    "word = 'Uppalachicola'  #define word\n",
    "#is 1st letter a lowercase vowel?\n",
    "if word[0].lower() in vowels:\n",
    "\tfor letter in word:  #go letter by letter\n",
    "\t\tletterCount += 1  #for each letter, add 1\n",
    "#do this if word is not V-initial\n",
    "else:\n",
    "\tprint('Not vowel-initial')\n",
    "print(letterCount)      #print letter total"
   ]
  },
  {
   "cell_type": "markdown",
   "id": "05fc9968",
   "metadata": {
    "slideshow": {
     "slide_type": "slide"
    }
   },
   "source": [
    "### Special equality operators \n",
    "- The += equality operator adds value to the right to the left hand side variable\n",
    "- Similar equality operators are -=, *= and /= "
   ]
  },
  {
   "cell_type": "code",
   "execution_count": 264,
   "id": "70bd2165",
   "metadata": {
    "slideshow": {
     "slide_type": "fragment"
    }
   },
   "outputs": [
    {
     "name": "stdout",
     "output_type": "stream",
     "text": [
      "3\n",
      "3\n"
     ]
    }
   ],
   "source": [
    "sum1=0\n",
    "sum2=0\n",
    "for i in range(3):\n",
    "    sum1 = sum1 + i\n",
    "    sum2 += i\n",
    "print(sum1)\n",
    "print(sum2)\n",
    "    "
   ]
  },
  {
   "cell_type": "markdown",
   "id": "62fcede7",
   "metadata": {
    "slideshow": {
     "slide_type": "slide"
    }
   },
   "source": [
    "## *While* loop\n",
    "- can replace **for** loop functionality, but in a less convenient way\n",
    "- **while** loop is executed as long as some test holds true."
   ]
  },
  {
   "cell_type": "code",
   "execution_count": 265,
   "id": "69af3445",
   "metadata": {
    "slideshow": {
     "slide_type": "subslide"
    }
   },
   "outputs": [
    {
     "name": "stdout",
     "output_type": "stream",
     "text": [
      "1\n",
      "2\n",
      "3\n"
     ]
    }
   ],
   "source": [
    "# \"for\" loop replication\n",
    "count = 0          #set counter\n",
    "while count < 3:   #check counter value\n",
    "\tcount += 1      #increment, escape clause!\n",
    "\tprint(count)\n"
   ]
  },
  {
   "cell_type": "code",
   "execution_count": 266,
   "id": "9e865f99",
   "metadata": {
    "slideshow": {
     "slide_type": "subslide"
    }
   },
   "outputs": [
    {
     "name": "stdout",
     "output_type": "stream",
     "text": [
      "0\n",
      "1\n",
      "2\n"
     ]
    }
   ],
   "source": [
    "count = 0         #declare counter\n",
    "while count < 3:  #check value of counter\n",
    "\tprint(count)   #print the value\n",
    "\tcount += 1     #NOW increment counter"
   ]
  },
  {
   "cell_type": "code",
   "execution_count": 267,
   "id": "816bba6a",
   "metadata": {
    "slideshow": {
     "slide_type": "subslide"
    }
   },
   "outputs": [],
   "source": [
    "count = 0\n",
    "#while count < 3:\n",
    "#\tprint(count)\n",
    "#\tcount = 1"
   ]
  },
  {
   "cell_type": "markdown",
   "id": "7ebee4b0",
   "metadata": {
    "slideshow": {
     "slide_type": "fragment"
    }
   },
   "source": [
    "- infinite loop! The condition count < 3 is always true!"
   ]
  },
  {
   "cell_type": "code",
   "execution_count": 268,
   "id": "ba44b10b",
   "metadata": {
    "slideshow": {
     "slide_type": "slide"
    }
   },
   "outputs": [
    {
     "name": "stdout",
     "output_type": "stream",
     "text": [
      "a\n",
      "\t a\n",
      "l\n",
      "\t a\n",
      "\t al\n",
      "p\n",
      "\t a\n",
      "\t al\n",
      "\t alp\n",
      "h\n",
      "\t a\n",
      "\t al\n",
      "\t alp\n",
      "\t alph\n",
      "a\n",
      "\t a\n",
      "\t al\n",
      "\t alp\n",
      "\t alph\n",
      "\t alpha\n",
      "b\n",
      "\t a\n",
      "\t al\n",
      "\t alp\n",
      "\t alph\n",
      "\t alpha\n",
      "\t alphab\n",
      "e\n",
      "\t a\n",
      "\t al\n",
      "\t alp\n",
      "\t alph\n",
      "\t alpha\n",
      "\t alphab\n",
      "\t alphabe\n",
      "t\n",
      "\t a\n",
      "\t al\n",
      "\t alp\n",
      "\t alph\n",
      "\t alpha\n",
      "\t alphab\n",
      "\t alphabe\n",
      "\t alphabet\n"
     ]
    }
   ],
   "source": [
    "word = 'alphabet'     #define word\n",
    "count = 0             #define counter\n",
    "#iterate while count is less than word length\n",
    "while count < len(word):\n",
    "\tprint(word[count]) #print current letter\n",
    "\tcount += 1         #increment counter\n",
    "\tothercount = 1     #start new counter\n",
    "\t#check if 2nd counter is less than 1st\n",
    "\twhile othercount < count+1:\n",
    "\t\t#print ever larger prefixes\n",
    "\t\tprint('\\t',word[0:othercount])\n",
    "\t\tothercount += 1 #increment other counter"
   ]
  },
  {
   "cell_type": "code",
   "execution_count": 269,
   "id": "0323e443",
   "metadata": {
    "slideshow": {
     "slide_type": "slide"
    }
   },
   "outputs": [
    {
     "name": "stdout",
     "output_type": "stream",
     "text": [
      "l\n",
      "p\n",
      "h\n",
      "b\n",
      "t\n"
     ]
    }
   ],
   "source": [
    "word = 'alphabet'        #set word\n",
    "vowels = 'aeiou'         #define vowels\n",
    "count = 0                #set counter\n",
    "while count < len(word): #iterate\n",
    "\tletter = word[count]  #get current letter\n",
    "\t#is it a non-vowel?\n",
    "\tif letter not in vowels:\n",
    "\t\tprint(letter)      #if so, print it\n",
    "\tcount += 1            #increment counter"
   ]
  },
  {
   "cell_type": "code",
   "execution_count": 270,
   "id": "28d8a5b7",
   "metadata": {
    "slideshow": {
     "slide_type": "slide"
    }
   },
   "outputs": [
    {
     "name": "stdout",
     "output_type": "stream",
     "text": [
      "There are 7 vowels in this word\n"
     ]
    }
   ],
   "source": [
    "\n",
    "vowels = 'aeiou'       #define vowels\n",
    "word = 'Winnepesaukee' #set word\n",
    "#create two counters\n",
    "counter = 0\n",
    "vowelcount = 0\n",
    "#go letter by letter\n",
    "while counter < len(word):\n",
    "\t#is current letter a vowel?\n",
    "\tif word[counter] in vowels:\n",
    "\t\tvowelcount += 1\n",
    "\t#keep track of total number of letters\n",
    "\tcounter += 1\n",
    "#when counter is too big, do this:\n",
    "else:\n",
    "\tprint('There are',vowelcount,\n",
    "\t\t'vowels in this word')"
   ]
  },
  {
   "cell_type": "code",
   "execution_count": 271,
   "id": "ccbbd048",
   "metadata": {
    "slideshow": {
     "slide_type": "slide"
    }
   },
   "outputs": [
    {
     "name": "stdout",
     "output_type": "stream",
     "text": [
      "The word begins with 3 consonant letters\n"
     ]
    }
   ],
   "source": [
    "\n",
    "vowels = 'aeiou' #define vowels\n",
    "word = 'sthenic' #define word\n",
    "counter = 0      #set up a counter\n",
    "#iterate through word letter by letter\n",
    "while counter < len(word):\n",
    "\t#if current letter is vowel, exit loop\n",
    "\tif word[counter] in vowels:\n",
    "\t\tbreak\n",
    "\t#don't forget to update the counter!\n",
    "\tcounter += 1\n",
    "#print value of counter when break occurred\n",
    "print('The word begins with',\n",
    "\tcounter,'consonant letters')"
   ]
  },
  {
   "cell_type": "code",
   "execution_count": 272,
   "id": "bf87f6f8",
   "metadata": {
    "slideshow": {
     "slide_type": "slide"
    }
   },
   "outputs": [
    {
     "name": "stdout",
     "output_type": "stream",
     "text": [
      "The word begins with 3 consonant letters\n"
     ]
    }
   ],
   "source": [
    "vowels = 'aeiou' #define vowels\n",
    "word = 'sthenic' #define word\n",
    "counter = 0      #initialize counter\n",
    "#go through all letters\n",
    "for i in range(len(word)):\n",
    "\t#is current letter a vowel?\n",
    "\tif word[i] in vowels:\n",
    "\t\tbreak      #if so, exit loop\n",
    "\t#don't forget to update counter\n",
    "\tcounter += 1\n",
    "#print result\n",
    "print('The word begins with',\n",
    "\tcounter,'consonant letters')"
   ]
  },
  {
   "cell_type": "code",
   "execution_count": 273,
   "id": "380e99b8",
   "metadata": {
    "slideshow": {
     "slide_type": "slide"
    }
   },
   "outputs": [
    {
     "name": "stdout",
     "output_type": "stream",
     "text": [
      "The word begins with 3 consonant letters\n"
     ]
    }
   ],
   "source": [
    "vowels = 'aeiou' #define vowels \n",
    "word = 'sthenic' #define word\n",
    "counter = 0      #initialize counter\n",
    "while True:      #iterate forever\n",
    "\t#is current letter a vowel?\n",
    "\tif word[counter] in vowels:\n",
    "\t\tbreak      #if so, exit\n",
    "\t#remember to increment counter\n",
    "\tcounter += 1\n",
    "#print result\n",
    "print('The word begins with',\n",
    "\tcounter,'consonant letters')\n"
   ]
  },
  {
   "cell_type": "code",
   "execution_count": 274,
   "id": "e6aec0b4",
   "metadata": {
    "slideshow": {
     "slide_type": "slide"
    }
   },
   "outputs": [
    {
     "name": "stdout",
     "output_type": "stream",
     "text": [
      "The word has 5 consonant letters\n"
     ]
    }
   ],
   "source": [
    "vowels = 'aeiou' #define vowels \n",
    "word = 'sthenic' #define word\n",
    "counter = 0      #initialize counter\n",
    "#go through each letter\n",
    "for i in range(len(word)):\n",
    "\t#is current letter a vowel?\n",
    "\tif word[i] in vowels:\n",
    "\t\tcontinue   #if so, skip it\n",
    "\t#increment counter (only for non-vowels!)\n",
    "\tcounter += 1\n",
    "#print result\n",
    "print('The word has',\n",
    "\tcounter,'consonant letters')"
   ]
  },
  {
   "cell_type": "code",
   "execution_count": 275,
   "id": "7dee9bdd",
   "metadata": {
    "slideshow": {
     "slide_type": "slide"
    }
   },
   "outputs": [
    {
     "name": "stdout",
     "output_type": "stream",
     "text": [
      "The word has 7 consonant letters\n"
     ]
    }
   ],
   "source": [
    "\n",
    "#set up initial variables\n",
    "vowels = 'aeiou'\n",
    "word = 'Mississippi'\n",
    "counter = 0\n",
    "i = 0\n",
    "#go through word letter by letter\n",
    "while i < len(word):\n",
    "\t#is current letter a vowel?\n",
    "\tif word[i] in vowels:\n",
    "\t\ti += 1     #if so, increment letter count\n",
    "\t\tcontinue   #...and exit current loop\n",
    "\ti += 1        #else, increment letter count\n",
    "\tcounter += 1  #increment consonant count\n",
    "#print result\n",
    "print('The word has',\n",
    "\tcounter,'consonant letters')"
   ]
  },
  {
   "cell_type": "code",
   "execution_count": 276,
   "id": "263d693e",
   "metadata": {
    "slideshow": {
     "slide_type": "slide"
    }
   },
   "outputs": [
    {
     "name": "stdout",
     "output_type": "stream",
     "text": [
      "pa\n",
      "ta\n",
      "ka\n",
      "pi\n",
      "ti\n",
      "ki\n",
      "pu\n",
      "tu\n",
      "ku\n"
     ]
    }
   ],
   "source": [
    "vowels = 'aiu'     #define vowels\n",
    "consonants = 'ptk' #define consonants\n",
    "for v in vowels:   #for every vowel\n",
    "\t#choose a consonant\n",
    "\tfor c in consonants:\n",
    "\t\t#now print them together\n",
    "\t\tprint(c,v,sep='')"
   ]
  },
  {
   "cell_type": "code",
   "execution_count": 277,
   "id": "99cafc94",
   "metadata": {
    "slideshow": {
     "slide_type": "slide"
    }
   },
   "outputs": [
    {
     "name": "stdout",
     "output_type": "stream",
     "text": [
      "pa\n",
      "ta\n",
      "ka\n",
      "ba\n",
      "da\n",
      "ga\n",
      "pe\n",
      "te\n",
      "ke\n",
      "be\n",
      "de\n",
      "ge\n",
      "pi\n",
      "ti\n",
      "ki\n",
      "bi\n",
      "di\n",
      "gi\n",
      "po\n",
      "to\n",
      "ko\n",
      "bo\n",
      "do\n",
      "go\n",
      "pu\n",
      "tu\n",
      "ku\n",
      "bu\n",
      "du\n",
      "gu\n"
     ]
    }
   ],
   "source": [
    "vowels = 'aeiou'      #define more Vs\n",
    "consonants = 'ptkbdg' #define more Cs\n",
    "for v in vowels:      #for every vowel\n",
    "\t#choose a consonant\n",
    "\tfor c in consonants:\n",
    "\t\t#now print them together\n",
    "\t\tprint(c,v,sep='')"
   ]
  },
  {
   "cell_type": "code",
   "execution_count": 278,
   "id": "78ba5359",
   "metadata": {
    "slideshow": {
     "slide_type": "slide"
    }
   },
   "outputs": [
    {
     "name": "stdout",
     "output_type": "stream",
     "text": [
      "pap\n",
      "pat\n",
      "pak\n",
      "pab\n",
      "pad\n",
      "pag\n",
      "tap\n",
      "tat\n",
      "tak\n",
      "tab\n",
      "tad\n",
      "tag\n",
      "kap\n",
      "kat\n",
      "kak\n",
      "kab\n",
      "kad\n",
      "kag\n",
      "bap\n",
      "bat\n",
      "bak\n",
      "bab\n",
      "bad\n",
      "bag\n",
      "dap\n",
      "dat\n",
      "dak\n",
      "dab\n",
      "dad\n",
      "dag\n",
      "gap\n",
      "gat\n",
      "gak\n",
      "gab\n",
      "gad\n",
      "gag\n",
      "pep\n",
      "pet\n",
      "pek\n",
      "peb\n",
      "ped\n",
      "peg\n",
      "tep\n",
      "tet\n",
      "tek\n",
      "teb\n",
      "ted\n",
      "teg\n",
      "kep\n",
      "ket\n",
      "kek\n",
      "keb\n",
      "ked\n",
      "keg\n",
      "bep\n",
      "bet\n",
      "bek\n",
      "beb\n",
      "bed\n",
      "beg\n",
      "dep\n",
      "det\n",
      "dek\n",
      "deb\n",
      "ded\n",
      "deg\n",
      "gep\n",
      "get\n",
      "gek\n",
      "geb\n",
      "ged\n",
      "geg\n",
      "pip\n",
      "pit\n",
      "pik\n",
      "pib\n",
      "pid\n",
      "pig\n",
      "tip\n",
      "tit\n",
      "tik\n",
      "tib\n",
      "tid\n",
      "tig\n",
      "kip\n",
      "kit\n",
      "kik\n",
      "kib\n",
      "kid\n",
      "kig\n",
      "bip\n",
      "bit\n",
      "bik\n",
      "bib\n",
      "bid\n",
      "big\n",
      "dip\n",
      "dit\n",
      "dik\n",
      "dib\n",
      "did\n",
      "dig\n",
      "gip\n",
      "git\n",
      "gik\n",
      "gib\n",
      "gid\n",
      "gig\n",
      "pop\n",
      "pot\n",
      "pok\n",
      "pob\n",
      "pod\n",
      "pog\n",
      "top\n",
      "tot\n",
      "tok\n",
      "tob\n",
      "tod\n",
      "tog\n",
      "kop\n",
      "kot\n",
      "kok\n",
      "kob\n",
      "kod\n",
      "kog\n",
      "bop\n",
      "bot\n",
      "bok\n",
      "bob\n",
      "bod\n",
      "bog\n",
      "dop\n",
      "dot\n",
      "dok\n",
      "dob\n",
      "dod\n",
      "dog\n",
      "gop\n",
      "got\n",
      "gok\n",
      "gob\n",
      "god\n",
      "gog\n",
      "pup\n",
      "put\n",
      "puk\n",
      "pub\n",
      "pud\n",
      "pug\n",
      "tup\n",
      "tut\n",
      "tuk\n",
      "tub\n",
      "tud\n",
      "tug\n",
      "kup\n",
      "kut\n",
      "kuk\n",
      "kub\n",
      "kud\n",
      "kug\n",
      "bup\n",
      "but\n",
      "buk\n",
      "bub\n",
      "bud\n",
      "bug\n",
      "dup\n",
      "dut\n",
      "duk\n",
      "dub\n",
      "dud\n",
      "dug\n",
      "gup\n",
      "gut\n",
      "guk\n",
      "gub\n",
      "gud\n",
      "gug\n"
     ]
    }
   ],
   "source": [
    "\n",
    "vowels = 'aeiou'      #define Vs \n",
    "consonants = 'ptkbdg' #define Cs\n",
    "for v in vowels:      #for every vowel:\n",
    "\t#choose a consonant\n",
    "\tfor o in consonants:\n",
    "\t\t#now choose another consonant\n",
    "\t\tfor c in consonants:\n",
    "\t\t\t#print them together\n",
    "\t\t\tprint(o,v,c,sep='')"
   ]
  },
  {
   "cell_type": "code",
   "execution_count": 279,
   "id": "28decbfe",
   "metadata": {
    "slideshow": {
     "slide_type": "slide"
    }
   },
   "outputs": [
    {
     "name": "stdout",
     "output_type": "stream",
     "text": [
      "pat\n",
      "pak\n",
      "pab\n",
      "pad\n",
      "pag\n",
      "tap\n",
      "tak\n",
      "tab\n",
      "tad\n",
      "tag\n",
      "kap\n",
      "kat\n",
      "kab\n",
      "kad\n",
      "kag\n",
      "bap\n",
      "bat\n",
      "bak\n",
      "bad\n",
      "bag\n",
      "dap\n",
      "dat\n",
      "dak\n",
      "dab\n",
      "dag\n",
      "gap\n",
      "gat\n",
      "gak\n",
      "gab\n",
      "gad\n",
      "pet\n",
      "pek\n",
      "peb\n",
      "ped\n",
      "peg\n",
      "tep\n",
      "tek\n",
      "teb\n",
      "ted\n",
      "teg\n",
      "kep\n",
      "ket\n",
      "keb\n",
      "ked\n",
      "keg\n",
      "bep\n",
      "bet\n",
      "bek\n",
      "bed\n",
      "beg\n",
      "dep\n",
      "det\n",
      "dek\n",
      "deb\n",
      "deg\n",
      "gep\n",
      "get\n",
      "gek\n",
      "geb\n",
      "ged\n",
      "pit\n",
      "pik\n",
      "pib\n",
      "pid\n",
      "pig\n",
      "tip\n",
      "tik\n",
      "tib\n",
      "tid\n",
      "tig\n",
      "kip\n",
      "kit\n",
      "kib\n",
      "kid\n",
      "kig\n",
      "bip\n",
      "bit\n",
      "bik\n",
      "bid\n",
      "big\n",
      "dip\n",
      "dit\n",
      "dik\n",
      "dib\n",
      "dig\n",
      "gip\n",
      "git\n",
      "gik\n",
      "gib\n",
      "gid\n",
      "pot\n",
      "pok\n",
      "pob\n",
      "pod\n",
      "pog\n",
      "top\n",
      "tok\n",
      "tob\n",
      "tod\n",
      "tog\n",
      "kop\n",
      "kot\n",
      "kob\n",
      "kod\n",
      "kog\n",
      "bop\n",
      "bot\n",
      "bok\n",
      "bod\n",
      "bog\n",
      "dop\n",
      "dot\n",
      "dok\n",
      "dob\n",
      "dog\n",
      "gop\n",
      "got\n",
      "gok\n",
      "gob\n",
      "god\n",
      "put\n",
      "puk\n",
      "pub\n",
      "pud\n",
      "pug\n",
      "tup\n",
      "tuk\n",
      "tub\n",
      "tud\n",
      "tug\n",
      "kup\n",
      "kut\n",
      "kub\n",
      "kud\n",
      "kug\n",
      "bup\n",
      "but\n",
      "buk\n",
      "bud\n",
      "bug\n",
      "dup\n",
      "dut\n",
      "duk\n",
      "dub\n",
      "dug\n",
      "gup\n",
      "gut\n",
      "guk\n",
      "gub\n",
      "gud\n"
     ]
    }
   ],
   "source": [
    "vowels = 'aeiou'      #define Vs \n",
    "consonants = 'ptkbdg' #define Cs\n",
    "#for every vowel, onset, coda\n",
    "for v in vowels:\n",
    "\tfor o in consonants:\n",
    "\t\tfor c in consonants:\n",
    "\t\t\tif o == c:   #skip if onset == coda\n",
    "\t\t\t\tcontinue\n",
    "\t\t\t#print combination\n",
    "\t\t\tprint(o,v,c,sep='')"
   ]
  },
  {
   "cell_type": "code",
   "execution_count": 280,
   "id": "f3ada928",
   "metadata": {
    "slideshow": {
     "slide_type": "slide"
    }
   },
   "outputs": [
    {
     "name": "stdout",
     "output_type": "stream",
     "text": [
      "bla ha bla\n",
      "bla ha dor\n",
      "bla ha sna\n",
      "bla mog bla\n",
      "bla mog dor\n",
      "bla mog sna\n",
      "bla ge bla\n",
      "bla ge dor\n",
      "bla ge sna\n",
      "bla di bla\n",
      "bla di dor\n",
      "bla di sna\n",
      "dor ha bla\n",
      "dor ha dor\n",
      "dor ha sna\n",
      "dor mog bla\n",
      "dor mog dor\n",
      "dor mog sna\n",
      "dor ge bla\n",
      "dor ge dor\n",
      "dor ge sna\n",
      "dor di bla\n",
      "dor di dor\n",
      "dor di sna\n",
      "sna ha bla\n",
      "sna ha dor\n",
      "sna ha sna\n",
      "sna mog bla\n",
      "sna mog dor\n",
      "sna mog sna\n",
      "sna ge bla\n",
      "sna ge dor\n",
      "sna ge sna\n",
      "sna di bla\n",
      "sna di dor\n",
      "sna di sna\n"
     ]
    }
   ],
   "source": [
    "nouns = 'bla dor sna'  #every possible N\n",
    "verbs = 'ha mog ge di' #every possible V\n",
    "#every possible SVO combo\n",
    "for s in nouns.split():\n",
    "\tfor v in verbs.split():\n",
    "\t\tfor o in nouns.split():\n",
    "\t\t\tprint(s,v,o)  #print combination"
   ]
  },
  {
   "cell_type": "code",
   "execution_count": 281,
   "id": "24cabfcb",
   "metadata": {
    "slideshow": {
     "slide_type": "slide"
    }
   },
   "outputs": [
    {
     "name": "stdout",
     "output_type": "stream",
     "text": [
      "bla ha\n",
      "bla mog bla\n",
      "bla mog dor\n",
      "bla mog sna\n",
      "bla ge\n",
      "bla di bla\n",
      "bla di dor\n",
      "bla di sna\n",
      "dor ha\n",
      "dor mog bla\n",
      "dor mog dor\n",
      "dor mog sna\n",
      "dor ge\n",
      "dor di bla\n",
      "dor di dor\n",
      "dor di sna\n",
      "sna ha\n",
      "sna mog bla\n",
      "sna mog dor\n",
      "sna mog sna\n",
      "sna ge\n",
      "sna di bla\n",
      "sna di dor\n",
      "sna di sna\n"
     ]
    }
   ],
   "source": [
    "\n",
    "\n",
    "nouns = 'bla dor sna'.split()  #Ns\n",
    "verbs = 'ha mog ge di'.split() #Vs\n",
    "ivs = 'ha ge'.split()          #intransitives\n",
    "#for every N and V\n",
    "for s in nouns:\n",
    "\tfor v in verbs:\n",
    "\t\t#if V is intransitive\n",
    "\t\tif v in ivs:\n",
    "\t\t\tprint(s,v)\n",
    "\t\t#otherwise it's transitive\n",
    "\t\telse:\n",
    "\t\t\tfor o in nouns:\n",
    "\t\t\t\tprint(s,v,o)"
   ]
  },
  {
   "cell_type": "code",
   "execution_count": 282,
   "id": "af14c5b8",
   "metadata": {
    "slideshow": {
     "slide_type": "slide"
    }
   },
   "outputs": [
    {
     "name": "stdout",
     "output_type": "stream",
     "text": [
      "bla ha\n",
      "bla mog vi\n",
      "bla mog dor\n",
      "bla mog sna\n",
      "bla ge\n",
      "bla di vi\n",
      "bla di dor\n",
      "bla di sna\n",
      "dor ha\n",
      "dor mog bla\n",
      "dor mog vi\n",
      "dor mog sna\n",
      "dor ge\n",
      "dor di bla\n",
      "dor di vi\n",
      "dor di sna\n",
      "sna ha\n",
      "sna mog bla\n",
      "sna mog dor\n",
      "sna mog vi\n",
      "sna ge\n",
      "sna di bla\n",
      "sna di dor\n",
      "sna di vi\n"
     ]
    }
   ],
   "source": [
    "\n",
    "nouns = 'bla dor sna'.split()  #Ns\n",
    "verbs = 'ha mog ge di'.split() #Vs\n",
    "ivs = 'ha ge'.split()          #intransitives\n",
    "#for every S+V combo:\n",
    "for s in nouns:\n",
    "\tfor v in verbs:\n",
    "\t\t#if verb is intransitive:\n",
    "\t\tif v in ivs:\n",
    "\t\t\tprint(s,v)\n",
    "\t\t#otherwise (transitives)\n",
    "\t\telse:\n",
    "\t\t\tfor o in nouns:\n",
    "\t\t\t\t#if subject and object the same\n",
    "\t\t\t\tif s == o:\n",
    "\t\t\t\t\t#replace O with reflexive\n",
    "\t\t\t\t\to = 'vi'\n",
    "\t\t\t\tprint(s,v,o)\n"
   ]
  }
 ],
 "metadata": {
  "celltoolbar": "Slideshow",
  "kernelspec": {
   "display_name": "Python 3 (ipykernel)",
   "language": "python",
   "name": "python3"
  },
  "language_info": {
   "codemirror_mode": {
    "name": "ipython",
    "version": 3
   },
   "file_extension": ".py",
   "mimetype": "text/x-python",
   "name": "python",
   "nbconvert_exporter": "python",
   "pygments_lexer": "ipython3",
   "version": "3.10.6"
  }
 },
 "nbformat": 4,
 "nbformat_minor": 5
}

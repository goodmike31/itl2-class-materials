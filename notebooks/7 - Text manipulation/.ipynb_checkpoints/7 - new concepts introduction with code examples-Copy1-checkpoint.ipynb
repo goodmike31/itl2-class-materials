{
 "cells": [
  {
   "cell_type": "markdown",
   "id": "c55f2926",
   "metadata": {
    "slideshow": {
     "slide_type": "slide"
    }
   },
   "source": [
    "# IT Skills for linguists 2\n",
    "## UAM, Faculty of English, 2BA\n",
    "### Topic: *Text manipulation*\n",
    "#### Poznań, 27.02.2023\n",
    "#### Teacher: mgr inż. Michał Junczyk\n"
   ]
  },
  {
   "cell_type": "markdown",
   "id": "a9352a30",
   "metadata": {},
   "source": [
    "# 7. Text manipulation"
   ]
  },
  {
   "cell_type": "markdown",
   "id": "dc7960c1",
   "metadata": {},
   "source": [
    "- Language researchers are often interested in\n",
    "  - Sifting through texts\n",
    "  - Finding words or phrases with particular properties\n",
    "- Previous class - regular expressions and pattern matching \n",
    "- This class -  manipulating text, converting one string of letters into another\n",
    "- Typical task in programs that deal with natural language.\n",
    "- RE functions *re.sub(), str.translate(), re.split()*, and the string method *join()*."
   ]
  },
  {
   "cell_type": "markdown",
   "id": "bb23ab63",
   "metadata": {},
   "source": [
    "## 7.1 String Manipulation Is Costly"
   ]
  },
  {
   "cell_type": "markdown",
   "id": "27c67f9f",
   "metadata": {},
   "source": [
    "- String manipulation of any sort is computationally intensive."
   ]
  },
  {
   "cell_type": "code",
   "execution_count": 22,
   "id": "efa3536b",
   "metadata": {},
   "outputs": [
    {
     "name": "stdout",
     "output_type": "stream",
     "text": [
      "Aplchcl\n"
     ]
    }
   ],
   "source": [
    "s = ''\n",
    "for i in 'Apalachicola':\n",
    "    if i not in 'aeiou':\n",
    "        s = s + i\n",
    "print(s)"
   ]
  },
  {
   "cell_type": "markdown",
   "id": "23804fb2",
   "metadata": {},
   "source": [
    "- every time letter is a nonvowel a new string is created <br> (when *s = s + 1* is invoked)\n",
    "- An old string s becomes available for garbage collection\n",
    "- if a string is long – or if operation is done on a lot of strings <br> a lot of new string and garbage collection is needed\n",
    "- solution: convert strings to lists before processing\n",
    "- yet, string manipulation is still costly!"
   ]
  },
  {
   "cell_type": "markdown",
   "id": "773a6095",
   "metadata": {},
   "source": [
    "## 7.2 Manipulating Text"
   ]
  },
  {
   "cell_type": "markdown",
   "id": "379cb263",
   "metadata": {},
   "source": [
    "- The *sub()* in the *re* module - simplest function for manipulating text is\n",
    "- Converts one string into another by pattern matching\n",
    "- Arguments:\n",
    "  - a pattern\n",
    "  - a replacement\n",
    "  - the string\n",
    "  - a maximum number of replacements count \n",
    "  - additional flags"
   ]
  },
  {
   "cell_type": "code",
   "execution_count": 23,
   "id": "96aa201d",
   "metadata": {},
   "outputs": [
    {
     "name": "stdout",
     "output_type": "stream",
     "text": [
      "This is a rather long string \n",
      " ThINS INS a rather longINString\n"
     ]
    }
   ],
   "source": [
    "# manip1.py\n",
    "import re\n",
    "#define a string\n",
    "s1 = 'This is a rather long string'\n",
    "#replace '.s' with 'WOW'\n",
    "s2 = re.sub('.s','INS',s1)\n",
    "#print old and new strings\n",
    "print(s1,'\\n',s2)"
   ]
  },
  {
   "cell_type": "markdown",
   "id": "0317c8cd",
   "metadata": {},
   "source": [
    "### Example of *max replacement count* argument usage"
   ]
  },
  {
   "cell_type": "code",
   "execution_count": 24,
   "id": "142c1956",
   "metadata": {},
   "outputs": [
    {
     "name": "stdout",
     "output_type": "stream",
     "text": [
      "This is a rather long string\n",
      "\t 1 : ThWOW is a rather long string\n",
      "\t 2 : ThWOW WOW a rather long string\n",
      "\t 3 : ThWOW WOW a rather longWOWtring\n"
     ]
    }
   ],
   "source": [
    "import re\n",
    "\n",
    "#a test string\n",
    "s1 = 'This is a rather long string'\n",
    "pat = '.s'\n",
    "#a pattern\n",
    "#find how many instances of the pattern\n",
    "\n",
    "countmax = len(re.findall(pat,s1))\n",
    "print(s1)\n",
    "\n",
    "#print the string\n",
    "i = 1\n",
    "#make substitutions 1 by 1\n",
    "while i < countmax+1:\n",
    "    #make a change\n",
    "    s2 = re.sub(pat,'WOW',s1,count=i)\n",
    "    #print that one change\n",
    "    print('\\t',i,':',s2)\n",
    "    i += 1\n",
    "    #increment counter"
   ]
  },
  {
   "cell_type": "markdown",
   "id": "ae9c9a2c",
   "metadata": {},
   "source": [
    "- *findall()* gives the max number of matched patterns\n",
    "- loop iterates through different numbers of substitutions\n",
    "- Notice: if *count = 0* all substitutions are made (rather than none)"
   ]
  },
  {
   "cell_type": "markdown",
   "id": "ed819f12",
   "metadata": {},
   "source": [
    "### Example of *flags* argument usage"
   ]
  },
  {
   "cell_type": "markdown",
   "id": "3e0e0a45",
   "metadata": {},
   "source": [
    "- The *flags* argument provides various options\n",
    "- Example: case-insensitive matching: *flags=RE.i*\n",
    "- Note - case-insensitive matching can be also achieved by adjusting the pattern"
   ]
  },
  {
   "cell_type": "code",
   "execution_count": 25,
   "id": "2da33a77",
   "metadata": {},
   "outputs": [
    {
     "name": "stdout",
     "output_type": "stream",
     "text": [
      "This is a rather long string\n",
      "This is a raWOWher long sWOWring\n",
      "WOWhis is a raWOWher long sWOWring\n",
      "WOWhis is a raWOWher long sWOWring\n"
     ]
    }
   ],
   "source": [
    "import re\n",
    "#a test string\n",
    "s1 = 'This is a rather long string'\n",
    "#do a replacement\n",
    "s2 = re.sub('t','WOW',s1)\n",
    "#do a case-insensitive replacement\n",
    "s3 = re.sub('t','WOW',s1,flags=re.I)\n",
    "#incorporate case directly in the pattern\n",
    "s4 = re.sub('t|T','WOW',s1)\n",
    "#show all three results\n",
    "print(s1,'\\n',s2,'\\n',s3,'\\n',s4,sep='')"
   ]
  },
  {
   "cell_type": "markdown",
   "id": "7dd9fc4e",
   "metadata": {},
   "source": [
    "### The String *translate()* function"
   ]
  },
  {
   "cell_type": "markdown",
   "id": "9d221b8e",
   "metadata": {},
   "source": [
    "- Useful for converting single letters to other single letters \n",
    "- Usage: \n",
    "  - str.maketrans() method - makes a translation table\n",
    "      - table specifies which letters are mapped to which\n",
    "      - table is later used to make the translation \n",
    "      - translation table is implemented as a Python dictionary\n",
    "      - two string arguments to str.maketrans() must be the same length"
   ]
  },
  {
   "cell_type": "code",
   "execution_count": 26,
   "id": "ef740f44",
   "metadata": {},
   "outputs": [
    {
     "name": "stdout",
     "output_type": "stream",
     "text": [
      "This is my sample string\n",
      "Thps ps my shmpla strpng\n"
     ]
    }
   ],
   "source": [
    "#make a translation table\n",
    "mytab = str.maketrans('aeiou','happy')\n",
    "#a test string\n",
    "s = 'This is my sample string'\n",
    "print(s)\n",
    "#print that string\n",
    "print(s.translate(mytab)) #print translation"
   ]
  },
  {
   "cell_type": "markdown",
   "id": "d0a2b252",
   "metadata": {},
   "source": [
    "### The *re.split()* function"
   ]
  },
  {
   "cell_type": "markdown",
   "id": "c0faaf14",
   "metadata": {},
   "source": [
    "- not be confused with the string method *split()*\n",
    "- The string *split()* splits a string up based on some specific **delimiter string**\n",
    "- The *re.split()* function splits a string based on a **regular expression** instead"
   ]
  },
  {
   "cell_type": "code",
   "execution_count": 27,
   "id": "4301d626",
   "metadata": {},
   "outputs": [
    {
     "name": "stdout",
     "output_type": "stream",
     "text": [
      "First sentence. Second sentence.\n",
      "s.split()\n",
      "\t\"First sentenc\"\n",
      "\t\" Second sentenc\"\n",
      "\t\"\"\n",
      "re.split()\n",
      "\t\"First s\"\n",
      "\t\"t\"\n",
      "\t\"c\"\n",
      "\t\" S\"\n",
      "\t\"ond s\"\n",
      "\t\"t\"\n",
      "\t\"c\"\n",
      "\t\"\"\n"
     ]
    }
   ],
   "source": [
    "#manip5.py\n",
    "import re\n",
    "\n",
    "#a test string\n",
    "s = 'First sentence. Second sentence.'\n",
    "ss1 = s.split('e.')    #do a regular split\n",
    "ss2 = re.split('e.',s) #do re.split\n",
    "print(s)               #print sentence\n",
    "#print split() results\n",
    "print('s.split()')\n",
    "for ss in ss1:\n",
    "    print('\\t\"',ss,'\"',sep='')\n",
    "#print re.split() results\n",
    "print('re.split()')\n",
    "for ss in ss2:\n",
    "    print('\\t\"',ss,'\"',sep='')"
   ]
  },
  {
   "cell_type": "markdown",
   "id": "c23ed213",
   "metadata": {},
   "source": [
    "- Program compares results of string method split() and re.split() with delimiter 'e.'. \n",
    "- The string method *split()* interprets delimiter literally and returns 3 strings\n",
    "- The *re.split()* interprets this as a regular expression and returns 8 strings\n",
    "- Note - different syntax\n",
    "  - The *re.split()* function takes two arguments\n",
    "  - the string to split is the second argument\n",
    "  - The *split()* method is suffixed to the string it operates on and takes a single argument of *delimiter*."
   ]
  },
  {
   "cell_type": "markdown",
   "id": "67bfab33",
   "metadata": {},
   "source": [
    "### The *re.join()* function"
   ]
  },
  {
   "cell_type": "markdown",
   "id": "c85430c8",
   "metadata": {},
   "source": [
    "- The *join()* function joins a list of strings together with a string infix\n",
    "- Syntax: The string it is suffixed to is the infix.\n",
    "    - single argument - list of strings"
   ]
  },
  {
   "cell_type": "code",
   "execution_count": 28,
   "id": "944804fd",
   "metadata": {},
   "outputs": [
    {
     "name": "stdout",
     "output_type": "stream",
     "text": [
      "This is a sentence.\n",
      "This-is-a-sentence.\n"
     ]
    }
   ],
   "source": [
    "s = 'This is a sentence.' #a test sentence\n",
    "wds = s.split()\n",
    "#split into words\n",
    "hyphen = '-'\n",
    "#define hyphen\n",
    "#join bits with hyphen\n",
    "hyphenated = hyphen.join(wds)\n",
    "#print original sentence\n",
    "print(s)\n",
    "#print hyphenated sentence\n",
    "print(hyphenated)"
   ]
  },
  {
   "cell_type": "code",
   "execution_count": null,
   "id": "be1099d5",
   "metadata": {},
   "outputs": [],
   "source": []
  }
 ],
 "metadata": {
  "kernelspec": {
   "display_name": "Python 3 (ipykernel)",
   "language": "python",
   "name": "python3"
  },
  "language_info": {
   "codemirror_mode": {
    "name": "ipython",
    "version": 3
   },
   "file_extension": ".py",
   "mimetype": "text/x-python",
   "name": "python",
   "nbconvert_exporter": "python",
   "pygments_lexer": "ipython3",
   "version": "3.10.6"
  }
 },
 "nbformat": 4,
 "nbformat_minor": 5
}

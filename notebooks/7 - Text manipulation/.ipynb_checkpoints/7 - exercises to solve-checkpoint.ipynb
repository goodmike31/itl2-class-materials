{
 "cells": [
  {
   "cell_type": "markdown",
   "id": "a3532282",
   "metadata": {},
   "source": [
    "# 7.1 \n",
    "Imagine you have some sentence s and you do this:<br>\n",
    "*' '.join(s.split())<br>*\n",
    "Will that have any effect? If so, what and when?<br>"
   ]
  },
  {
   "cell_type": "markdown",
   "id": "a37e6fa6",
   "metadata": {},
   "source": [
    "# 7.7 \n",
    "Use the translate() method to create a function that does the work of upper().\n"
   ]
  },
  {
   "cell_type": "markdown",
   "id": "780fec54",
   "metadata": {},
   "source": [
    "# 7.8 \n",
    "Write your own function that will do the work of translate()."
   ]
  },
  {
   "cell_type": "markdown",
   "id": "2cf8b933",
   "metadata": {},
   "source": [
    "# 7.10\n",
    "Write a program that converts active sentences in English to passive sentences. <br> This means changing the verbal morphology and adjusting word order as required.\n"
   ]
  },
  {
   "cell_type": "markdown",
   "id": "2b8c7669",
   "metadata": {},
   "source": [
    "# 7.11 \n",
    "Web: There is also a function re.subn() that we have not discussed. <br>\n",
    "Snoop around to find out what it does, explain it, and write a program that makes good use of it."
   ]
  },
  {
   "cell_type": "code",
   "execution_count": null,
   "id": "d70416d5",
   "metadata": {},
   "outputs": [],
   "source": []
  }
 ],
 "metadata": {
  "kernelspec": {
   "display_name": "Python 3 (ipykernel)",
   "language": "python",
   "name": "python3"
  },
  "language_info": {
   "codemirror_mode": {
    "name": "ipython",
    "version": 3
   },
   "file_extension": ".py",
   "mimetype": "text/x-python",
   "name": "python",
   "nbconvert_exporter": "python",
   "pygments_lexer": "ipython3",
   "version": "3.10.6"
  }
 },
 "nbformat": 4,
 "nbformat_minor": 5
}

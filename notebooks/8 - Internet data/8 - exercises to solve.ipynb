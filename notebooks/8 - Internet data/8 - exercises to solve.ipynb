{
 "cells": [
  {
   "cell_type": "markdown",
   "id": "013bc445",
   "metadata": {},
   "source": [
    "# 8.1 \n",
    "Augment the webcrawler code so that you can restart the system with existing files. <br>The basic idea is that you might want to add urls and additional data.\n"
   ]
  },
  {
   "cell_type": "code",
   "execution_count": null,
   "id": "c011837a",
   "metadata": {},
   "outputs": [],
   "source": []
  },
  {
   "cell_type": "markdown",
   "id": "24b9f1db",
   "metadata": {},
   "source": [
    "# 8.2 \n",
    "The webcrawler is slow. Rewrite it so that it uses parallel techniques and runs faster. This is hard!\n"
   ]
  },
  {
   "cell_type": "code",
   "execution_count": null,
   "id": "3a16eb90",
   "metadata": {},
   "outputs": [],
   "source": []
  },
  {
   "cell_type": "markdown",
   "id": "f6b8a223",
   "metadata": {},
   "source": [
    "# 8.3\n",
    "The webcrawler is designed to search for Welsh webpages. Convert it to a different language."
   ]
  },
  {
   "cell_type": "code",
   "execution_count": null,
   "id": "3840fe5a",
   "metadata": {},
   "outputs": [],
   "source": []
  },
  {
   "cell_type": "markdown",
   "id": "af20e1e2",
   "metadata": {},
   "source": [
    "# 8.4 \n",
    "The welsh() function in the webcrawler program can be revised in many ways.<br>\n",
    "Can you come up with another approach?<br>\n",
    "Design a test program so that your new function can be compared against the one in the text.\n"
   ]
  },
  {
   "cell_type": "code",
   "execution_count": null,
   "id": "97fb4127",
   "metadata": {},
   "outputs": [],
   "source": []
  },
  {
   "cell_type": "markdown",
   "id": "509adb28",
   "metadata": {},
   "source": [
    "# 8.5\n",
    "Write a function that takes a url as an argument and returns any items on the page marked with the <strong> tag.\n"
   ]
  },
  {
   "cell_type": "code",
   "execution_count": null,
   "id": "fc01de6a",
   "metadata": {},
   "outputs": [],
   "source": []
  },
  {
   "cell_type": "markdown",
   "id": "1704f3d7",
   "metadata": {},
   "source": [
    "# 8.6 \n",
    "Write a function that takes a url as an argument and extracts and prints any ordered lists marked with \\<ol>.<br> Note that individual items in such a list are marked with \\<li>. Also, make sure each item in the list is clearly separated and numbered appropriately. Use BeautifulSoup to do this.\n"
   ]
  },
  {
   "cell_type": "code",
   "execution_count": null,
   "id": "687fc64b",
   "metadata": {},
   "outputs": [],
   "source": []
  },
  {
   "cell_type": "markdown",
   "id": "6d723f30",
   "metadata": {},
   "source": [
    "# 8.7 \n",
    "Do the same thing as in the previous exercise but without using BeautifulSoup.\n"
   ]
  },
  {
   "cell_type": "code",
   "execution_count": null,
   "id": "f869b1f3",
   "metadata": {},
   "outputs": [],
   "source": []
  },
  {
   "cell_type": "markdown",
   "id": "50e4ca64",
   "metadata": {},
   "source": [
    "# 8.8 \n",
    "Write a function that takes a webpage in some encoding as an argument.\n",
    "Your function should apply the chardet.detect() function to the page incrementally and report back how much of the page in bytes had to\n",
    "be read to reach a certain confidence level (that you specify) to identify the encoding.\n"
   ]
  },
  {
   "cell_type": "code",
   "execution_count": null,
   "id": "3fa026ed",
   "metadata": {},
   "outputs": [],
   "source": []
  },
  {
   "cell_type": "markdown",
   "id": "ccf3a3f4",
   "metadata": {},
   "source": [
    "# 8.9 \n",
    "Do the same thing as in the previous exercise but use UnicodeDammit.\n",
    "Which does better?\n"
   ]
  },
  {
   "cell_type": "code",
   "execution_count": null,
   "id": "e31d28e9",
   "metadata": {},
   "outputs": [],
   "source": []
  },
  {
   "cell_type": "markdown",
   "id": "72ee1c04",
   "metadata": {},
   "source": [
    "# 8.10 \n",
    "Choose a language and do some research on what encodings are typically used for it on the web. Then find examples of each on the web.\n"
   ]
  },
  {
   "cell_type": "code",
   "execution_count": null,
   "id": "5732b187",
   "metadata": {},
   "outputs": [],
   "source": []
  },
  {
   "cell_type": "markdown",
   "id": "e96160bf",
   "metadata": {},
   "source": [
    "# 8.11 \n",
    "Tweak the webcrawler program from the preceding chapter so that it reports whether it finds the <meta charset=...> tag and what value it returns. Your code should save this as a separate field in the XML results file.\n"
   ]
  },
  {
   "cell_type": "code",
   "execution_count": null,
   "id": "6dbd20cc",
   "metadata": {},
   "outputs": [],
   "source": []
  },
  {
   "cell_type": "markdown",
   "id": "073dc44e",
   "metadata": {},
   "source": [
    "# 8.12 \n",
    "What special challenges occur with respect to text encoding when a language is written right to left? Explain the problem and show how it can\n"
   ]
  },
  {
   "cell_type": "code",
   "execution_count": null,
   "id": "c9c3f6f2",
   "metadata": {},
   "outputs": [],
   "source": []
  }
 ],
 "metadata": {
  "kernelspec": {
   "display_name": "Python 3 (ipykernel)",
   "language": "python",
   "name": "python3"
  },
  "language_info": {
   "codemirror_mode": {
    "name": "ipython",
    "version": 3
   },
   "file_extension": ".py",
   "mimetype": "text/x-python",
   "name": "python",
   "nbconvert_exporter": "python",
   "pygments_lexer": "ipython3",
   "version": "3.10.6"
  }
 },
 "nbformat": 4,
 "nbformat_minor": 5
}

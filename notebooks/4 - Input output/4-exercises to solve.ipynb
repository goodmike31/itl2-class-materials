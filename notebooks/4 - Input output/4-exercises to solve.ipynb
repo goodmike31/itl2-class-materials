{
 "cells": [
  {
   "cell_type": "markdown",
   "id": "4d07555d",
   "metadata": {},
   "source": [
    "# Task 4.1 \n",
    "Tweak the io3.py program to accommodate uppercase vowels."
   ]
  },
  {
   "cell_type": "code",
   "execution_count": 6,
   "id": "8a1109dc",
   "metadata": {},
   "outputs": [],
   "source": [
    "#solution"
   ]
  },
  {
   "cell_type": "markdown",
   "id": "5a886e57",
   "metadata": {},
   "source": [
    "# Task 4.2\n",
    "Tweak the io3.py program to count both vowels and consonants. Make\n",
    "sure it can handle both uppercase and lowercase letters."
   ]
  },
  {
   "cell_type": "code",
   "execution_count": 7,
   "id": "980d3e72",
   "metadata": {},
   "outputs": [],
   "source": [
    "#solution"
   ]
  },
  {
   "cell_type": "markdown",
   "id": "94b40aa4",
   "metadata": {},
   "source": [
    "# Task 4.3\n",
    "Tweak the above (from 4.1) program to count letters from a list the user supplies.\n",
    "Thus the first command-line argument is a sequence of letters. \n",
    "These are the letters the program will count. \n",
    "The remaining words on the command line are those that the counts are performed on."
   ]
  },
  {
   "cell_type": "code",
   "execution_count": 8,
   "id": "4ca32952",
   "metadata": {},
   "outputs": [],
   "source": [
    "#solution\n",
    "solution.py aeisds test_word test_word2 "
   ]
  },
  {
   "cell_type": "markdown",
   "id": "1f578394",
   "metadata": {},
   "source": [
    "# Task 4.4\n",
    "What happens if we feed data into io6.py and then again into io6.py?\n",
    "... | python io6.py | python io6.py"
   ]
  },
  {
   "cell_type": "code",
   "execution_count": 9,
   "id": "00f43320",
   "metadata": {},
   "outputs": [],
   "source": [
    "# explanation"
   ]
  },
  {
   "cell_type": "markdown",
   "id": "86d92a24",
   "metadata": {},
   "source": [
    "# Task 4.5\n",
    "The programs io14.py and io15.py produce slightly different output. Why?"
   ]
  },
  {
   "cell_type": "code",
   "execution_count": 10,
   "id": "a3ea7a33",
   "metadata": {},
   "outputs": [],
   "source": [
    "# explanation"
   ]
  },
  {
   "cell_type": "markdown",
   "id": "eb0b5965",
   "metadata": {},
   "source": [
    "# Task 4.6\n",
    "Write a program that takes input from stdin and converts what it gets to\n",
    "lowercase. Show how this program can be used transitively, in between\n",
    "two other programs, i.e., prog1 | prog2 | prog3."
   ]
  },
  {
   "cell_type": "code",
   "execution_count": 11,
   "id": "e8502c35",
   "metadata": {},
   "outputs": [],
   "source": [
    "#solution (note - to run from command line code must be saved as .py file)"
   ]
  },
  {
   "cell_type": "markdown",
   "id": "f200749c",
   "metadata": {},
   "source": [
    "# Task 4.7\n",
    "Write a program that takes a simple mathematical expression on the command line like '7 / 45', parses it correctly, and prints the result."
   ]
  },
  {
   "cell_type": "code",
   "execution_count": 12,
   "id": "2abe2dc5",
   "metadata": {},
   "outputs": [],
   "source": [
    "#solution (note - to run from command line code must be saved as .py file)"
   ]
  },
  {
   "cell_type": "markdown",
   "id": "fa4513cc",
   "metadata": {},
   "source": [
    "# Task 4.8\n",
    "Write a program that goes through the Alice text and prints out all multiple wh- questions. We define these as questions that begin with a *wh-* word and contain at least one more wh- word in the question. (If you already know what they are, you may not use regular expressions.)"
   ]
  },
  {
   "cell_type": "code",
   "execution_count": 13,
   "id": "3db2eae4",
   "metadata": {},
   "outputs": [],
   "source": [
    "#solution"
   ]
  },
  {
   "cell_type": "markdown",
   "id": "257251ec",
   "metadata": {},
   "source": [
    "# Task 4.9\n",
    "\n",
    "Write a program that:<br>\n",
    "(a) Reads in the Alice file;<br>\n",
    "(b) strips off the header;<br>\n",
    "(c) converts everything to lowercase;<br>\n",
    "(d) converts all punctuation to spaces;<br>\n",
    "(e) splits the text into words;<br>\n",
    "(f) counts up how frequent all words are;<br>\n",
    "(g) prints out the 10 most frequent words and their counts.<br>"
   ]
  },
  {
   "cell_type": "code",
   "execution_count": 14,
   "id": "b4a5191c",
   "metadata": {},
   "outputs": [],
   "source": [
    "#solution"
   ]
  },
  {
   "cell_type": "markdown",
   "id": "7b8806ac",
   "metadata": {},
   "source": [
    "# Task 4.10\n",
    "Web: The write() function will also let you append to an existing file. Snoop around on the web for how to do this and write a brief program that exemplifies."
   ]
  },
  {
   "cell_type": "code",
   "execution_count": 15,
   "id": "791fb1d4",
   "metadata": {},
   "outputs": [],
   "source": [
    "#solution"
   ]
  },
  {
   "cell_type": "code",
   "execution_count": null,
   "id": "ad18269a",
   "metadata": {},
   "outputs": [],
   "source": []
  }
 ],
 "metadata": {
  "kernelspec": {
   "display_name": "Python 3 (ipykernel)",
   "language": "python",
   "name": "python3"
  },
  "language_info": {
   "codemirror_mode": {
    "name": "ipython",
    "version": 3
   },
   "file_extension": ".py",
   "mimetype": "text/x-python",
   "name": "python",
   "nbconvert_exporter": "python",
   "pygments_lexer": "ipython3",
   "version": "3.10.6"
  }
 },
 "nbformat": 4,
 "nbformat_minor": 5
}

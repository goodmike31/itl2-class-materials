{
 "cells": [
  {
   "cell_type": "markdown",
   "id": "c55f2926",
   "metadata": {
    "slideshow": {
     "slide_type": "slide"
    }
   },
   "source": [
    "# IT Skills for linguists 2\n",
    "## UAM, Faculty of English, 2BA\n",
    "### Topic: *Input - output*\n",
    "#### Poznań, 12.12.2022\n",
    "#### Teacher: mgr inż. Michał Junczyk\n"
   ]
  },
  {
   "cell_type": "code",
   "execution_count": null,
   "id": "f36e8eea",
   "metadata": {
    "slideshow": {
     "slide_type": "skip"
    }
   },
   "outputs": [
    {
     "name": "stdout",
     "output_type": "stream",
     "text": [
      "[NbConvertApp] Converting notebook 4-follow-along.ipynb to slides\n",
      "[NbConvertApp] Writing 691696 bytes to 4-follow-along.slides.html\n",
      "[NbConvertApp] Redirecting reveal.js requests to https://cdnjs.cloudflare.com/ajax/libs/reveal.js/3.5.0\n",
      "Serving your slides at http://127.0.0.1:8000/4-follow-along.slides.html\n",
      "Use Control-C to stop this server\n"
     ]
    }
   ],
   "source": [
    "!jupyter nbconvert \"4-follow-along.ipynb\" --to slides --post serve"
   ]
  },
  {
   "cell_type": "markdown",
   "id": "de264232",
   "metadata": {
    "slideshow": {
     "slide_type": "slide"
    }
   },
   "source": [
    "- Variables (data structures) + control structures - full power of Python available!\n",
    "- Yet, to do anything useful programs must run on actual data. \n",
    "- For us as linguists, actual data means words, sentences, texts, sounds, etc.\n",
    "- So far, all data was coded as part of the program (e.g. vowel counting)\n",
    "- Goal for today - open-ended programs responding to files or user-entered data (not precoded)"
   ]
  },
  {
   "cell_type": "markdown",
   "id": "2e285641",
   "metadata": {
    "slideshow": {
     "slide_type": "slide"
    }
   },
   "source": [
    "# Input interfaces\n",
    "- Ways of **inputting** data:\n",
    "  - Command-line - Data entered on the command line when the program is invoked.\n",
    "  - Standard input - programs take input from other programs.\n",
    "  - Keyboard input - user enter data when prompted by the program.\n",
    "  - File input–output program reads data from or write data to files.\n",
    "  - Web - program reads data in from web pages."
   ]
  },
  {
   "cell_type": "markdown",
   "id": "8a095730",
   "metadata": {
    "slideshow": {
     "slide_type": "slide"
    }
   },
   "source": [
    "## Command-Line Input\n",
    "- input data can be provided in command line e.g.<br> *python myprogram.py my_input.txt*\n",
    "- values are stored in predefined **sys.argv** variable \n",
    "- to use it, first **sys** module must be imported\n"
   ]
  },
  {
   "cell_type": "markdown",
   "id": "51cca605",
   "metadata": {
    "slideshow": {
     "slide_type": "subslide"
    }
   },
   "source": [
    "#### io1.py content:\n",
    "\n",
    "import sys <br>\n",
    "print(sys.argv)"
   ]
  },
  {
   "cell_type": "markdown",
   "id": "82a35af9",
   "metadata": {
    "slideshow": {
     "slide_type": "subslide"
    }
   },
   "source": [
    "> python io1.py<br>\n",
    "['io1.py']<br><br>\n",
    "> python io1.py nouns<br>\n",
    "['io1.py','nouns']<br><br>\n",
    "> python io1.py 3<br>\n",
    "['io1.py','3']<br><br>\n",
    "> python io1.py this is a cat<br>\n",
    "['io1.py','this','is','a','cat']<br><br>\n",
    "> python io1.py '3 > 1'<br>\n",
    "['io1.py','3 > 1']<br><br>"
   ]
  },
  {
   "cell_type": "markdown",
   "id": "5c437abc",
   "metadata": {
    "slideshow": {
     "slide_type": "subslide"
    }
   },
   "source": [
    "- input arguments are separated with whitespaces. \n",
    "- arguments are **positional**. There's no explicit assignement (input_param1=value1, input_param2 = value2)\n",
    "- sys.argv[0] stores the name of the script\n",
    "- sys.argv[1] stores the value of first input argument\n",
    "- sys.argv[2] stores the value of second input argument\n",
    "- etc."
   ]
  },
  {
   "cell_type": "code",
   "execution_count": null,
   "id": "5359f002",
   "metadata": {
    "slideshow": {
     "slide_type": "fragment"
    }
   },
   "outputs": [],
   "source": [
    "!cd 4-standalone-scripts-and-files && python3 io1.py test test2 test3"
   ]
  },
  {
   "cell_type": "code",
   "execution_count": null,
   "id": "1ff56dc1",
   "metadata": {
    "slideshow": {
     "slide_type": "fragment"
    }
   },
   "outputs": [],
   "source": [
    "!cd 4-standalone-scripts-and-files && python3 io1.py 1 2 3 4 5 6"
   ]
  },
  {
   "cell_type": "markdown",
   "id": "98578d91",
   "metadata": {
    "slideshow": {
     "slide_type": "subslide"
    }
   },
   "source": [
    "### command line input - single argument"
   ]
  },
  {
   "cell_type": "code",
   "execution_count": null,
   "id": "5cb5eb41",
   "metadata": {
    "slideshow": {
     "slide_type": "fragment"
    }
   },
   "outputs": [],
   "source": [
    "import sys         #make sys.argv available\n",
    "\n",
    "vowels = 'aeiou'   #define vowels\n",
    "# notice that previously word value was coded in the program itself\n",
    "word = sys.argv[1] #get word from command-line\n",
    "\n",
    "counter = 0        #proceed as before...\n",
    "vowelcount = 0\n",
    "while counter < len(word):\n",
    "\tif word[counter] in vowels:\n",
    "\t\tvowelcount += 1\n",
    "\tcounter += 1\n",
    "else:\n",
    "\tprint('There are',vowelcount,\n",
    "\t\t'vowels in this word')\n",
    "\n"
   ]
  },
  {
   "cell_type": "code",
   "execution_count": null,
   "id": "eba55ff8",
   "metadata": {
    "slideshow": {
     "slide_type": "fragment"
    }
   },
   "outputs": [],
   "source": [
    "!cd 4-standalone-scripts-and-files && python3 io2.py abc"
   ]
  },
  {
   "cell_type": "code",
   "execution_count": null,
   "id": "282ea590",
   "metadata": {
    "slideshow": {
     "slide_type": "fragment"
    }
   },
   "outputs": [],
   "source": [
    "!cd 4-standalone-scripts-and-files && python3 io2.py abcde"
   ]
  },
  {
   "cell_type": "markdown",
   "id": "bb3c3c8c",
   "metadata": {
    "slideshow": {
     "slide_type": "subslide"
    }
   },
   "source": [
    "### command line input - multiple arguments"
   ]
  },
  {
   "cell_type": "code",
   "execution_count": null,
   "id": "544c3da4",
   "metadata": {
    "slideshow": {
     "slide_type": "fragment"
    }
   },
   "outputs": [],
   "source": [
    "import sys       #make sys.argv available\n",
    "\n",
    "vowels = 'aeiou' #define vowels\n",
    "#iterate over all words in list\n",
    "for word in sys.argv[1:]:\n",
    "\tcounter = 0   #proceed as before\n",
    "\tvowelcount = 0\n",
    "\twhile counter < len(word):\n",
    "\t\tif word[counter] in vowels:\n",
    "\t\t\tvowelcount += 1\n",
    "\t\tcounter += 1\n",
    "\telse:\n",
    "\t\tprint('There are',vowelcount,\n",
    "\t\t\t'vowels in',word)\n",
    "\n"
   ]
  },
  {
   "cell_type": "code",
   "execution_count": null,
   "id": "f6ad1ed7",
   "metadata": {
    "slideshow": {
     "slide_type": "subslide"
    }
   },
   "outputs": [],
   "source": [
    "!cd 4-standalone-scripts-and-files && python3 io3.py abc abcde abcdefghi"
   ]
  },
  {
   "cell_type": "markdown",
   "id": "4ee97923",
   "metadata": {
    "slideshow": {
     "slide_type": "slide"
    }
   },
   "source": [
    "## Standard input (STDIN)"
   ]
  },
  {
   "cell_type": "markdown",
   "id": "f1b12318",
   "metadata": {
    "slideshow": {
     "slide_type": "subslide"
    }
   },
   "source": [
    "- all programs can receive input data via standard input (stdin)\n",
    "- any program can produce output as standard output (stdout). \n",
    "- Output usually printed to the screen\n",
    "- Output can be read or given as input to other programs."
   ]
  },
  {
   "cell_type": "markdown",
   "id": "3c1dff72",
   "metadata": {
    "slideshow": {
     "slide_type": "subslide"
    }
   },
   "source": [
    "- Output of one program is directly fed to a second program.\n",
    "- Available via a variable from the sys module: **sys.stdin**"
   ]
  },
  {
   "cell_type": "code",
   "execution_count": null,
   "id": "a88f36f8",
   "metadata": {
    "slideshow": {
     "slide_type": "fragment"
    }
   },
   "outputs": [],
   "source": [
    "#io4.py\n",
    "\n",
    "import sys\n",
    "\n",
    "for line in sys.stdin:\n",
    "\tprint(line)\n"
   ]
  },
  {
   "cell_type": "code",
   "execution_count": null,
   "id": "a4a1ded4",
   "metadata": {
    "slideshow": {
     "slide_type": "fragment"
    }
   },
   "outputs": [],
   "source": [
    "!cd 4-standalone-scripts-and-files && echo -e \"column1\\tcolumn2\\nvalue1\\tvalue2\" | python3 io4.py\n",
    "!cd 4-standalone-scripts-and-files && echo -e \"1 2 3\" | python3 io4.py"
   ]
  },
  {
   "cell_type": "markdown",
   "id": "8b515678",
   "metadata": {
    "slideshow": {
     "slide_type": "subslide"
    }
   },
   "source": [
    "Let's change our exmaple so it take multiple words from stdin\n"
   ]
  },
  {
   "cell_type": "code",
   "execution_count": null,
   "id": "6508df07",
   "metadata": {
    "slideshow": {
     "slide_type": "fragment"
    }
   },
   "outputs": [],
   "source": [
    "#io5.py\n",
    "\n",
    "import sys\n",
    "\n",
    "vowels = 'aeiou'              #define vowels\n",
    "#get each line in stdin\n",
    "for words in sys.stdin:\n",
    "\tfor word in words.split(): #break into words\n",
    "\t\t#do same as before to each\n",
    "\t\tcounter = 0\n",
    "\t\tvowelcount = 0\n",
    "\t\twhile counter < len(word):\n",
    "\t\t\tif word[counter] in vowels:\n",
    "\t\t\t\tvowelcount += 1\n",
    "\t\t\tcounter += 1\n",
    "\t\telse:\n",
    "\t\t\tprint('There are',vowelcount,\n",
    "\t\t\t\t'vowels in',word)\n",
    "\n"
   ]
  },
  {
   "cell_type": "code",
   "execution_count": null,
   "id": "28b76e8a",
   "metadata": {
    "slideshow": {
     "slide_type": "subslide"
    }
   },
   "outputs": [],
   "source": [
    "!cd 4-standalone-scripts-and-files && echo -e \"example\" | python3 io5.py"
   ]
  },
  {
   "cell_type": "code",
   "execution_count": null,
   "id": "1f1631bc",
   "metadata": {
    "slideshow": {
     "slide_type": "fragment"
    }
   },
   "outputs": [],
   "source": [
    "!echo -e \"first\\nsecond\\n\"\n",
    "!cd 4-standalone-scripts-and-files && echo -e \"first\\nsecond\" | python3 io5.py"
   ]
  },
  {
   "cell_type": "markdown",
   "id": "3d48ac60",
   "metadata": {
    "slideshow": {
     "slide_type": "subslide"
    }
   },
   "source": [
    "Let's add printing line number"
   ]
  },
  {
   "cell_type": "code",
   "execution_count": null,
   "id": "0837b0af",
   "metadata": {
    "slideshow": {
     "slide_type": "fragment"
    }
   },
   "outputs": [],
   "source": [
    "#io6.py:import sys\n",
    "\n",
    "vowels = 'aeiou'    #vowels\n",
    "line = 1            #line number\n",
    "#for each line in stdin\n",
    "for words in sys.stdin:\n",
    "\t#print line number\n",
    "\tprint('This is line',line)\n",
    "\tline += 1        #increment line count\n",
    "\t#break line into words\n",
    "\tfor word in words.split():\n",
    "\t\tcounter = 0   #continue as before\n",
    "\t\tvowelcount = 0\n",
    "\t\twhile counter < len(word):\n",
    "\t\t\tif word[counter] in vowels:\n",
    "\t\t\t\tvowelcount += 1\n",
    "\t\t\tcounter += 1\n",
    "\t\telse:\n",
    "\t\t\tprint('\\tThere are ',vowelcount,\n",
    "\t\t\t\t' vowels in \"',word,'\"',sep='')\n",
    "\n"
   ]
  },
  {
   "cell_type": "code",
   "execution_count": null,
   "id": "2b0d8651",
   "metadata": {
    "slideshow": {
     "slide_type": "subslide"
    }
   },
   "outputs": [],
   "source": [
    "!echo -e \"first\\nsecond\\n\"\n",
    "!cd 4-standalone-scripts-and-files && echo -e \"first\\nsecond\" | python3 io6.py"
   ]
  },
  {
   "cell_type": "code",
   "execution_count": null,
   "id": "21243b41",
   "metadata": {
    "slideshow": {
     "slide_type": "subslide"
    }
   },
   "outputs": [],
   "source": [
    "!echo -e \"first line\\nsecond line\\n\"\n",
    "!cd 4-standalone-scripts-and-files && echo -e \"first line\\nsecond line\" | python3 io6.py"
   ]
  },
  {
   "cell_type": "markdown",
   "id": "fa44f777",
   "metadata": {
    "slideshow": {
     "slide_type": "subslide"
    }
   },
   "source": [
    "### Reading files via STDIN"
   ]
  },
  {
   "cell_type": "code",
   "execution_count": null,
   "id": "26186f84",
   "metadata": {
    "slideshow": {
     "slide_type": "fragment"
    }
   },
   "outputs": [],
   "source": [
    "#linux\n",
    "!cat 4-standalone-scripts-and-files/test.txt\n",
    "#windows\n",
    "#!copy \n",
    "#!type "
   ]
  },
  {
   "cell_type": "code",
   "execution_count": null,
   "id": "b977023b",
   "metadata": {
    "slideshow": {
     "slide_type": "subslide"
    }
   },
   "outputs": [],
   "source": [
    "!cd 4-standalone-scripts-and-files && cat test.txt | python3 io6.py"
   ]
  },
  {
   "cell_type": "markdown",
   "id": "6948e9af",
   "metadata": {
    "slideshow": {
     "slide_type": "subslide"
    }
   },
   "source": [
    "### STDIN - take-aways\n",
    "- stdin can accommodate multiple line\n",
    "- files can contain any amount of data\n",
    "- variable assignment and control structures give us the full power of Python;\n",
    "- unbounded input like STDIN allows applying its power to a problem of any size."
   ]
  },
  {
   "cell_type": "markdown",
   "id": "3be17789",
   "metadata": {
    "slideshow": {
     "slide_type": "slide"
    }
   },
   "source": [
    "## Keyboard input"
   ]
  },
  {
   "cell_type": "markdown",
   "id": "e415f431",
   "metadata": {
    "slideshow": {
     "slide_type": "fragment"
    }
   },
   "source": [
    "- input data can be requested from the user. \n",
    "- programs may pause at some point and wait for the user to enter data.\n",
    "- function input()\n",
    "  - takes a single string argument.\n",
    "  - prints argument and returns what the user types in response as a string."
   ]
  },
  {
   "cell_type": "code",
   "execution_count": null,
   "id": "be6ee75f",
   "metadata": {
    "slideshow": {
     "slide_type": "fragment"
    }
   },
   "outputs": [],
   "source": [
    "theInput = input('Type something: ')\n",
    "print('You typed \"',theInput,'\"',sep='')\n",
    "\n"
   ]
  },
  {
   "cell_type": "code",
   "execution_count": null,
   "id": "0e9349fe",
   "metadata": {
    "slideshow": {
     "slide_type": "subslide"
    }
   },
   "outputs": [],
   "source": [
    "# return value is always string\n",
    "# if numbers are wanted must be converted\n",
    "#collect two numbers\n",
    "n1 = input('Enter a number: ')\n",
    "n2 = input('Enter another number: ')\n",
    "#convert to integers and add\n",
    "n3 = int(n1) + int(n2)\n",
    "print('The sum is:',n3)  #return result"
   ]
  },
  {
   "cell_type": "markdown",
   "id": "3a884c96",
   "metadata": {
    "slideshow": {
     "slide_type": "subslide"
    }
   },
   "source": [
    "### Guessing game"
   ]
  },
  {
   "cell_type": "code",
   "execution_count": null,
   "id": "6b6b686a",
   "metadata": {
    "slideshow": {
     "slide_type": "fragment"
    }
   },
   "outputs": [],
   "source": [
    "import random\n",
    "\n",
    "letters = 'abcdefghijklmnopqrstuvwxyz'\n",
    "\n",
    "#get random letter\n",
    "letter = letters[random.randint(0,25)]\n",
    "\n",
    "while True:              #loop until correct\n",
    "\t#prompt them to type a letter\n",
    "\tguess = input('Type a lower-case letter: ')\n",
    "\t#check that it's actually a letter\n",
    "\tif guess not in letters:\n",
    "\t\tprint(\"That's not a lower-case letter.\")\n",
    "\t\tcontinue\n",
    "\tif guess == letter:   #if they're right\n",
    "\t\tprint(\"That's right!\")\n",
    "\t\tbreak\n",
    "\t#give them a hint if they're wrong\n",
    "\tif guess > letter:\n",
    "\t\tprint(\"It's earler in the alphabet.\")\n",
    "\telse:\n",
    "\t\tprint(\"It's later in the alphabet.\")\n",
    "\n"
   ]
  },
  {
   "cell_type": "markdown",
   "id": "ec117179",
   "metadata": {
    "slideshow": {
     "slide_type": "subslide"
    }
   },
   "source": [
    "### Eval function for interpreting input"
   ]
  },
  {
   "cell_type": "markdown",
   "id": "85ef7843",
   "metadata": {
    "slideshow": {
     "slide_type": "fragment"
    }
   },
   "source": [
    "- input() function returns a string, which can be converted to a number \n",
    "- Can user enter actual Python variables or functions?\n"
   ]
  },
  {
   "cell_type": "markdown",
   "id": "b400e264",
   "metadata": {
    "slideshow": {
     "slide_type": "subslide"
    }
   },
   "source": [
    "For example, imagine we have three variables x, y, and z. <br>\n",
    "We want the user to select one to print its content. <br>\n"
   ]
  },
  {
   "cell_type": "code",
   "execution_count": null,
   "id": "81106a1f",
   "metadata": {
    "slideshow": {
     "slide_type": "subslide"
    }
   },
   "outputs": [],
   "source": [
    "# incorrect code\n",
    "# not what we want!\n",
    "x = 'Tom'\n",
    "y = 'Dick'\n",
    "z = 'Harry'\n",
    "\n",
    "result = input('Type x, y, or z: ')\n",
    "\n",
    "print(result)\n",
    "\n"
   ]
  },
  {
   "cell_type": "code",
   "execution_count": null,
   "id": "54147bc0",
   "metadata": {},
   "outputs": [],
   "source": [
    "#correct code\n",
    "#set up three variables\n",
    "x = 'Tom'\n",
    "y = 'Dick'\n",
    "z = 'Harry'\n",
    "#collect user input\n",
    "result = input('Type x, y, or z: ')\n",
    "\n",
    "#evaluate and print result\n",
    "print(eval(result))\n",
    "\n"
   ]
  },
  {
   "cell_type": "markdown",
   "id": "d3568724",
   "metadata": {
    "slideshow": {
     "slide_type": "slide"
    }
   },
   "source": [
    "## File Input–Output"
   ]
  },
  {
   "cell_type": "markdown",
   "id": "00aba2f2",
   "metadata": {
    "slideshow": {
     "slide_type": "subslide"
    }
   },
   "source": [
    "- usual way to input or output large amounts of data is from or to files.\n",
    "- program should be written to respond to any amount of data.\n",
    "- program reads and processes (valid) data at once or chunk by chunk."
   ]
  },
  {
   "cell_type": "markdown",
   "id": "2b3fcd6e",
   "metadata": {
    "slideshow": {
     "slide_type": "subslide"
    }
   },
   "source": [
    "- Writing to files, in principle, is a **dangerous operation**\n",
    "- Best practices:\n",
    "  - Do not experiment with important files. **Create toy files to play with.**\n",
    "  - When you do want to start working on your own files, use **copies**, not original files.\n",
    "  - Create a new directory to learn file operations, storing only not important files or copies."
   ]
  },
  {
   "cell_type": "markdown",
   "id": "98f450f9",
   "metadata": {
    "slideshow": {
     "slide_type": "subslide"
    }
   },
   "source": [
    "### Text files\n"
   ]
  },
  {
   "cell_type": "markdown",
   "id": "5dd71c53",
   "metadata": {
    "slideshow": {
     "slide_type": "fragment"
    }
   },
   "source": [
    "- Python can work with many different files formats.\n",
    "- Yet, simple text files are best to start with.\n"
   ]
  },
  {
   "cell_type": "markdown",
   "id": "bd8fd51b",
   "metadata": {
    "slideshow": {
     "slide_type": "subslide"
    }
   },
   "source": [
    "#### Example - saving text to file"
   ]
  },
  {
   "cell_type": "markdown",
   "id": "add2bef7",
   "metadata": {
    "slideshow": {
     "slide_type": "fragment"
    }
   },
   "source": [
    "- Create a stream or pathway to a file\n",
    "- print to that stream\n",
    "- close the stream"
   ]
  },
  {
   "cell_type": "code",
   "execution_count": null,
   "id": "ab05162d",
   "metadata": {
    "slideshow": {
     "slide_type": "fragment"
    }
   },
   "outputs": [],
   "source": [
    "#open file stream\n",
    "outFile = open('testfile.txt','w')\n",
    "#write to it\n",
    "outFile.write('some text!\\n')\n",
    "outFile.write('...and some more text!\\n')\n",
    "outFile.close()   #close file stream"
   ]
  },
  {
   "cell_type": "code",
   "execution_count": null,
   "id": "433c56a6",
   "metadata": {
    "slideshow": {
     "slide_type": "fragment"
    }
   },
   "outputs": [],
   "source": [
    "!cat testfile.txt"
   ]
  },
  {
   "cell_type": "markdown",
   "id": "5fda083f",
   "metadata": {
    "slideshow": {
     "slide_type": "subslide"
    }
   },
   "source": [
    "#### Example - reading from file"
   ]
  },
  {
   "cell_type": "code",
   "execution_count": null,
   "id": "a6666743",
   "metadata": {
    "slideshow": {
     "slide_type": "fragment"
    }
   },
   "outputs": [],
   "source": [
    "#open file stream\n",
    "inFile = open('testfile.txt','r')\n",
    "stuff = inFile.read() #read form it\n",
    "inFile.close()        #close stream\n",
    "print(stuff)          #print contents\n",
    "\n"
   ]
  },
  {
   "cell_type": "markdown",
   "id": "40312319",
   "metadata": {
    "slideshow": {
     "slide_type": "subslide"
    }
   },
   "source": [
    "#### Example - reading from file line by line"
   ]
  },
  {
   "cell_type": "code",
   "execution_count": null,
   "id": "8ae8e6d0",
   "metadata": {
    "slideshow": {
     "slide_type": "fragment"
    }
   },
   "outputs": [],
   "source": [
    "#open file\n",
    "inFile = open('testfile.txt','r')\n",
    "stuff = inFile.read()     #read file contents\n",
    "inFile.close()            #close file\n",
    "\n",
    "# first read then split into lines\n",
    "lines = stuff.split('\\n') #split into lines\n",
    "#print lines and lengths\n",
    "for line in lines:\n",
    "\tprint(len(line),': ',line,sep='')\n",
    "\n"
   ]
  },
  {
   "cell_type": "code",
   "execution_count": null,
   "id": "0fbdb06a",
   "metadata": {
    "slideshow": {
     "slide_type": "subslide"
    }
   },
   "outputs": [],
   "source": [
    "# read file line by line - more efficient for large file inputs\n",
    "# open file\n",
    "inFile = open('testfile.txt','r')\n",
    "#read from stream line by line\n",
    "for line in inFile:\n",
    "\t#print length of line and the line\n",
    "\tprint(len(line),': ',line,sep='',end='')\n",
    "inFile.close()   #close file stream\n",
    "\n"
   ]
  },
  {
   "cell_type": "markdown",
   "id": "f359f7da",
   "metadata": {
    "slideshow": {
     "slide_type": "slide"
    }
   },
   "source": [
    "### Different files formats\n",
    " - Python can handle specialized or proprietary file formats as well.\n",
    " - For example:\n",
    "   - for audio: wave  (wav)\n",
    "   - for tabular data - Microsoft Excel files (xls, xlsx)\n",
    " - Usually require specialized modules"
   ]
  },
  {
   "cell_type": "markdown",
   "id": "9eda131d",
   "metadata": {
    "slideshow": {
     "slide_type": "slide"
    }
   },
   "source": [
    "## Example of lexical statistics - Alice’s Adventures in Wonderland "
   ]
  },
  {
   "cell_type": "markdown",
   "id": "3b86ca0c",
   "metadata": {
    "slideshow": {
     "slide_type": "subslide"
    }
   },
   "source": [
    "### Reading file"
   ]
  },
  {
   "cell_type": "code",
   "execution_count": null,
   "id": "61da3af1",
   "metadata": {
    "slideshow": {
     "slide_type": "subslide"
    }
   },
   "outputs": [],
   "source": [
    "count = 0                 #counter for lines\n",
    "f = open('alice.txt','r') #open the file\n",
    "for line in f:            #read line by line\n",
    "\tcount += 1\n",
    "f.close()                 #close file\n",
    "print('lines:',count)     #print line count\n",
    "\n"
   ]
  },
  {
   "cell_type": "markdown",
   "id": "0efc62fa",
   "metadata": {
    "slideshow": {
     "slide_type": "subslide"
    }
   },
   "source": [
    "### Saving lines in a list"
   ]
  },
  {
   "cell_type": "code",
   "execution_count": null,
   "id": "4fac3caa",
   "metadata": {
    "slideshow": {
     "slide_type": "fragment"
    }
   },
   "outputs": [],
   "source": [
    "count = 0      #counter for lines\n",
    "lines = []     #list for line contents\n",
    "#open file\n",
    "f = open('alice.txt','r')\n",
    "for line in f: #read it line by line\n",
    "\tcount += 1  #add 1 to counter\n",
    "\t#add current line to list\n",
    "\tlines.append(line)\n",
    "f.close()      #close the file\n",
    "#print number of lines read\n",
    "print('lines:',count)\n",
    "#print number of lines saved\n",
    "print('saved lines:',len(lines))\n",
    "\n"
   ]
  },
  {
   "cell_type": "markdown",
   "id": "130fa65f",
   "metadata": {
    "slideshow": {
     "slide_type": "subslide"
    }
   },
   "source": [
    "### Printing first few lines"
   ]
  },
  {
   "cell_type": "code",
   "execution_count": null,
   "id": "53dd50d3",
   "metadata": {
    "slideshow": {
     "slide_type": "fragment"
    }
   },
   "outputs": [],
   "source": [
    "lines = []     #list to save lines\n",
    "#open file\n",
    "f = open('alice.txt','r')\n",
    "for line in f: #read line by line\n",
    "\t#save each line in list\n",
    "\tlines.append(line)\n",
    "f.close()      #close file\n",
    "i = 0          #print first 100 lines\n",
    "while i < 10:\n",
    "\tprint(lines[i])\n",
    "\ti += 1\n",
    "\n"
   ]
  },
  {
   "cell_type": "markdown",
   "id": "f2354192",
   "metadata": {
    "slideshow": {
     "slide_type": "subslide"
    }
   },
   "source": [
    "### Printing first few lines - without extra line break"
   ]
  },
  {
   "cell_type": "code",
   "execution_count": null,
   "id": "9e131fa4",
   "metadata": {
    "slideshow": {
     "slide_type": "fragment"
    }
   },
   "outputs": [],
   "source": [
    "lines = []     #list to save lines\n",
    "#open file\n",
    "f = open('alice.txt','r')\n",
    "for line in f: #read line by line\n",
    "\t#save lines to list\n",
    "\tlines.append(line)\n",
    "f.close()      #close file\n",
    "i = 0          #print first 100 lines\n",
    "while i < 10:\n",
    "\t#don't add a return to the line!\n",
    "\tprint(lines[i],end='')\n",
    "\ti += 1\n",
    "\n"
   ]
  },
  {
   "cell_type": "markdown",
   "id": "c75b8386",
   "metadata": {
    "slideshow": {
     "slide_type": "subslide"
    }
   },
   "source": [
    "### Skip the Project Gutenberg header (255 lines)"
   ]
  },
  {
   "cell_type": "code",
   "execution_count": null,
   "id": "883335f0",
   "metadata": {
    "slideshow": {
     "slide_type": "fragment"
    }
   },
   "outputs": [],
   "source": [
    "lines = []     #list for lines\n",
    "#open file\n",
    "f = open('alice.txt','r')\n",
    "for line in f: #read lines one by one\n",
    "\t#add lines to list\n",
    "\tlines.append(line)\n",
    "f.close()      #close file\n",
    "#strip off first 255 lines\n",
    "lines = lines[255:]\n",
    "i = 0          #print first 50 lines\n",
    "while i < 15:\n",
    "\t#still don't add a return!\n",
    "\tprint(lines[i],end='')\n",
    "\ti += 1\n",
    "\n"
   ]
  },
  {
   "cell_type": "markdown",
   "id": "6a822629",
   "metadata": {
    "slideshow": {
     "slide_type": "subslide"
    }
   },
   "source": [
    "### Analysis of the lexical content of the file. \n",
    "- is there a correlation between word length and word frequency?\n",
    "- are more frequent words shorter than less frequent words?"
   ]
  },
  {
   "cell_type": "markdown",
   "id": "c817568a",
   "metadata": {
    "slideshow": {
     "slide_type": "subslide"
    }
   },
   "source": [
    "#### Get a list of words"
   ]
  },
  {
   "cell_type": "code",
   "execution_count": null,
   "id": "2ee265af",
   "metadata": {
    "slideshow": {
     "slide_type": "fragment"
    }
   },
   "outputs": [],
   "source": [
    "words = []     #list of all words\n",
    "lines = []     #list of all lines\n",
    "\n",
    "#open file\n",
    "f = open('alice.txt','r')\n",
    "for line in f: #save lines one by one\n",
    "\tlines.append(line)\n",
    "f.close()      #close file\n",
    "\n",
    "#remove Gutenberg header\n",
    "lines = lines[255:]\n",
    "\n",
    "#go through lines one by one\n",
    "for line in lines:\n",
    "\t#break each line into words\n",
    "\twds = line.split()\n",
    "\t#add words to list\n",
    "\twords += wds\n",
    "\n",
    "i = 0 #print first 100 words\n",
    "while i < 10:\n",
    "\tprint(i,words[i])\n",
    "\ti += 1\n",
    "\n"
   ]
  },
  {
   "cell_type": "markdown",
   "id": "01a3f1ac",
   "metadata": {
    "slideshow": {
     "slide_type": "subslide"
    }
   },
   "source": [
    "###  Count length of each word without punctuation\n"
   ]
  },
  {
   "cell_type": "code",
   "execution_count": null,
   "id": "1b7ade26",
   "metadata": {
    "slideshow": {
     "slide_type": "fragment"
    }
   },
   "outputs": [],
   "source": [
    "words = []     #list of all words\n",
    "lines = []     #list of all lines\n",
    "\n",
    "f = open('alice.txt','r')\n",
    "for line in f: #save lines one by one\n",
    "\tlines.append(line)\n",
    "f.close()      #close file\n",
    "\n",
    "lines = lines[255:]\n",
    "\n",
    "for line in lines:\n",
    "\twds = line.split()      #break into words\n",
    "\twords += wds            #add to list\n",
    "\n",
    "#print first 100 words and letter counts\n",
    "i = 0\n",
    "while i < 10:\n",
    "\t#store the count for the current word\n",
    "\tcount = 0\n",
    "\t#convert the current word to lowercase\n",
    "\tword = words[i].lower()\n",
    "\t#go through word letter by letter\n",
    "\t#if lowercase, add 1 to count\n",
    "\tfor l in word:\n",
    "\t\tif l in \"abcdefghijklmnopqrstuvwxyz\":\n",
    "\t\t\tcount += 1\n",
    "\tprint(i,words[i],count) #print it all\n",
    "\ti += 1\n",
    "\n"
   ]
  },
  {
   "cell_type": "markdown",
   "id": "678cce47",
   "metadata": {
    "slideshow": {
     "slide_type": "subslide"
    }
   },
   "source": [
    "### Count frequency of occurence of word of given length"
   ]
  },
  {
   "cell_type": "code",
   "execution_count": null,
   "id": "4241d3a3",
   "metadata": {
    "slideshow": {
     "slide_type": "subslide"
    }
   },
   "outputs": [],
   "source": [
    "words = []       #list of all words\n",
    "lines = []       #list of all lines\n",
    "wordlengths = {} #dictionary of word lengths\n",
    "\n",
    "#open file\n",
    "f = open('alice.txt','r')\n",
    "for line in f:   #save lines one by one\n",
    "\tlines.append(line)\n",
    "f.close()        #close file\n",
    "\n",
    "#remove Gutenberg header\n",
    "lines = lines[255:]\n",
    "for line in lines:\n",
    "\t#break each line into words\n",
    "\twds = line.split()\n",
    "\t#add the words to the list\n",
    "\twords += wds\n",
    "for wd in words:\n",
    "\tcount = 0     #count for current word\n",
    "\t#convert current word to lowercase\n",
    "\tword = wd.lower()\n",
    "\t#go through word letter by letter\n",
    "\t#if lowercase, add 1 to count\n",
    "\tfor l in word:\n",
    "\t\tif l in \"abcdefghijklmnopqrstuvwxyz\":\n",
    "\t\t\tcount += 1\n",
    "\t#check if we've seen this length before\n",
    "\tif count in wordlengths:\n",
    "\t\t#if so add 1\n",
    "\t\twordlengths[count] += 1\n",
    "\telse:\n",
    "\t\t#if not, set to 1\n",
    "\t\twordlengths[count] = 1\n",
    "\n",
    "#print out counts for each word length\n",
    "for c in wordlengths:\n",
    "\tprint(c,wordlengths[c])\n",
    "\n"
   ]
  },
  {
   "cell_type": "markdown",
   "id": "1544f425",
   "metadata": {
    "slideshow": {
     "slide_type": "subslide"
    }
   },
   "source": [
    "### Save results to file\n"
   ]
  },
  {
   "cell_type": "code",
   "execution_count": null,
   "id": "ef6f5c2b",
   "metadata": {
    "slideshow": {
     "slide_type": "subslide"
    }
   },
   "outputs": [],
   "source": [
    "words = []       #list of all words\n",
    "lines = []       #list of all lines\n",
    "wordlengths = {} #dictionary of word lengths\n",
    "\n",
    "#open file\n",
    "f = open('alice.txt','r')\n",
    "#save lines one by one\n",
    "for line in f:\n",
    "\tlines.append(line)\n",
    "f.close()        #close the file\n",
    "\n",
    "#remove Gutenberg header\n",
    "lines = lines[255:]\n",
    "\n",
    "#go through lines one by one\n",
    "for line in lines:\n",
    "\t#break each line into words\n",
    "\twds = line.split()\n",
    "\t#add words to the list\n",
    "\twords += wds\n",
    "\n",
    "for wd in words:\n",
    "\tcount = 0     #count for current word\n",
    "\t#convert current word to lowercase\n",
    "\tword = wd.lower()\n",
    "\t#go through word letter by letter\n",
    "\t#if lowercase, add 1 to count\n",
    "\tfor l in word:\n",
    "\t\tif l in \"abcdefghijklmnopqrstuvwxyz\":\n",
    "\t\t\tcount += 1\n",
    "\t#check if we've seen this length already\n",
    "\tif count in wordlengths:\n",
    "\t\t#if so add 1\n",
    "\t\twordlengths[count] += 1\n",
    "\telse:\n",
    "\t\t#if not, set to 1\n",
    "\t\twordlengths[count] = 1\n",
    "\n",
    "#open output file\n",
    "g = open('res26.txt','w')\n",
    "#print out counts for each word length\n",
    "for c in wordlengths:\n",
    "\tclen = str(wordlengths[c])\n",
    "\tres = str(c) + ': ' + clen + '\\n'\n",
    "\tg.write(res)\n",
    "g.close()        #close output file\n",
    "\n"
   ]
  },
  {
   "cell_type": "code",
   "execution_count": null,
   "id": "15628b56",
   "metadata": {
    "slideshow": {
     "slide_type": "subslide"
    }
   },
   "outputs": [],
   "source": [
    "!cat res26.txt | head -n 12"
   ]
  },
  {
   "cell_type": "markdown",
   "id": "ee35de45",
   "metadata": {
    "slideshow": {
     "slide_type": "slide"
    }
   },
   "source": [
    "### Take-aways from the lexical analysis example"
   ]
  },
  {
   "cell_type": "markdown",
   "id": "b5f6bbe6",
   "metadata": {
    "slideshow": {
     "slide_type": "subslide"
    }
   },
   "source": [
    "- Each program element was introduced separately <br>(reading file, splitting into lines, counting length etc.)\n",
    "- This way it's easier to examine and understand what each is doing.\n",
    "- Stepwise construction is how you should write your own programs. \n",
    "- You should build step by step, checking at each point that program performs as you want \n",
    "- You check this by:\n",
    "  - printing the value of variables at each point \n",
    "  - checking that they are what you want.\n",
    "  - If they are, you strip out those print statements and go on to the next step,<br> printing out the new variables of interest.\n",
    "- This style of building programs is not just for beginners. \n",
    "- Get comfortable with it and make it part of your programming habits."
   ]
  },
  {
   "cell_type": "code",
   "execution_count": null,
   "id": "a4e3d820",
   "metadata": {},
   "outputs": [],
   "source": []
  },
  {
   "cell_type": "code",
   "execution_count": null,
   "id": "ee7e21b4",
   "metadata": {},
   "outputs": [],
   "source": []
  },
  {
   "cell_type": "code",
   "execution_count": null,
   "id": "c903ece8",
   "metadata": {},
   "outputs": [],
   "source": []
  },
  {
   "cell_type": "code",
   "execution_count": null,
   "id": "a007cccc",
   "metadata": {},
   "outputs": [],
   "source": []
  }
 ],
 "metadata": {
  "celltoolbar": "Slideshow",
  "kernelspec": {
   "display_name": "Python 3 (ipykernel)",
   "language": "python",
   "name": "python3"
  },
  "language_info": {
   "codemirror_mode": {
    "name": "ipython",
    "version": 3
   },
   "file_extension": ".py",
   "mimetype": "text/x-python",
   "name": "python",
   "nbconvert_exporter": "python",
   "pygments_lexer": "ipython3",
   "version": "3.10.6"
  }
 },
 "nbformat": 4,
 "nbformat_minor": 5
}

{
 "cells": [
  {
   "cell_type": "code",
   "execution_count": 1,
   "id": "8189feeb",
   "metadata": {
    "slideshow": {
     "slide_type": "skip"
    }
   },
   "outputs": [
    {
     "name": "stdout",
     "output_type": "stream",
     "text": [
      "[NbConvertApp] Converting notebook 1-follow-along.ipynb to slides\n",
      "[NbConvertApp] Writing 660626 bytes to 1-follow-along.slides.html\n",
      "[NbConvertApp] Redirecting reveal.js requests to https://cdnjs.cloudflare.com/ajax/libs/reveal.js/3.5.0\n",
      "Traceback (most recent call last):\n",
      "  File \"/home/michal/.local/bin/jupyter-nbconvert\", line 8, in <module>\n",
      "    sys.exit(main())\n",
      "  File \"/home/michal/.local/lib/python3.10/site-packages/jupyter_core/application.py\", line 269, in launch_instance\n",
      "    return super().launch_instance(argv=argv, **kwargs)\n",
      "  File \"/home/michal/.local/lib/python3.10/site-packages/traitlets/config/application.py\", line 976, in launch_instance\n",
      "    app.start()\n",
      "  File \"/home/michal/.local/lib/python3.10/site-packages/nbconvert/nbconvertapp.py\", line 426, in start\n",
      "    self.convert_notebooks()\n",
      "  File \"/home/michal/.local/lib/python3.10/site-packages/nbconvert/nbconvertapp.py\", line 600, in convert_notebooks\n",
      "    self.convert_single_notebook(notebook_filename)\n",
      "  File \"/home/michal/.local/lib/python3.10/site-packages/nbconvert/nbconvertapp.py\", line 567, in convert_single_notebook\n",
      "    self.postprocess_single_notebook(write_results)\n",
      "  File \"/home/michal/.local/lib/python3.10/site-packages/nbconvert/nbconvertapp.py\", line 537, in postprocess_single_notebook\n",
      "    self.postprocessor(write_results)\n",
      "  File \"/home/michal/.local/lib/python3.10/site-packages/nbconvert/postprocessors/base.py\", line 27, in __call__\n",
      "    self.postprocess(input)\n",
      "  File \"/home/michal/.local/lib/python3.10/site-packages/nbconvert/postprocessors/serve.py\", line 91, in postprocess\n",
      "    http_server.listen(self.port, address=self.ip)\n",
      "  File \"/home/michal/.local/lib/python3.10/site-packages/tornado/tcpserver.py\", line 183, in listen\n",
      "    sockets = bind_sockets(\n",
      "  File \"/home/michal/.local/lib/python3.10/site-packages/tornado/netutil.py\", line 162, in bind_sockets\n",
      "    sock.bind(sockaddr)\n",
      "OSError: [Errno 98] Address already in use\n"
     ]
    }
   ],
   "source": [
    "!jupyter nbconvert \"1-follow-along.ipynb\" --to slides --post serve"
   ]
  },
  {
   "attachments": {
    "python-for-linguist-cover.jpg": {
     "image/jpeg": "[encoded data removed]"
    }
   },
   "cell_type": "markdown",
   "id": "d496cf71",
   "metadata": {
    "slideshow": {
     "slide_type": "slide"
    }
   },
   "source": [
    "Lecture materials and exercises will be mostly based on the book \"Python for linguists\", by Michael Hammond.\n",
    "![python-for-linguist-cover.jpg](attachment:python-for-linguist-cover.jpg)\n"
   ]
  },
  {
   "cell_type": "markdown",
   "id": "89dddc70",
   "metadata": {
    "slideshow": {
     "slide_type": "slide"
    }
   },
   "source": [
    "## Basic Interactions\n",
    "We will generally interact with Python by writing programs and then running\n",
    "them from the command line. At this point, however, let’s try to understand\n",
    "Python a bit better in the interactive environment. In this environment, you can\n",
    "type legal Python statements and they are immediately evaluated. For example,\n",
    "you can perform mathematical calculations like multiplication, addition, and\n",
    "exponentiation."
   ]
  },
  {
   "cell_type": "code",
   "execution_count": 42,
   "id": "f83fa282",
   "metadata": {
    "slideshow": {
     "slide_type": "subslide"
    }
   },
   "outputs": [
    {
     "data": {
      "text/plain": [
       "35"
      ]
     },
     "execution_count": 42,
     "metadata": {},
     "output_type": "execute_result"
    }
   ],
   "source": [
    "5*7\n"
   ]
  },
  {
   "cell_type": "code",
   "execution_count": 43,
   "id": "1c77937e",
   "metadata": {
    "slideshow": {
     "slide_type": "fragment"
    }
   },
   "outputs": [
    {
     "data": {
      "text/plain": [
       "15.9"
      ]
     },
     "execution_count": 43,
     "metadata": {},
     "output_type": "execute_result"
    }
   ],
   "source": [
    "13 + 2.9"
   ]
  },
  {
   "cell_type": "code",
   "execution_count": 44,
   "id": "69180ef6",
   "metadata": {
    "slideshow": {
     "slide_type": "fragment"
    }
   },
   "outputs": [
    {
     "data": {
      "text/plain": [
       "0.0013717421124828531"
      ]
     },
     "execution_count": 44,
     "metadata": {},
     "output_type": "execute_result"
    }
   ],
   "source": [
    "9 ** -3"
   ]
  },
  {
   "cell_type": "code",
   "execution_count": 45,
   "id": "0898cdc8",
   "metadata": {
    "slideshow": {
     "slide_type": "fragment"
    }
   },
   "outputs": [
    {
     "data": {
      "text/plain": [
       "-8"
      ]
     },
     "execution_count": 45,
     "metadata": {},
     "output_type": "execute_result"
    }
   ],
   "source": [
    " 7 - 15"
   ]
  },
  {
   "cell_type": "markdown",
   "id": "85d0e7cc",
   "metadata": {
    "slideshow": {
     "slide_type": "slide"
    }
   },
   "source": [
    "As linguists, we will want to operate on words and sentences, and these must\n",
    "be entered in single or double quotes. In general terms, we will refer to these\n",
    "as character strings.\n"
   ]
  },
  {
   "cell_type": "code",
   "execution_count": 46,
   "id": "70254546",
   "metadata": {
    "slideshow": {
     "slide_type": "subslide"
    }
   },
   "outputs": [],
   "source": [
    "text1='This is a sentence'\n"
   ]
  },
  {
   "cell_type": "code",
   "execution_count": 47,
   "id": "980effee",
   "metadata": {
    "slideshow": {
     "slide_type": "fragment"
    }
   },
   "outputs": [],
   "source": [
    "text2=\"This is another one\""
   ]
  },
  {
   "cell_type": "markdown",
   "id": "17d9acca",
   "metadata": {
    "slideshow": {
     "slide_type": "slide"
    }
   },
   "source": [
    "Interestingly, some of the mathematical operators above can be used with character strings as well and have different effects. With numbers + is addition, but with strings it concatenates. With numbers * is multiplication, but with a string and a number it repeats the string."
   ]
  },
  {
   "cell_type": "code",
   "execution_count": 48,
   "id": "8867b7ef",
   "metadata": {
    "slideshow": {
     "slide_type": "subslide"
    }
   },
   "outputs": [
    {
     "data": {
      "text/plain": [
       "'onetwo'"
      ]
     },
     "execution_count": 48,
     "metadata": {},
     "output_type": "execute_result"
    }
   ],
   "source": [
    "\"one\" + \"two\""
   ]
  },
  {
   "cell_type": "code",
   "execution_count": 49,
   "id": "56f20d9a",
   "metadata": {
    "slideshow": {
     "slide_type": "fragment"
    }
   },
   "outputs": [],
   "source": [
    "concatenated = \"one\" + \"two\""
   ]
  },
  {
   "cell_type": "code",
   "execution_count": 50,
   "id": "53bfe104",
   "metadata": {
    "slideshow": {
     "slide_type": "fragment"
    }
   },
   "outputs": [
    {
     "data": {
      "text/plain": [
       "'onetwo'"
      ]
     },
     "execution_count": 50,
     "metadata": {},
     "output_type": "execute_result"
    }
   ],
   "source": [
    "concatenated"
   ]
  },
  {
   "cell_type": "code",
   "execution_count": 51,
   "id": "7ea3f6ad",
   "metadata": {
    "slideshow": {
     "slide_type": "fragment"
    }
   },
   "outputs": [
    {
     "data": {
      "text/plain": [
       "'oneone'"
      ]
     },
     "execution_count": 51,
     "metadata": {},
     "output_type": "execute_result"
    }
   ],
   "source": [
    "multiplied = \"one\" * 2\n",
    "multiplied"
   ]
  },
  {
   "cell_type": "code",
   "execution_count": 52,
   "id": "b2b783de",
   "metadata": {
    "slideshow": {
     "slide_type": "fragment"
    }
   },
   "outputs": [
    {
     "data": {
      "text/plain": [
       "'oneone'"
      ]
     },
     "execution_count": 52,
     "metadata": {},
     "output_type": "execute_result"
    }
   ],
   "source": [
    " \"one\" * 2"
   ]
  },
  {
   "cell_type": "markdown",
   "id": "00e58806",
   "metadata": {
    "slideshow": {
     "slide_type": "slide"
    }
   },
   "source": [
    "There are some functions that operate directly on strings. The len()\n",
    "function returns the number of characters in a string."
   ]
  },
  {
   "cell_type": "code",
   "execution_count": 53,
   "id": "3a0fe213",
   "metadata": {
    "slideshow": {
     "slide_type": "subslide"
    }
   },
   "outputs": [
    {
     "data": {
      "text/plain": [
       "9"
      ]
     },
     "execution_count": 53,
     "metadata": {},
     "output_type": "execute_result"
    }
   ],
   "source": [
    "len('phonetics')"
   ]
  },
  {
   "cell_type": "markdown",
   "id": "a81813be",
   "metadata": {
    "slideshow": {
     "slide_type": "slide"
    }
   },
   "source": [
    "The type() function can operate on strings or numbers and returns the\n",
    "general “type” of the object it applies to."
   ]
  },
  {
   "cell_type": "code",
   "execution_count": 54,
   "id": "290b2a6e",
   "metadata": {
    "slideshow": {
     "slide_type": "subslide"
    }
   },
   "outputs": [
    {
     "data": {
      "text/plain": [
       "int"
      ]
     },
     "execution_count": 54,
     "metadata": {},
     "output_type": "execute_result"
    }
   ],
   "source": [
    "type(3)"
   ]
  },
  {
   "cell_type": "code",
   "execution_count": 55,
   "id": "38e18ff0",
   "metadata": {
    "slideshow": {
     "slide_type": "fragment"
    }
   },
   "outputs": [
    {
     "data": {
      "text/plain": [
       "float"
      ]
     },
     "execution_count": 55,
     "metadata": {},
     "output_type": "execute_result"
    }
   ],
   "source": [
    "type(7.2)"
   ]
  },
  {
   "cell_type": "code",
   "execution_count": 56,
   "id": "09993551",
   "metadata": {
    "slideshow": {
     "slide_type": "fragment"
    }
   },
   "outputs": [
    {
     "data": {
      "text/plain": [
       "str"
      ]
     },
     "execution_count": 56,
     "metadata": {},
     "output_type": "execute_result"
    }
   ],
   "source": [
    "type('phoneme')"
   ]
  },
  {
   "cell_type": "markdown",
   "id": "03ec650e",
   "metadata": {
    "slideshow": {
     "slide_type": "slide"
    }
   },
   "source": [
    "If you use parantheses with numbers, then you change the basic type of the object.\n",
    "Consider the difference here:"
   ]
  },
  {
   "cell_type": "code",
   "execution_count": 57,
   "id": "1b1778ce",
   "metadata": {
    "slideshow": {
     "slide_type": "subslide"
    }
   },
   "outputs": [
    {
     "data": {
      "text/plain": [
       "11"
      ]
     },
     "execution_count": 57,
     "metadata": {},
     "output_type": "execute_result"
    }
   ],
   "source": [
    "7+4"
   ]
  },
  {
   "cell_type": "code",
   "execution_count": 58,
   "id": "6d0a9b44",
   "metadata": {
    "slideshow": {
     "slide_type": "fragment"
    }
   },
   "outputs": [
    {
     "data": {
      "text/plain": [
       "'74'"
      ]
     },
     "execution_count": 58,
     "metadata": {},
     "output_type": "execute_result"
    }
   ],
   "source": [
    "'7'+'4'"
   ]
  },
  {
   "cell_type": "code",
   "execution_count": 59,
   "id": "5fc9eecf",
   "metadata": {
    "slideshow": {
     "slide_type": "fragment"
    }
   },
   "outputs": [
    {
     "ename": "TypeError",
     "evalue": "unsupported operand type(s) for +: 'int' and 'str'",
     "output_type": "error",
     "traceback": [
      "\u001b[0;31m---------------------------------------------------------------------------\u001b[0m",
      "\u001b[0;31mTypeError\u001b[0m                                 Traceback (most recent call last)",
      "Cell \u001b[0;32mIn [59], line 1\u001b[0m\n\u001b[0;32m----> 1\u001b[0m \u001b[38;5;241;43m7\u001b[39;49m\u001b[43m \u001b[49m\u001b[38;5;241;43m+\u001b[39;49m\u001b[43m \u001b[49m\u001b[38;5;124;43m'\u001b[39;49m\u001b[38;5;124;43m4\u001b[39;49m\u001b[38;5;124;43m'\u001b[39;49m\n",
      "\u001b[0;31mTypeError\u001b[0m: unsupported operand type(s) for +: 'int' and 'str'"
     ]
    }
   ],
   "source": [
    "7 + '4'"
   ]
  },
  {
   "cell_type": "code",
   "execution_count": 60,
   "id": "38863e7c",
   "metadata": {
    "slideshow": {
     "slide_type": "subslide"
    }
   },
   "outputs": [
    {
     "data": {
      "text/plain": [
       "'74'"
      ]
     },
     "execution_count": 60,
     "metadata": {},
     "output_type": "execute_result"
    }
   ],
   "source": [
    "num_str='7'\n",
    "num_str + '4'"
   ]
  },
  {
   "cell_type": "code",
   "execution_count": 61,
   "id": "c42a2ee1",
   "metadata": {
    "slideshow": {
     "slide_type": "fragment"
    }
   },
   "outputs": [
    {
     "ename": "TypeError",
     "evalue": "unsupported operand type(s) for +: 'int' and 'str'",
     "output_type": "error",
     "traceback": [
      "\u001b[0;31m---------------------------------------------------------------------------\u001b[0m",
      "\u001b[0;31mTypeError\u001b[0m                                 Traceback (most recent call last)",
      "Cell \u001b[0;32mIn [61], line 2\u001b[0m\n\u001b[1;32m      1\u001b[0m num_int\u001b[38;5;241m=\u001b[39m\u001b[38;5;241m7\u001b[39m\n\u001b[0;32m----> 2\u001b[0m \u001b[43mnum_int\u001b[49m\u001b[43m \u001b[49m\u001b[38;5;241;43m+\u001b[39;49m\u001b[43m \u001b[49m\u001b[38;5;124;43m'\u001b[39;49m\u001b[38;5;124;43m4\u001b[39;49m\u001b[38;5;124;43m'\u001b[39;49m\n",
      "\u001b[0;31mTypeError\u001b[0m: unsupported operand type(s) for +: 'int' and 'str'"
     ]
    }
   ],
   "source": [
    "num_int=7\n",
    "num_int + '4'"
   ]
  },
  {
   "cell_type": "code",
   "execution_count": 62,
   "id": "58b7b830",
   "metadata": {
    "slideshow": {
     "slide_type": "fragment"
    }
   },
   "outputs": [
    {
     "data": {
      "text/plain": [
       "'74'"
      ]
     },
     "execution_count": 62,
     "metadata": {},
     "output_type": "execute_result"
    }
   ],
   "source": [
    "str(num_int) + '4'"
   ]
  },
  {
   "cell_type": "markdown",
   "id": "46ee1520",
   "metadata": {
    "slideshow": {
     "slide_type": "slide"
    }
   },
   "source": [
    "Recall that the + operator can apply to strings or numbers, but has different effects with each. When it applies to numbers, it performs addition.\n",
    "When it applies to strings, it performs string concatenation. We see here that when numbers are put in quotes they are treated as strings rather than as numbers.\n",
    "There are functions for converting back and forth between character strings, integers, and floating point numbers:"
   ]
  },
  {
   "cell_type": "code",
   "execution_count": 63,
   "id": "e767128b",
   "metadata": {
    "slideshow": {
     "slide_type": "subslide"
    }
   },
   "outputs": [
    {
     "data": {
      "text/plain": [
       "10"
      ]
     },
     "execution_count": 63,
     "metadata": {},
     "output_type": "execute_result"
    }
   ],
   "source": [
    "int('10')"
   ]
  },
  {
   "cell_type": "code",
   "execution_count": 64,
   "id": "7c11d8b1",
   "metadata": {
    "slideshow": {
     "slide_type": "fragment"
    }
   },
   "outputs": [
    {
     "data": {
      "text/plain": [
       "3.5"
      ]
     },
     "execution_count": 64,
     "metadata": {},
     "output_type": "execute_result"
    }
   ],
   "source": [
    "float('3.5')"
   ]
  },
  {
   "cell_type": "code",
   "execution_count": 65,
   "id": "1eb41b57",
   "metadata": {
    "slideshow": {
     "slide_type": "fragment"
    }
   },
   "outputs": [
    {
     "data": {
      "text/plain": [
       "3.0"
      ]
     },
     "execution_count": 65,
     "metadata": {},
     "output_type": "execute_result"
    }
   ],
   "source": [
    "float(3)"
   ]
  },
  {
   "cell_type": "code",
   "execution_count": 66,
   "id": "1b129690",
   "metadata": {
    "slideshow": {
     "slide_type": "fragment"
    }
   },
   "outputs": [
    {
     "data": {
      "text/plain": [
       "3.0"
      ]
     },
     "execution_count": 66,
     "metadata": {},
     "output_type": "execute_result"
    }
   ],
   "source": [
    "float('3')"
   ]
  },
  {
   "cell_type": "code",
   "execution_count": 67,
   "id": "c6573262",
   "metadata": {
    "slideshow": {
     "slide_type": "fragment"
    }
   },
   "outputs": [
    {
     "data": {
      "text/plain": [
       "3"
      ]
     },
     "execution_count": 67,
     "metadata": {},
     "output_type": "execute_result"
    }
   ],
   "source": [
    "int(3.5)"
   ]
  },
  {
   "cell_type": "code",
   "execution_count": 68,
   "id": "3e0b8f7e",
   "metadata": {
    "slideshow": {
     "slide_type": "fragment"
    }
   },
   "outputs": [
    {
     "data": {
      "text/plain": [
       "3"
      ]
     },
     "execution_count": 68,
     "metadata": {},
     "output_type": "execute_result"
    }
   ],
   "source": [
    "int(3.5)"
   ]
  },
  {
   "cell_type": "code",
   "execution_count": 69,
   "id": "9d4bc2ee",
   "metadata": {
    "slideshow": {
     "slide_type": "fragment"
    }
   },
   "outputs": [
    {
     "data": {
      "text/plain": [
       "27"
      ]
     },
     "execution_count": 69,
     "metadata": {},
     "output_type": "execute_result"
    }
   ],
   "source": [
    "int(str(3)) ** 3"
   ]
  },
  {
   "cell_type": "markdown",
   "id": "99c5ceda",
   "metadata": {
    "slideshow": {
     "slide_type": "slide"
    }
   },
   "source": [
    "## Methods"
   ]
  },
  {
   "cell_type": "markdown",
   "id": "09fc7a47",
   "metadata": {
    "slideshow": {
     "slide_type": "fragment"
    }
   },
   "source": [
    "Methods are not the same thing as functions; the different syntax above is\n",
    "required. Invoking them as if they were normal functions results in errors:"
   ]
  },
  {
   "cell_type": "code",
   "execution_count": 70,
   "id": "9a2abcb7",
   "metadata": {
    "slideshow": {
     "slide_type": "fragment"
    }
   },
   "outputs": [
    {
     "data": {
      "text/plain": [
       "'THIS IS NOT A PIPE'"
      ]
     },
     "execution_count": 70,
     "metadata": {},
     "output_type": "execute_result"
    }
   ],
   "source": [
    "'this is not a pipe'.upper()"
   ]
  },
  {
   "cell_type": "code",
   "execution_count": 71,
   "id": "4b192b7a",
   "metadata": {
    "slideshow": {
     "slide_type": "fragment"
    }
   },
   "outputs": [
    {
     "data": {
      "text/plain": [
       "'THIS IS NOT A PIPE'"
      ]
     },
     "execution_count": 71,
     "metadata": {},
     "output_type": "execute_result"
    }
   ],
   "source": [
    "'this is not a pipe'.upper()"
   ]
  },
  {
   "cell_type": "code",
   "execution_count": 72,
   "id": "83062bbd",
   "metadata": {
    "slideshow": {
     "slide_type": "subslide"
    }
   },
   "outputs": [
    {
     "data": {
      "text/plain": [
       "3"
      ]
     },
     "execution_count": 72,
     "metadata": {},
     "output_type": "execute_result"
    }
   ],
   "source": [
    "'this is not a pipe'.count('i')"
   ]
  },
  {
   "cell_type": "code",
   "execution_count": 73,
   "id": "f303faee",
   "metadata": {
    "slideshow": {
     "slide_type": "fragment"
    }
   },
   "outputs": [
    {
     "data": {
      "text/plain": [
       "3"
      ]
     },
     "execution_count": 73,
     "metadata": {},
     "output_type": "execute_result"
    }
   ],
   "source": [
    "'this is not a pipe'.count('i')"
   ]
  },
  {
   "cell_type": "code",
   "execution_count": 74,
   "id": "61db4c09",
   "metadata": {
    "slideshow": {
     "slide_type": "fragment"
    }
   },
   "outputs": [
    {
     "ename": "NameError",
     "evalue": "name 'upper' is not defined",
     "output_type": "error",
     "traceback": [
      "\u001b[0;31m---------------------------------------------------------------------------\u001b[0m",
      "\u001b[0;31mNameError\u001b[0m                                 Traceback (most recent call last)",
      "Cell \u001b[0;32mIn [74], line 2\u001b[0m\n\u001b[1;32m      1\u001b[0m \u001b[38;5;66;03m# that's the incorrect way of executing the method \u001b[39;00m\n\u001b[0;32m----> 2\u001b[0m \u001b[43mupper\u001b[49m(\u001b[38;5;124m'\u001b[39m\u001b[38;5;124mtest\u001b[39m\u001b[38;5;124m'\u001b[39m)\n",
      "\u001b[0;31mNameError\u001b[0m: name 'upper' is not defined"
     ]
    }
   ],
   "source": [
    "# that's the incorrect way of executing the method \n",
    "upper('test')\n"
   ]
  },
  {
   "cell_type": "markdown",
   "id": "af65bcb1",
   "metadata": {
    "slideshow": {
     "slide_type": "slide"
    }
   },
   "source": [
    "## Running scripts from command line\n",
    "Create new text file with below code:\n",
    "\n",
    "print(4+7) <br>\n",
    "print('that should be 11')\n",
    "\n",
    "Then save as 'interact1.py'\n"
   ]
  },
  {
   "cell_type": "code",
   "execution_count": 75,
   "id": "b23432b5",
   "metadata": {
    "slideshow": {
     "slide_type": "subslide"
    }
   },
   "outputs": [
    {
     "name": "stdout",
     "output_type": "stream",
     "text": [
      "11\r\n",
      "that should be 11\r\n"
     ]
    }
   ],
   "source": [
    "#in Jupyter notebook\n",
    "!python3 interact1.py"
   ]
  },
  {
   "cell_type": "code",
   "execution_count": 76,
   "id": "b8ef5c42",
   "metadata": {
    "slideshow": {
     "slide_type": "fragment"
    }
   },
   "outputs": [],
   "source": [
    "#in a command line\n",
    "#$ python3 interact1.py"
   ]
  },
  {
   "cell_type": "markdown",
   "id": "732e1a0e",
   "metadata": {
    "slideshow": {
     "slide_type": "slide"
    }
   },
   "source": [
    "## Important notes on running scripts\n",
    "- script must be in the same directory that the terminal window is in\n",
    "- type pwd at the terminal prompt to check current directory\n",
    "- you can use the ls command at the terminal prompt (dir for Windows) to list files\n",
    "- use cd command (followed by the path to the directory you want to be in) to switch dirs"
   ]
  },
  {
   "cell_type": "markdown",
   "id": "9b376998",
   "metadata": {
    "slideshow": {
     "slide_type": "subslide"
    }
   },
   "source": [
    "### Practicing writing scripts\n",
    "- write your own script with operators you've learned so far\n",
    "- save it under custom name and run in Notebook, then in command line\n"
   ]
  },
  {
   "cell_type": "code",
   "execution_count": null,
   "id": "799826c5",
   "metadata": {},
   "outputs": [],
   "source": []
  },
  {
   "cell_type": "code",
   "execution_count": null,
   "id": "fa06d278",
   "metadata": {},
   "outputs": [],
   "source": []
  },
  {
   "cell_type": "code",
   "execution_count": null,
   "id": "f6f20135",
   "metadata": {},
   "outputs": [],
   "source": []
  },
  {
   "cell_type": "code",
   "execution_count": null,
   "id": "93d60c33",
   "metadata": {},
   "outputs": [],
   "source": []
  },
  {
   "cell_type": "code",
   "execution_count": null,
   "id": "7467ca37",
   "metadata": {},
   "outputs": [],
   "source": []
  }
 ],
 "metadata": {
  "celltoolbar": "Slideshow",
  "kernelspec": {
   "display_name": "Python 3 (ipykernel)",
   "language": "python",
   "name": "python3"
  },
  "language_info": {
   "codemirror_mode": {
    "name": "ipython",
    "version": 3
   },
   "file_extension": ".py",
   "mimetype": "text/x-python",
   "name": "python",
   "nbconvert_exporter": "python",
   "pygments_lexer": "ipython3",
   "version": "3.10.6"
  }
 },
 "nbformat": 4,
 "nbformat_minor": 5
}

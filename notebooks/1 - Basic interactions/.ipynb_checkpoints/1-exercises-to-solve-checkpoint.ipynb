{
 "cells": [
  {
   "cell_type": "markdown",
   "id": "75b5c382",
   "metadata": {
    "slideshow": {
     "slide_type": "slide"
    }
   },
   "source": [
    "### For each of the following, explain whether it’s true or false and why:\n",
    "1. 'hat' == \"hat\"\n",
    "2. hat == 'hat'\n",
    "3. 1/3 == .33\n",
    "4.  'three' > 'two'\n",
    "5. 2 + 2 = 4\n"
   ]
  },
  {
   "cell_type": "code",
   "execution_count": 26,
   "id": "8aeebce7",
   "metadata": {
    "slideshow": {
     "slide_type": "subslide"
    }
   },
   "outputs": [
    {
     "data": {
      "text/plain": [
       "True"
      ]
     },
     "execution_count": 26,
     "metadata": {},
     "output_type": "execute_result"
    }
   ],
   "source": [
    "'hat' == \"hat\""
   ]
  },
  {
   "cell_type": "code",
   "execution_count": 27,
   "id": "15999c0b",
   "metadata": {
    "slideshow": {
     "slide_type": "subslide"
    }
   },
   "outputs": [
    {
     "ename": "NameError",
     "evalue": "name 'hat' is not defined",
     "output_type": "error",
     "traceback": [
      "\u001b[0;31m---------------------------------------------------------------------------\u001b[0m",
      "\u001b[0;31mNameError\u001b[0m                                 Traceback (most recent call last)",
      "Cell \u001b[0;32mIn [27], line 1\u001b[0m\n\u001b[0;32m----> 1\u001b[0m \u001b[43mhat\u001b[49m \u001b[38;5;241m==\u001b[39m \u001b[38;5;124m'\u001b[39m\u001b[38;5;124mhat\u001b[39m\u001b[38;5;124m'\u001b[39m\n",
      "\u001b[0;31mNameError\u001b[0m: name 'hat' is not defined"
     ]
    }
   ],
   "source": [
    "hat == 'hat'"
   ]
  },
  {
   "cell_type": "code",
   "execution_count": 28,
   "id": "7afa299d",
   "metadata": {
    "slideshow": {
     "slide_type": "subslide"
    }
   },
   "outputs": [
    {
     "data": {
      "text/plain": [
       "False"
      ]
     },
     "execution_count": 28,
     "metadata": {},
     "output_type": "execute_result"
    }
   ],
   "source": [
    "1/3 == .33"
   ]
  },
  {
   "cell_type": "code",
   "execution_count": 29,
   "id": "bd72e9ed",
   "metadata": {
    "slideshow": {
     "slide_type": "subslide"
    }
   },
   "outputs": [
    {
     "data": {
      "text/plain": [
       "False"
      ]
     },
     "execution_count": 29,
     "metadata": {},
     "output_type": "execute_result"
    }
   ],
   "source": [
    "'three' > 'two'"
   ]
  },
  {
   "cell_type": "code",
   "execution_count": 30,
   "id": "2212650b",
   "metadata": {
    "slideshow": {
     "slide_type": "subslide"
    }
   },
   "outputs": [
    {
     "data": {
      "text/plain": [
       "True"
      ]
     },
     "execution_count": 30,
     "metadata": {},
     "output_type": "execute_result"
    }
   ],
   "source": [
    "'two' > 'three'"
   ]
  },
  {
   "cell_type": "code",
   "execution_count": 31,
   "id": "f9ff2458",
   "metadata": {
    "slideshow": {
     "slide_type": "subslide"
    }
   },
   "outputs": [
    {
     "ename": "SyntaxError",
     "evalue": "cannot assign to expression here. Maybe you meant '==' instead of '='? (3068719117.py, line 1)",
     "output_type": "error",
     "traceback": [
      "\u001b[0;36m  Cell \u001b[0;32mIn [31], line 1\u001b[0;36m\u001b[0m\n\u001b[0;31m    2 + 2 = 4\u001b[0m\n\u001b[0m    ^\u001b[0m\n\u001b[0;31mSyntaxError\u001b[0m\u001b[0;31m:\u001b[0m cannot assign to expression here. Maybe you meant '==' instead of '='?\n"
     ]
    }
   ],
   "source": [
    "2 + 2 = 4"
   ]
  },
  {
   "cell_type": "markdown",
   "id": "925b9f52",
   "metadata": {
    "slideshow": {
     "slide_type": "subslide"
    }
   },
   "source": [
    "1. 'hat' == \"hat\" - True\n",
    "2. hat == 'hat' - Error\n",
    "3. 1/3 == .33 - False\n",
    "4.  'three' > 'two' - False\n",
    "5. 2 + 2 = 4 - Error"
   ]
  },
  {
   "cell_type": "markdown",
   "id": "9f204c1a",
   "metadata": {
    "slideshow": {
     "slide_type": "slide"
    }
   },
   "source": [
    "In math, 6 + 2 and 2 + 6 mean the same thing. We’ve seen that + and \\* can be used with strings too. What happens if arguments are reversed when strings are involved? Do those expressions mean the same thing?"
   ]
  },
  {
   "cell_type": "code",
   "execution_count": 32,
   "id": "74dc3217",
   "metadata": {
    "slideshow": {
     "slide_type": "subslide"
    }
   },
   "outputs": [
    {
     "data": {
      "text/plain": [
       "'12'"
      ]
     },
     "execution_count": 32,
     "metadata": {},
     "output_type": "execute_result"
    }
   ],
   "source": [
    "\"1\" + \"2\""
   ]
  },
  {
   "cell_type": "code",
   "execution_count": 33,
   "id": "3ec006a6",
   "metadata": {
    "slideshow": {
     "slide_type": "fragment"
    }
   },
   "outputs": [
    {
     "data": {
      "text/plain": [
       "'21'"
      ]
     },
     "execution_count": 33,
     "metadata": {},
     "output_type": "execute_result"
    }
   ],
   "source": [
    "\"2\" + \"1\""
   ]
  },
  {
   "cell_type": "code",
   "execution_count": 34,
   "id": "85c51d6b",
   "metadata": {
    "slideshow": {
     "slide_type": "fragment"
    }
   },
   "outputs": [
    {
     "data": {
      "text/plain": [
       "'testtest'"
      ]
     },
     "execution_count": 34,
     "metadata": {},
     "output_type": "execute_result"
    }
   ],
   "source": [
    "\"test\" * 2"
   ]
  },
  {
   "cell_type": "code",
   "execution_count": 35,
   "id": "ce8016b8",
   "metadata": {
    "slideshow": {
     "slide_type": "fragment"
    }
   },
   "outputs": [
    {
     "data": {
      "text/plain": [
       "'testtest'"
      ]
     },
     "execution_count": 35,
     "metadata": {},
     "output_type": "execute_result"
    }
   ],
   "source": [
    "\"test\" * 2"
   ]
  },
  {
   "cell_type": "code",
   "execution_count": 36,
   "id": "e6941984",
   "metadata": {
    "slideshow": {
     "slide_type": "fragment"
    }
   },
   "outputs": [
    {
     "ename": "TypeError",
     "evalue": "can't multiply sequence by non-int of type 'str'",
     "output_type": "error",
     "traceback": [
      "\u001b[0;31m---------------------------------------------------------------------------\u001b[0m",
      "\u001b[0;31mTypeError\u001b[0m                                 Traceback (most recent call last)",
      "Cell \u001b[0;32mIn [36], line 1\u001b[0m\n\u001b[0;32m----> 1\u001b[0m \u001b[38;5;124;43m\"\u001b[39;49m\u001b[38;5;124;43mtest\u001b[39;49m\u001b[38;5;124;43m\"\u001b[39;49m\u001b[43m \u001b[49m\u001b[38;5;241;43m*\u001b[39;49m\u001b[43m \u001b[49m\u001b[38;5;124;43m\"\u001b[39;49m\u001b[38;5;124;43mtest\u001b[39;49m\u001b[38;5;124;43m\"\u001b[39;49m\n",
      "\u001b[0;31mTypeError\u001b[0m: can't multiply sequence by non-int of type 'str'"
     ]
    }
   ],
   "source": [
    "\"test\" * \"test\""
   ]
  },
  {
   "cell_type": "markdown",
   "id": "6b68bb77",
   "metadata": {
    "slideshow": {
     "slide_type": "slide"
    }
   },
   "source": [
    "Use the help() function to find out about the round() command. Explain and demonstrate how to use it with more than one argument to produce different results."
   ]
  },
  {
   "cell_type": "code",
   "execution_count": 37,
   "id": "f4d4ba04",
   "metadata": {
    "slideshow": {
     "slide_type": "subslide"
    }
   },
   "outputs": [
    {
     "name": "stdout",
     "output_type": "stream",
     "text": [
      "Help on built-in function round in module builtins:\n",
      "\n",
      "round(number, ndigits=None)\n",
      "    Round a number to a given precision in decimal digits.\n",
      "    \n",
      "    The return value is an integer if ndigits is omitted or None.  Otherwise\n",
      "    the return value has the same type as the number.  ndigits may be negative.\n",
      "\n"
     ]
    }
   ],
   "source": [
    "help(\"round\")"
   ]
  },
  {
   "cell_type": "code",
   "execution_count": 38,
   "id": "daa2229d",
   "metadata": {
    "slideshow": {
     "slide_type": "fragment"
    }
   },
   "outputs": [
    {
     "data": {
      "text/plain": [
       "4"
      ]
     },
     "execution_count": 38,
     "metadata": {},
     "output_type": "execute_result"
    }
   ],
   "source": [
    "round(3.5234)"
   ]
  },
  {
   "cell_type": "code",
   "execution_count": 39,
   "id": "051cf776",
   "metadata": {
    "slideshow": {
     "slide_type": "fragment"
    }
   },
   "outputs": [
    {
     "data": {
      "text/plain": [
       "3.5"
      ]
     },
     "execution_count": 39,
     "metadata": {},
     "output_type": "execute_result"
    }
   ],
   "source": [
    "round(3.5234,1)"
   ]
  },
  {
   "cell_type": "code",
   "execution_count": 40,
   "id": "c37c9207",
   "metadata": {
    "slideshow": {
     "slide_type": "fragment"
    }
   },
   "outputs": [
    {
     "data": {
      "text/plain": [
       "3.52"
      ]
     },
     "execution_count": 40,
     "metadata": {},
     "output_type": "execute_result"
    }
   ],
   "source": [
    "round(3.5234,2)"
   ]
  },
  {
   "cell_type": "markdown",
   "id": "8c11308c",
   "metadata": {
    "slideshow": {
     "slide_type": "slide"
    }
   },
   "source": [
    "Why does upper('This is a cat') not work?"
   ]
  },
  {
   "cell_type": "markdown",
   "id": "15c07ab2",
   "metadata": {
    "slideshow": {
     "slide_type": "subslide"
    }
   },
   "source": [
    "It's called as function, not method of a string object instance."
   ]
  },
  {
   "cell_type": "markdown",
   "id": "403949e4",
   "metadata": {
    "slideshow": {
     "slide_type": "slide"
    }
   },
   "source": [
    "What does help(help) do in the interactive environment?\n"
   ]
  },
  {
   "cell_type": "code",
   "execution_count": 41,
   "id": "936f522d",
   "metadata": {
    "slideshow": {
     "slide_type": "fragment"
    }
   },
   "outputs": [
    {
     "name": "stdout",
     "output_type": "stream",
     "text": [
      "Help on _Helper in module _sitebuiltins object:\n",
      "\n",
      "class _Helper(builtins.object)\n",
      " |  Define the builtin 'help'.\n",
      " |  \n",
      " |  This is a wrapper around pydoc.help that provides a helpful message\n",
      " |  when 'help' is typed at the Python interactive prompt.\n",
      " |  \n",
      " |  Calling help() at the Python prompt starts an interactive help session.\n",
      " |  Calling help(thing) prints help for the python object 'thing'.\n",
      " |  \n",
      " |  Methods defined here:\n",
      " |  \n",
      " |  __call__(self, *args, **kwds)\n",
      " |      Call self as a function.\n",
      " |  \n",
      " |  __repr__(self)\n",
      " |      Return repr(self).\n",
      " |  \n",
      " |  ----------------------------------------------------------------------\n",
      " |  Data descriptors defined here:\n",
      " |  \n",
      " |  __dict__\n",
      " |      dictionary for instance variables (if defined)\n",
      " |  \n",
      " |  __weakref__\n",
      " |      list of weak references to the object (if defined)\n",
      "\n"
     ]
    }
   ],
   "source": [
    "help(help)"
   ]
  },
  {
   "cell_type": "markdown",
   "id": "d3483576",
   "metadata": {
    "slideshow": {
     "slide_type": "slide"
    }
   },
   "source": [
    "\n",
    "We used the mathematical operator ** on page 3 above without explanation. Play around with it and say what it does."
   ]
  },
  {
   "cell_type": "code",
   "execution_count": 42,
   "id": "96b6ead2",
   "metadata": {
    "slideshow": {
     "slide_type": "fragment"
    }
   },
   "outputs": [
    {
     "data": {
      "text/plain": [
       "4"
      ]
     },
     "execution_count": 42,
     "metadata": {},
     "output_type": "execute_result"
    }
   ],
   "source": [
    "2**2"
   ]
  },
  {
   "cell_type": "code",
   "execution_count": 43,
   "id": "7858ce9a",
   "metadata": {
    "slideshow": {
     "slide_type": "fragment"
    }
   },
   "outputs": [],
   "source": [
    "import math"
   ]
  },
  {
   "cell_type": "code",
   "execution_count": 44,
   "id": "0e11fe3b",
   "metadata": {},
   "outputs": [
    {
     "data": {
      "text/plain": [
       "2.0"
      ]
     },
     "execution_count": 44,
     "metadata": {},
     "output_type": "execute_result"
    }
   ],
   "source": [
    "math.sqrt(4)"
   ]
  },
  {
   "cell_type": "markdown",
   "id": "d26e65ff",
   "metadata": {
    "slideshow": {
     "slide_type": "slide"
    }
   },
   "source": [
    "Write a line of code that will calculate how many times the string ‘at’\n",
    "occurs in this sentence.\n"
   ]
  },
  {
   "cell_type": "code",
   "execution_count": 45,
   "id": "a9ff61d7",
   "metadata": {
    "slideshow": {
     "slide_type": "subslide"
    }
   },
   "outputs": [
    {
     "data": {
      "text/plain": [
       "3"
      ]
     },
     "execution_count": 45,
     "metadata": {},
     "output_type": "execute_result"
    }
   ],
   "source": [
    "\"Write a line of code that will calculate how many times the string ‘at’ occurs in this sentence.\".count(\"at\")"
   ]
  },
  {
   "cell_type": "markdown",
   "id": "ea085a34",
   "metadata": {
    "slideshow": {
     "slide_type": "slide"
    }
   },
   "source": [
    "What’s the difference between these?\n",
    "'This is Mike'.upper().lower()\n",
    "'This is Mike'.lower().upper()"
   ]
  },
  {
   "cell_type": "code",
   "execution_count": 46,
   "id": "97cde108",
   "metadata": {
    "slideshow": {
     "slide_type": "subslide"
    }
   },
   "outputs": [
    {
     "data": {
      "text/plain": [
       "'this is mike'"
      ]
     },
     "execution_count": 46,
     "metadata": {},
     "output_type": "execute_result"
    }
   ],
   "source": [
    "'This is Mike'.upper().lower() "
   ]
  },
  {
   "cell_type": "code",
   "execution_count": 47,
   "id": "d54c2c46",
   "metadata": {
    "slideshow": {
     "slide_type": "fragment"
    }
   },
   "outputs": [
    {
     "data": {
      "text/plain": [
       "'THIS IS MIKE'"
      ]
     },
     "execution_count": 47,
     "metadata": {},
     "output_type": "execute_result"
    }
   ],
   "source": [
    " 'This is Mike'.lower().upper()"
   ]
  },
  {
   "cell_type": "code",
   "execution_count": 1,
   "id": "22282b47",
   "metadata": {},
   "outputs": [
    {
     "name": "stdout",
     "output_type": "stream",
     "text": [
      "[NbConvertApp] Converting notebook 1-exercises.ipynb to slides\n",
      "[NbConvertApp] Writing 611922 bytes to 1-exercises.slides.html\n",
      "[NbConvertApp] Redirecting reveal.js requests to https://cdnjs.cloudflare.com/ajax/libs/reveal.js/3.5.0\n",
      "Traceback (most recent call last):\n",
      "  File \"/home/michal/.local/bin/jupyter-nbconvert\", line 8, in <module>\n",
      "    sys.exit(main())\n",
      "  File \"/home/michal/.local/lib/python3.10/site-packages/jupyter_core/application.py\", line 269, in launch_instance\n",
      "    return super().launch_instance(argv=argv, **kwargs)\n",
      "  File \"/home/michal/.local/lib/python3.10/site-packages/traitlets/config/application.py\", line 976, in launch_instance\n",
      "    app.start()\n",
      "  File \"/home/michal/.local/lib/python3.10/site-packages/nbconvert/nbconvertapp.py\", line 426, in start\n",
      "    self.convert_notebooks()\n",
      "  File \"/home/michal/.local/lib/python3.10/site-packages/nbconvert/nbconvertapp.py\", line 600, in convert_notebooks\n",
      "    self.convert_single_notebook(notebook_filename)\n",
      "  File \"/home/michal/.local/lib/python3.10/site-packages/nbconvert/nbconvertapp.py\", line 567, in convert_single_notebook\n",
      "    self.postprocess_single_notebook(write_results)\n",
      "  File \"/home/michal/.local/lib/python3.10/site-packages/nbconvert/nbconvertapp.py\", line 537, in postprocess_single_notebook\n",
      "    self.postprocessor(write_results)\n",
      "  File \"/home/michal/.local/lib/python3.10/site-packages/nbconvert/postprocessors/base.py\", line 27, in __call__\n",
      "    self.postprocess(input)\n",
      "  File \"/home/michal/.local/lib/python3.10/site-packages/nbconvert/postprocessors/serve.py\", line 91, in postprocess\n",
      "    http_server.listen(self.port, address=self.ip)\n",
      "  File \"/home/michal/.local/lib/python3.10/site-packages/tornado/tcpserver.py\", line 183, in listen\n",
      "    sockets = bind_sockets(\n",
      "  File \"/home/michal/.local/lib/python3.10/site-packages/tornado/netutil.py\", line 162, in bind_sockets\n",
      "    sock.bind(sockaddr)\n",
      "OSError: [Errno 98] Address already in use\n"
     ]
    }
   ],
   "source": [
    "!jupyter nbconvert \"1-exercises.ipynb\" --to slides --post serve"
   ]
  },
  {
   "cell_type": "code",
   "execution_count": null,
   "id": "b0f9a512",
   "metadata": {},
   "outputs": [],
   "source": []
  }
 ],
 "metadata": {
  "celltoolbar": "Slideshow",
  "kernelspec": {
   "display_name": "Python 3 (ipykernel)",
   "language": "python",
   "name": "python3"
  },
  "language_info": {
   "codemirror_mode": {
    "name": "ipython",
    "version": 3
   },
   "file_extension": ".py",
   "mimetype": "text/x-python",
   "name": "python",
   "nbconvert_exporter": "python",
   "pygments_lexer": "ipython3",
   "version": "3.10.6"
  }
 },
 "nbformat": 4,
 "nbformat_minor": 5
}

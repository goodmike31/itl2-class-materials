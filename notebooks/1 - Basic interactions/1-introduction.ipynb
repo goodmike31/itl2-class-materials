{
 "cells": [
  {
   "cell_type": "code",
   "execution_count": 1,
   "id": "c9ff0368",
   "metadata": {},
   "outputs": [
    {
     "name": "stdout",
     "output_type": "stream",
     "text": [
      "[NbConvertApp] Converting notebook 1-introduction.ipynb to slides\n",
      "[NbConvertApp] Writing 581097 bytes to 1-introduction.slides.html\n",
      "[NbConvertApp] Redirecting reveal.js requests to https://cdnjs.cloudflare.com/ajax/libs/reveal.js/3.5.0\n",
      "Traceback (most recent call last):\n",
      "  File \"/home/michal/.local/bin/jupyter-nbconvert\", line 8, in <module>\n",
      "    sys.exit(main())\n",
      "  File \"/home/michal/.local/lib/python3.10/site-packages/jupyter_core/application.py\", line 269, in launch_instance\n",
      "    return super().launch_instance(argv=argv, **kwargs)\n",
      "  File \"/home/michal/.local/lib/python3.10/site-packages/traitlets/config/application.py\", line 976, in launch_instance\n",
      "    app.start()\n",
      "  File \"/home/michal/.local/lib/python3.10/site-packages/nbconvert/nbconvertapp.py\", line 426, in start\n",
      "    self.convert_notebooks()\n",
      "  File \"/home/michal/.local/lib/python3.10/site-packages/nbconvert/nbconvertapp.py\", line 600, in convert_notebooks\n",
      "    self.convert_single_notebook(notebook_filename)\n",
      "  File \"/home/michal/.local/lib/python3.10/site-packages/nbconvert/nbconvertapp.py\", line 567, in convert_single_notebook\n",
      "    self.postprocess_single_notebook(write_results)\n",
      "  File \"/home/michal/.local/lib/python3.10/site-packages/nbconvert/nbconvertapp.py\", line 537, in postprocess_single_notebook\n",
      "    self.postprocessor(write_results)\n",
      "  File \"/home/michal/.local/lib/python3.10/site-packages/nbconvert/postprocessors/base.py\", line 27, in __call__\n",
      "    self.postprocess(input)\n",
      "  File \"/home/michal/.local/lib/python3.10/site-packages/nbconvert/postprocessors/serve.py\", line 91, in postprocess\n",
      "    http_server.listen(self.port, address=self.ip)\n",
      "  File \"/home/michal/.local/lib/python3.10/site-packages/tornado/tcpserver.py\", line 183, in listen\n",
      "    sockets = bind_sockets(\n",
      "  File \"/home/michal/.local/lib/python3.10/site-packages/tornado/netutil.py\", line 162, in bind_sockets\n",
      "    sock.bind(sockaddr)\n",
      "OSError: [Errno 98] Address already in use\n"
     ]
    }
   ],
   "source": [
    "!jupyter nbconvert \"1-introduction.ipynb\" --to slides --post serve"
   ]
  },
  {
   "cell_type": "markdown",
   "id": "2a888201",
   "metadata": {
    "slideshow": {
     "slide_type": "slide"
    }
   },
   "source": [
    "# IT Skills for linguists 2 \n",
    "## Poznań 21.11.2022 \n",
    "### Teacher: mgr inż. Michał Junczyk"
   ]
  },
  {
   "cell_type": "markdown",
   "id": "99faa699",
   "metadata": {
    "slideshow": {
     "slide_type": "slide"
    }
   },
   "source": [
    "## Agenda for 21.11.22\n",
    "### 8:00 and 15:00 classes\n",
    "- Introductions\n",
    "- Why learn to code?\n",
    "  - General applications\n",
    "  - Linguistic applications\n",
    "- Environment setup\n",
    "- Writing first program\n",
    "<br><br>\n",
    "- Topic 1 - Basic interactions with Python\n",
    "  - lecture and follow-along exercises\n",
    "  - hands-on exercises\n",
    " <br><br>\n",
    "- Topic 2- Data structures and Variables\n",
    "  - lecture follow-along exercises\n",
    "  - hands-on exercises"
   ]
  },
  {
   "cell_type": "markdown",
   "id": "fed66d0b",
   "metadata": {
    "slideshow": {
     "slide_type": "slide"
    }
   },
   "source": [
    "# Introductions\n"
   ]
  },
  {
   "cell_type": "markdown",
   "id": "ae5be84b",
   "metadata": {
    "slideshow": {
     "slide_type": "slide"
    }
   },
   "source": [
    "# Why learn to code?\n"
   ]
  },
  {
   "cell_type": "markdown",
   "id": "ae1c376f",
   "metadata": {
    "slideshow": {
     "slide_type": "slide"
    }
   },
   "source": [
    "# Environment setup"
   ]
  },
  {
   "cell_type": "markdown",
   "id": "50947397",
   "metadata": {
    "slideshow": {
     "slide_type": "slide"
    }
   },
   "source": [
    "# Writing first program"
   ]
  }
 ],
 "metadata": {
  "celltoolbar": "Slideshow",
  "kernelspec": {
   "display_name": "Python 3 (ipykernel)",
   "language": "python",
   "name": "python3"
  },
  "language_info": {
   "codemirror_mode": {
    "name": "ipython",
    "version": 3
   },
   "file_extension": ".py",
   "mimetype": "text/x-python",
   "name": "python",
   "nbconvert_exporter": "python",
   "pygments_lexer": "ipython3",
   "version": "3.10.6"
  }
 },
 "nbformat": 4,
 "nbformat_minor": 5
}

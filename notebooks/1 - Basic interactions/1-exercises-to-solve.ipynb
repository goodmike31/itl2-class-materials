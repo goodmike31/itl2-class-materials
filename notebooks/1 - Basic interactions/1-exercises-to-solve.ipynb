{
 "cells": [
  {
   "cell_type": "markdown",
   "id": "75b5c382",
   "metadata": {
    "slideshow": {
     "slide_type": "slide"
    }
   },
   "source": [
    "### For each of the following, explain whether it’s true or false and why:\n",
    "1. 'hat' == \"hat\"\n",
    "2. hat == 'hat'\n",
    "3. 1/3 == .33\n",
    "4.  'three' > 'two'\n",
    "5. 2 + 2 = 4\n"
   ]
  },
  {
   "cell_type": "markdown",
   "id": "9f204c1a",
   "metadata": {
    "slideshow": {
     "slide_type": "slide"
    }
   },
   "source": [
    "In math, 6 + 2 and 2 + 6 mean the same thing. We’ve seen that + and \\* can be used with strings too. What happens if arguments are reversed when strings are involved? Do those expressions mean the same thing?"
   ]
  },
  {
   "cell_type": "code",
   "execution_count": null,
   "id": "74dc3217",
   "metadata": {
    "slideshow": {
     "slide_type": "subslide"
    }
   },
   "outputs": [],
   "source": [
    "# solution"
   ]
  },
  {
   "cell_type": "markdown",
   "id": "6b68bb77",
   "metadata": {
    "slideshow": {
     "slide_type": "slide"
    }
   },
   "source": [
    "Use the help() function to find out about the round() command. Explain and demonstrate how to use it with more than one argument to produce different results."
   ]
  },
  {
   "cell_type": "code",
   "execution_count": null,
   "id": "f426eabb",
   "metadata": {},
   "outputs": [],
   "source": [
    "# solution"
   ]
  },
  {
   "cell_type": "markdown",
   "id": "8c11308c",
   "metadata": {
    "slideshow": {
     "slide_type": "slide"
    }
   },
   "source": [
    "Why does upper('This is a cat') not work?"
   ]
  },
  {
   "cell_type": "markdown",
   "id": "15c07ab2",
   "metadata": {
    "slideshow": {
     "slide_type": "subslide"
    }
   },
   "source": [
    "answer"
   ]
  },
  {
   "cell_type": "markdown",
   "id": "403949e4",
   "metadata": {
    "slideshow": {
     "slide_type": "slide"
    }
   },
   "source": [
    "What does help(help) do in the interactive environment?\n"
   ]
  },
  {
   "cell_type": "code",
   "execution_count": null,
   "id": "774cf18b",
   "metadata": {},
   "outputs": [],
   "source": [
    "answer"
   ]
  },
  {
   "cell_type": "markdown",
   "id": "d3483576",
   "metadata": {
    "slideshow": {
     "slide_type": "slide"
    }
   },
   "source": [
    "\n",
    "We used the mathematical operator ** on page 3 above without explanation. Play around with it and say what it does."
   ]
  },
  {
   "cell_type": "code",
   "execution_count": null,
   "id": "b6b8ba63",
   "metadata": {},
   "outputs": [],
   "source": []
  },
  {
   "cell_type": "markdown",
   "id": "d26e65ff",
   "metadata": {
    "slideshow": {
     "slide_type": "slide"
    }
   },
   "source": [
    "Write a line of code that will calculate how many times the string ‘at’\n",
    "occurs in this sentence.\n"
   ]
  },
  {
   "cell_type": "code",
   "execution_count": null,
   "id": "40ad8ae8",
   "metadata": {},
   "outputs": [],
   "source": []
  },
  {
   "cell_type": "markdown",
   "id": "ea085a34",
   "metadata": {
    "slideshow": {
     "slide_type": "slide"
    }
   },
   "source": [
    "What’s the difference between these? <br>\n",
    "'This is Mike'.upper().lower() <br>\n",
    "'This is Mike'.lower().upper()"
   ]
  },
  {
   "cell_type": "code",
   "execution_count": null,
   "id": "79449875",
   "metadata": {},
   "outputs": [],
   "source": []
  },
  {
   "cell_type": "code",
   "execution_count": null,
   "id": "b0f9a512",
   "metadata": {},
   "outputs": [],
   "source": []
  }
 ],
 "metadata": {
  "celltoolbar": "Slideshow",
  "kernelspec": {
   "display_name": "Python 3 (ipykernel)",
   "language": "python",
   "name": "python3"
  },
  "language_info": {
   "codemirror_mode": {
    "name": "ipython",
    "version": 3
   },
   "file_extension": ".py",
   "mimetype": "text/x-python",
   "name": "python",
   "nbconvert_exporter": "python",
   "pygments_lexer": "ipython3",
   "version": "3.10.6"
  }
 },
 "nbformat": 4,
 "nbformat_minor": 5
}

{
 "cells": [
  {
   "cell_type": "markdown",
   "id": "f97e9f8f",
   "metadata": {},
   "source": [
    "# Task 5.1\n",
    "What does this function do?\n",
    "    def f(x):\n",
    "    return x\n"
   ]
  },
  {
   "cell_type": "code",
   "execution_count": null,
   "id": "f1f6a6ee",
   "metadata": {},
   "outputs": [],
   "source": []
  },
  {
   "cell_type": "markdown",
   "id": "f5537b85",
   "metadata": {},
   "source": [
    "# Task 5.2\n",
    "What happens if we apply the function above like this: \n",
    "- f(f)(f(3))\n",
    "Explain.\n"
   ]
  },
  {
   "cell_type": "code",
   "execution_count": null,
   "id": "77c3a8f0",
   "metadata": {},
   "outputs": [],
   "source": []
  },
  {
   "cell_type": "markdown",
   "id": "9633244c",
   "metadata": {},
   "source": [
    "# Task 5.3\n",
    "What does the following code do? Explain. <br>\n",
    "*(lambda f: f(3))* <br>\n",
    "*(lambda x: x+2)*\n"
   ]
  },
  {
   "cell_type": "code",
   "execution_count": null,
   "id": "c6e932aa",
   "metadata": {},
   "outputs": [],
   "source": []
  },
  {
   "cell_type": "markdown",
   "id": "7cc8d63d",
   "metadata": {},
   "source": [
    "# Task 5.4\n",
    "Write a function that composes two other functions.<br> That is, it takes two functions as arguments and returns a function that applies the first function and then the second function to its argument.<br>\n",
    "The two functions should each take a single argument. <br>\n",
    "(To be clear, your function should return the composed function, not the result of the composition.)"
   ]
  },
  {
   "cell_type": "markdown",
   "id": "e42c5238",
   "metadata": {},
   "source": [
    "# Task 5.5\n",
    "Write a function that has the same effect as * in an expression like:<br>\n",
    "*'this' * 3<br>*\n",
    "You are not allowed to use * in your function definition!\n"
   ]
  },
  {
   "cell_type": "markdown",
   "id": "a601c81f",
   "metadata": {},
   "source": [
    "# Task 5.6\n",
    "Write a function that is helpful to you. <br>\n",
    "It should take at least three arguments.\n"
   ]
  },
  {
   "cell_type": "markdown",
   "id": "17c9c1a7",
   "metadata": {},
   "source": [
    "# Task 5.7\n",
    "Add appropriate docstrings to func47.py and func49.py.\n"
   ]
  },
  {
   "cell_type": "markdown",
   "id": "d1457b76",
   "metadata": {},
   "source": [
    "# Task 5.8\n",
    "Write a function that takes a filename and a number n as arguments.<br>\n",
    "The function will open the file and return the first n words of the file. <br>\n",
    "Write the function so that it recovers from errors: <br>\n",
    "- what happens if the file doesn’t exist, <br> \n",
    "- what if the number isn’t a number, <br>\n",
    "- what if the file isn’t long enough to return n words, etc.\n"
   ]
  },
  {
   "cell_type": "markdown",
   "id": "7318cb57",
   "metadata": {},
   "source": [
    "# Task 5.9\n",
    "Write a function that takes two string arguments. <br>\n",
    "The first argument is astring to search for and count instances of the second argument.<br>\n",
    "Thus, if the function were invoked with 'Mississippi' and 'is', it would return 2. <br>\n",
    "The function must be recursive.<br>\n",
    "Make sure your function can handle cases where the second argument is of any length."
   ]
  },
  {
   "cell_type": "code",
   "execution_count": null,
   "id": "5b747fda",
   "metadata": {},
   "outputs": [],
   "source": []
  }
 ],
 "metadata": {
  "kernelspec": {
   "display_name": "Python 3 (ipykernel)",
   "language": "python",
   "name": "python3"
  },
  "language_info": {
   "codemirror_mode": {
    "name": "ipython",
    "version": 3
   },
   "file_extension": ".py",
   "mimetype": "text/x-python",
   "name": "python",
   "nbconvert_exporter": "python",
   "pygments_lexer": "ipython3",
   "version": "3.10.6"
  }
 },
 "nbformat": 4,
 "nbformat_minor": 5
}

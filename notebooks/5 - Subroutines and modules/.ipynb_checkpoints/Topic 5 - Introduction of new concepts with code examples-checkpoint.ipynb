{
 "cells": [
  {
   "cell_type": "markdown",
   "id": "c55f2926",
   "metadata": {
    "slideshow": {
     "slide_type": "slide"
    }
   },
   "source": [
    "# IT Skills for linguists 2\n",
    "## UAM, Faculty of English, 2BA\n",
    "### Topic: *Subroutines and modules*\n",
    "#### Poznań, 19.12.2022\n",
    "#### Teacher: mgr inż. Michał Junczyk\n"
   ]
  },
  {
   "cell_type": "markdown",
   "id": "6624a331",
   "metadata": {
    "slideshow": {
     "slide_type": "slide"
    }
   },
   "source": [
    "# Introduction\n",
    "- Problem: As our programs get larger...\n",
    "  - Managing the code structure becomes harder\n",
    "    - *\"Indentation hell\"*\n",
    "    - Difficult to split work in the project\n",
    "  - Repeated code in multiple places\n",
    "    - Changes become harder (syncing)\n",
    "- Solution: *Factoring*\n",
    "  - **Factoring** - breaking code into more efficient and conceptually more reasonable chunks.\n",
    "  - Achieved with **functions** and **modules**. "
   ]
  },
  {
   "cell_type": "markdown",
   "id": "d26e0d9b",
   "metadata": {
    "slideshow": {
     "slide_type": "slide"
    }
   },
   "source": [
    "# Agenda\n",
    "\n",
    "- Simple functions\n",
    "- Functions that return values\n",
    "- Functions that take arguments \n",
    "- Recursive and lambda functions\n",
    "- Modules\n",
    "- Docstrings and comments"
   ]
  },
  {
   "cell_type": "markdown",
   "id": "439ef7d7",
   "metadata": {
    "slideshow": {
     "slide_type": "slide"
    }
   },
   "source": [
    "# 5.1 Simple functions\n",
    "- Defined with:\n",
    "  - **def** keyword\n",
    "  - function name\n",
    "  - parentheses\n",
    "  - colon\n"
   ]
  },
  {
   "cell_type": "code",
   "execution_count": 41,
   "id": "89d3d7e1",
   "metadata": {
    "slideshow": {
     "slide_type": "subslide"
    }
   },
   "outputs": [],
   "source": [
    "def myfunction():\n",
    "    print('This is a function')\n",
    "    print(\"That's all it does\")"
   ]
  },
  {
   "cell_type": "code",
   "execution_count": 42,
   "id": "eb66ad94",
   "metadata": {
    "slideshow": {
     "slide_type": "fragment"
    }
   },
   "outputs": [
    {
     "name": "stdout",
     "output_type": "stream",
     "text": [
      "This is a function\n",
      "That's all it does\n"
     ]
    }
   ],
   "source": [
    "myfunction()\n",
    "#invoking the function"
   ]
  },
  {
   "cell_type": "markdown",
   "id": "c045ecfa",
   "metadata": {
    "slideshow": {
     "slide_type": "subslide"
    }
   },
   "source": [
    "## Repeated code example"
   ]
  },
  {
   "cell_type": "code",
   "execution_count": null,
   "id": "0379e388",
   "metadata": {
    "slideshow": {
     "slide_type": "fragment"
    }
   },
   "outputs": [
    {
     "name": "stdout",
     "output_type": "stream",
     "text": [
      "Colorless green ideas...\n",
      "...sleep furiously\n"
     ]
    }
   ],
   "source": [
    "#print a famous sentence over two lines\n",
    "print('Colorless green ideas...')\n",
    "print('...sleep furiously')\n",
    "#get the user to enter a number\n",
    "num = input('Enter a number: ')\n",
    "#print the sentence again if it's < 5\n",
    "if int(num) < 5:\n",
    "    print('Colorless green ideas...')\n",
    "    print('...sleep furiously')\n",
    "else:\n",
    "    print('Your number was big enough')"
   ]
  },
  {
   "cell_type": "code",
   "execution_count": null,
   "id": "7024670f",
   "metadata": {
    "slideshow": {
     "slide_type": "subslide"
    }
   },
   "outputs": [],
   "source": [
    "#a function to print that sentence\n",
    "def myfunc():\n",
    "    print('Colorless green ideas...')\n",
    "    print('...sleep furiously')\n",
    "\n",
    "#invoke the function\n",
    "myfunc()\n",
    "\n",
    "#collect the number\n",
    "num = input('Enter a number: ')\n",
    "#check if the number is < 5\n",
    "if int(num) < 5:\n",
    "    myfunc() #print sentence again if so\n",
    "else:\n",
    "    print('Your number was big enough')"
   ]
  },
  {
   "cell_type": "markdown",
   "id": "d2de62e1",
   "metadata": {
    "slideshow": {
     "slide_type": "subslide"
    }
   },
   "source": [
    "- factored out repeated section as a separate function.\n",
    "- function called twice in the following code."
   ]
  },
  {
   "cell_type": "code",
   "execution_count": null,
   "id": "1b4a76d8",
   "metadata": {
    "slideshow": {
     "slide_type": "subslide"
    }
   },
   "outputs": [],
   "source": [
    "def myfunc():\n",
    "    #a function\n",
    "    #user supplies a word\n",
    "    word = input('Word: ')\n",
    "    #print that word\n",
    "    print('This is your word:',word)\n",
    "    if len(word) > 5: #check if > 5\n",
    "        print('Your word was long.')\n",
    "    else:\n",
    "        print('Your word was short.')\n",
    "\n",
    "myfunc()"
   ]
  },
  {
   "cell_type": "code",
   "execution_count": null,
   "id": "5e0ec3f5",
   "metadata": {
    "slideshow": {
     "slide_type": "subslide"
    }
   },
   "outputs": [],
   "source": [
    "#this doesn't work!\n",
    "def myfunc():\n",
    "    word = input('Word: ')\n",
    "    print('This is your word:',word)\n",
    "\n",
    "myfunc()\n",
    "\n",
    "if len(word) < 5:\n",
    "    print(\"Your word wasn't long enough\")"
   ]
  },
  {
   "cell_type": "markdown",
   "id": "aec60fc8",
   "metadata": {
    "slideshow": {
     "slide_type": "subslide"
    }
   },
   "source": [
    "- Variable *word* is available only **inside the function**\n",
    "- Refering to *local* variable outside its function causes error"
   ]
  },
  {
   "cell_type": "code",
   "execution_count": null,
   "id": "05b31ea3",
   "metadata": {
    "slideshow": {
     "slide_type": "subslide"
    }
   },
   "outputs": [],
   "source": [
    "word = input('Word: ') #user supplies word\n",
    "\n",
    "#function refers to previous value!\n",
    "def myfunc():\n",
    "    print('This is your word:',word)\n",
    "\n",
    "myfunc()\n",
    "\n",
    "#check if word is less than 5 letters\n",
    "if len(word) < 5:\n",
    "    print(\"Your word wasn't long enough\")\n"
   ]
  },
  {
   "cell_type": "markdown",
   "id": "f5cad55f",
   "metadata": {
    "slideshow": {
     "slide_type": "fragment"
    }
   },
   "source": [
    "- value of *word* is set outside the function.\n",
    "- function has access to *global variable* word\n",
    "- bad idea - refering to external (global) variables in the function"
   ]
  },
  {
   "cell_type": "markdown",
   "id": "16f1b60f",
   "metadata": {
    "slideshow": {
     "slide_type": "slide"
    }
   },
   "source": [
    "# 5.2 Functions That Return Values"
   ]
  },
  {
   "cell_type": "markdown",
   "id": "70fc7ad0",
   "metadata": {
    "slideshow": {
     "slide_type": "fragment"
    }
   },
   "source": [
    "- syntax - keyword return preceeds the returned value\n"
   ]
  },
  {
   "cell_type": "code",
   "execution_count": null,
   "id": "e335253a",
   "metadata": {
    "slideshow": {
     "slide_type": "subslide"
    }
   },
   "outputs": [],
   "source": [
    "def myfunc():\n",
    "    #function definition\n",
    "    print(\"This prints.\") #prints this\n",
    "    return 6\n",
    "    #return the value 6\n",
    "    #gratuitous print command\n",
    "    print(\"This doesn't print!\")\n",
    "\n",
    "#invoke function, assign value to x\n",
    "x = myfunc()\n",
    "#print value of x\n",
    "print(\"Here's the function output:\", x)"
   ]
  },
  {
   "cell_type": "markdown",
   "id": "16707438",
   "metadata": {
    "slideshow": {
     "slide_type": "subslide"
    }
   },
   "source": [
    "- string *\"This prints.\"* is not the value returned by *myfunc()*\n",
    "- The value returned appears after the return statement: *6*\n",
    "- first *print()* statement executes, but the second does not\n",
    "- Statements after *return* cannot run"
   ]
  },
  {
   "cell_type": "code",
   "execution_count": null,
   "id": "01e8d78d",
   "metadata": {
    "slideshow": {
     "slide_type": "subslide"
    }
   },
   "outputs": [],
   "source": [
    "def sillyfunc():\n",
    "    #function definition\n",
    "    #user supplies a word\n",
    "    wd = input('Type a word: ')\n",
    "    \n",
    "    if len(wd) > 4: #check length of word\n",
    "        #return length and exit function\n",
    "        return len(wd)\n",
    "    else:\n",
    "        #otherwise...\n",
    "        print('The word is too short!')\n",
    "\n",
    "#save value of function\n",
    "res = sillyfunc()\n",
    "\n",
    "#print value of variable res\n",
    "print('The result: ',res)\n",
    "\n",
    "res = sillyfunc()\n",
    "print('The result: ',res)\n"
   ]
  },
  {
   "cell_type": "markdown",
   "id": "92f40319",
   "metadata": {
    "slideshow": {
     "slide_type": "subslide"
    }
   },
   "source": [
    "- Functions can return more than one value\n",
    "- Several values separated by commas after the return"
   ]
  },
  {
   "cell_type": "code",
   "execution_count": null,
   "id": "672d7625",
   "metadata": {
    "slideshow": {
     "slide_type": "subslide"
    }
   },
   "outputs": [],
   "source": [
    "def myfunc():\n",
    "    #function definition\n",
    "    #collect two strings\n",
    "    x = input('First string: ')\n",
    "    y = input('Second string: ')\n",
    "    z = x + ' ' + y #concatenate strings\n",
    "    #return all three\n",
    "    return len(x),len(y),z\n",
    "\n",
    "#invoke function saving all\n",
    "a,b,c = myfunc()\n",
    "#3 return values\n",
    "print('a =',a)\n",
    "#print the 3 values\n",
    "print('b =',b)\n",
    "print('c =',c)"
   ]
  },
  {
   "cell_type": "markdown",
   "id": "f51c3dc2",
   "metadata": {
    "slideshow": {
     "slide_type": "subslide"
    }
   },
   "source": [
    "- function prompts for two strings \n",
    "- function returns three values\n",
    "  - length of the first string\n",
    "  - length of the second string\n",
    "  - concatenation of the two strings"
   ]
  },
  {
   "cell_type": "markdown",
   "id": "b9885466",
   "metadata": {
    "slideshow": {
     "slide_type": "slide"
    }
   },
   "source": [
    "# 5.3 Functions That Take Arguments"
   ]
  },
  {
   "cell_type": "markdown",
   "id": "cba0fe77",
   "metadata": {
    "slideshow": {
     "slide_type": "fragment"
    }
   },
   "source": [
    "- superficially simple to do, but can get tricky\n",
    "- function arguments:\n",
    "  - variable names to be used by function\n",
    "\n",
    "- enlisted in the parentheses in the function definition."
   ]
  },
  {
   "cell_type": "code",
   "execution_count": null,
   "id": "57c5f970",
   "metadata": {
    "slideshow": {
     "slide_type": "subslide"
    }
   },
   "outputs": [],
   "source": [
    "#function that takes 2 arguments\n",
    "def myfunc(a,b):\n",
    "    #return the concatenation\n",
    "    #OR addition of those values\n",
    "    return a + b\n",
    "\n",
    "#invoke the function with numbers\n",
    "print(myfunc(3,10))\n",
    "#invoke the function with strings\n",
    "print(myfunc('strings ','too'))"
   ]
  },
  {
   "cell_type": "markdown",
   "id": "3e53de01",
   "metadata": {
    "slideshow": {
     "slide_type": "fragment"
    }
   },
   "source": [
    "- two arguments, a and b. \n",
    "- functions applies **addition operator +** \n",
    "  - integer arguments -> addition of the arguments\n",
    "  - string arguments -> concatenation of those arguments\n",
    "- Python does not restrict type of arguments!"
   ]
  },
  {
   "cell_type": "markdown",
   "id": "c7237720",
   "metadata": {
    "slideshow": {
     "slide_type": "subslide"
    }
   },
   "source": [
    "### Functions and mutability"
   ]
  },
  {
   "cell_type": "code",
   "execution_count": null,
   "id": "348b7b9b",
   "metadata": {
    "slideshow": {
     "slide_type": "fragment"
    }
   },
   "outputs": [],
   "source": [
    "x = 'a value'\n",
    "def anotherfunc(a):\n",
    "    a = 'another value!'\n",
    "    return a\n",
    "print(x)\n",
    "print(anotherfunc(x))\n",
    "print(x)"
   ]
  },
  {
   "cell_type": "markdown",
   "id": "17e36563",
   "metadata": {
    "slideshow": {
     "slide_type": "fragment"
    }
   },
   "source": [
    "- strings are **immutable**\n",
    "- inside the function a new value is assigned to **a**\n",
    "- old value still attached to **x** -> not collected as *garbage*\n",
    "- after function original value of **x** is printed"
   ]
  },
  {
   "cell_type": "code",
   "execution_count": null,
   "id": "0128bde3",
   "metadata": {
    "slideshow": {
     "slide_type": "subslide"
    }
   },
   "outputs": [],
   "source": [
    "x = [4,5,6]\n",
    "def anotherfunc(a):\n",
    "    a.append(7)\n",
    "    return a\n",
    "\n",
    "print(x)\n",
    "print(anotherfunc(x))\n",
    "print(x)"
   ]
  },
  {
   "cell_type": "markdown",
   "id": "dcbe4657",
   "metadata": {
    "slideshow": {
     "slide_type": "fragment"
    }
   },
   "source": [
    "- Value of **x** changes after the function applies!\n",
    "- Reason - lists are mutable.\n",
    "- Function forces **a** to refer to the same list as **x**."
   ]
  },
  {
   "cell_type": "markdown",
   "id": "457e9788",
   "metadata": {
    "slideshow": {
     "slide_type": "subslide"
    }
   },
   "source": [
    "### Ways of invocing functions"
   ]
  },
  {
   "cell_type": "code",
   "execution_count": null,
   "id": "aba6b6d2",
   "metadata": {
    "slideshow": {
     "slide_type": "fragment"
    }
   },
   "outputs": [],
   "source": [
    "#function definition\n",
    "def thefunction(x,y):\n",
    "    return x + ' ' + y\n",
    "\n",
    "#invoke the function 3 ways\n",
    "print(thefunction('one','way'))"
   ]
  },
  {
   "cell_type": "code",
   "execution_count": null,
   "id": "bc2225e2",
   "metadata": {
    "slideshow": {
     "slide_type": "fragment"
    }
   },
   "outputs": [],
   "source": [
    "print(thefunction(x='another',y='way'))\n",
    "print(thefunction(y='way',x='yet another'))"
   ]
  },
  {
   "cell_type": "markdown",
   "id": "59d14e3d",
   "metadata": {
    "slideshow": {
     "slide_type": "fragment"
    }
   },
   "source": [
    "- two arguments function\n",
    "- invoked in three different ways\n",
    "  - providing two arguments (specific order)\n",
    "  - naming the variables (any order)"
   ]
  },
  {
   "cell_type": "code",
   "execution_count": null,
   "id": "f8630fb8",
   "metadata": {
    "slideshow": {
     "slide_type": "subslide"
    }
   },
   "outputs": [],
   "source": [
    "#function with default for 2nd arg\n",
    "def f(x,y='oops'):\n",
    "    return x + ' ' + y\n",
    "\n",
    "#invoked 3 ways\n",
    "\n",
    "print(f('hat'))\n",
    "print(f(x='chair'))\n",
    "print(f('hat','chair'))"
   ]
  },
  {
   "cell_type": "code",
   "execution_count": null,
   "id": "d2fdef39",
   "metadata": {
    "slideshow": {
     "slide_type": "subslide"
    }
   },
   "outputs": [],
   "source": [
    "#function with unspecified\n",
    "#number of unnamed and named arguments\n",
    "def func(*args,**kwargs):\n",
    "    for a in args:\n",
    "        #print unnamed args\n",
    "        print(a)\n",
    "    for k in kwargs: #print named args\n",
    "        print(k,'\\t',kwargs[k])\n",
    "\n",
    "#invoked with unnamed FOLLOWED by named arguments\n",
    "func(3,6,8,hat='wow',chair=3.5)"
   ]
  },
  {
   "cell_type": "markdown",
   "id": "96d2e8c9",
   "metadata": {
    "slideshow": {
     "slide_type": "slide"
    }
   },
   "source": [
    "# 5.4 Recursive and Lambda Functions"
   ]
  },
  {
   "cell_type": "code",
   "execution_count": null,
   "id": "2df97b97",
   "metadata": {
    "slideshow": {
     "slide_type": "subslide"
    }
   },
   "outputs": [],
   "source": [
    "#function with 2 args:\n",
    "#a function f\n",
    "# and something else x\n",
    "def func(f,x):\n",
    "    return f(x)\n",
    "\n",
    "print(func(len,'hat'))"
   ]
  },
  {
   "cell_type": "code",
   "execution_count": null,
   "id": "61983456",
   "metadata": {
    "slideshow": {
     "slide_type": "subslide"
    }
   },
   "outputs": [],
   "source": [
    "def func(x):\n",
    "    if x == 'L':\n",
    "        return len\n",
    "    else:\n",
    "        return type\n",
    "#invoking the function returns a\n",
    "#function which we apply to\n",
    "#'chair'. This may look confusing....\n",
    "print(func('L')('chair'))\n",
    "print(func('A')('chair'))"
   ]
  },
  {
   "cell_type": "markdown",
   "id": "955e32a9",
   "metadata": {
    "slideshow": {
     "slide_type": "subslide"
    }
   },
   "source": [
    "- Recursive functions can manipulate themselves\n",
    "- e.g. function for calculating factorials"
   ]
  },
  {
   "cell_type": "code",
   "execution_count": null,
   "id": "c6fbd3aa",
   "metadata": {
    "slideshow": {
     "slide_type": "subslide"
    }
   },
   "outputs": [],
   "source": [
    "def fac(n):\n",
    "    #function definition\n",
    "    if n == 1:\n",
    "        #base case of recursion\n",
    "        return 1\n",
    "    else:\n",
    "        #recursive clause\n",
    "        #invokes the function ITSELF\n",
    "        print(n)\n",
    "        return (n * fac(n-1))\n",
    "\n",
    "#invoked with base case\n",
    "print('1! =',fac(1))\n",
    "\n",
    "#invoked with recursive case\n",
    "print('2! =',fac(5))"
   ]
  },
  {
   "cell_type": "markdown",
   "id": "cdeeca6e",
   "metadata": {
    "slideshow": {
     "slide_type": "subslide"
    }
   },
   "source": [
    "- recursive function fac(). \n",
    "- different return depending on the argument:\n",
    "  - if arguement is 1, then 1 is returned\n",
    "  - Otherwise value times the result of applying fac() to the next lower integer.\n",
    "- Walk through example:<br>\n",
    "Step 1: fac(3)<br>\n",
    "Step 2: 3 * fac(2)<br>\n",
    "Step 3: 3 * 2 * fac(1)<br>\n",
    "Step 4: 3 * 2 * 1 = 6<br>"
   ]
  },
  {
   "cell_type": "markdown",
   "id": "d511157c",
   "metadata": {
    "slideshow": {
     "slide_type": "slide"
    }
   },
   "source": [
    "### Lambda functions"
   ]
  },
  {
   "cell_type": "markdown",
   "id": "237ddbcd",
   "metadata": {
    "slideshow": {
     "slide_type": "fragment"
    }
   },
   "source": [
    "- **Lambda** functions are anonymous functions\n",
    "- Keyword **def** and the **function name** are replaced with the keyword **lambda**\n",
    "- Can be used by putting parentheses with arguments after it."
   ]
  },
  {
   "cell_type": "code",
   "execution_count": null,
   "id": "38ed37dd",
   "metadata": {
    "slideshow": {
     "slide_type": "fragment"
    }
   },
   "outputs": [],
   "source": [
    "print((lambda x,y,z: x + y + z)('hat', 'test', 'test2'))"
   ]
  },
  {
   "cell_type": "code",
   "execution_count": null,
   "id": "1acf6563",
   "metadata": {
    "slideshow": {
     "slide_type": "subslide"
    }
   },
   "outputs": [],
   "source": [
    "def makeAddN(n):\n",
    "#function definition\n",
    "#returns new function\n",
    "    return lambda x: x + n\n",
    "\n",
    "#invoke twice, making 2 new functions\n",
    "add2 = makeAddN(2)\n",
    "add6 = makeAddN(6)\n",
    "#apply those two new functions\n",
    "print(add2(17))\n",
    "print(add6(17))"
   ]
  },
  {
   "cell_type": "markdown",
   "id": "b008e625",
   "metadata": {
    "slideshow": {
     "slide_type": "slide"
    }
   },
   "source": [
    "# 5.5 Modules"
   ]
  },
  {
   "cell_type": "markdown",
   "id": "92540d4d",
   "metadata": {
    "slideshow": {
     "slide_type": "fragment"
    }
   },
   "source": [
    "- Python has various objects, functions, and methods\n",
    "- Some require appropriate import statement <br>\n",
    "  - *e.g. import sys* to get command line arguments via *sys.argv* variable\n",
    "  - *e.g. randint()* function requires importing **random** module\n",
    "- The most frequently used are always available\n",
    "- Those needed only in specific situations requires import of specialize module\n",
    "- The alternative would be a disaster - thousands of functions being available at once!\n",
    "- How to distinguish everything from each other? We would need rather long names:)"
   ]
  },
  {
   "cell_type": "markdown",
   "id": "2a2e1090",
   "metadata": {
    "slideshow": {
     "slide_type": "subslide"
    }
   },
   "source": [
    "## This section covers\n",
    "- finding out what modules are available to you\n",
    "- getting help on any of them.\n",
    "- importing modules. \n",
    "- writing your own modules.\n"
   ]
  },
  {
   "cell_type": "code",
   "execution_count": null,
   "id": "864c00a9",
   "metadata": {
    "slideshow": {
     "slide_type": "subslide"
    }
   },
   "outputs": [],
   "source": [
    "# Find out what modules are installed on your system\n",
    "help('modules')\n",
    "#This will generate a list of every module installed  \n",
    "# + Python programs in the current directory"
   ]
  },
  {
   "cell_type": "code",
   "execution_count": null,
   "id": "862ebf44",
   "metadata": {
    "slideshow": {
     "slide_type": "subslide"
    }
   },
   "outputs": [],
   "source": [
    "#To find out more about module import it then use help()\n",
    "import re\n",
    "help(re)"
   ]
  },
  {
   "cell_type": "code",
   "execution_count": null,
   "id": "73af47f5",
   "metadata": {
    "slideshow": {
     "slide_type": "subslide"
    }
   },
   "outputs": [],
   "source": [
    "from sys import argv\n",
    "print(sys.argv)"
   ]
  },
  {
   "cell_type": "code",
   "execution_count": null,
   "id": "13914179",
   "metadata": {
    "slideshow": {
     "slide_type": "subslide"
    }
   },
   "outputs": [],
   "source": [
    "#importing whole module\n",
    "import sys\n",
    "print(sys.argv)"
   ]
  },
  {
   "cell_type": "code",
   "execution_count": null,
   "id": "b440acbd",
   "metadata": {
    "slideshow": {
     "slide_type": "subslide"
    }
   },
   "outputs": [],
   "source": [
    "# importing only specific elements\n",
    "from sys import argv\n",
    "print(argv)"
   ]
  },
  {
   "cell_type": "code",
   "execution_count": null,
   "id": "aef17716",
   "metadata": {
    "slideshow": {
     "slide_type": "subslide"
    }
   },
   "outputs": [],
   "source": [
    "# You can import everything from a module:\n",
    "# e.g. from sys import * \n",
    "# Bad idea! It makes everything in the module available \n",
    "# Can lead to unintended name conflicts."
   ]
  },
  {
   "cell_type": "code",
   "execution_count": null,
   "id": "83bc9415",
   "metadata": {
    "slideshow": {
     "slide_type": "subslide"
    }
   },
   "outputs": [],
   "source": [
    "#To create alias for the module in the import statement.\n",
    "import sys as s\n",
    "print(s.argv)\n",
    "\n",
    "import pandas as pd\n",
    "import numpy as np"
   ]
  },
  {
   "cell_type": "code",
   "execution_count": null,
   "id": "08b7c2f2",
   "metadata": {
    "slideshow": {
     "slide_type": "subslide"
    }
   },
   "outputs": [],
   "source": [
    "# Aliases allows using a different module prefix for any function or object imported\n",
    "# Different import options allow keeping program name space as uncluttered as possible\n",
    "# It's important to restrict what elements are available and control naming to avoid conflicts"
   ]
  },
  {
   "cell_type": "markdown",
   "id": "e12f95e6",
   "metadata": {
    "slideshow": {
     "slide_type": "slide"
    }
   },
   "source": [
    "# 5.6 Writing your own modules"
   ]
  },
  {
   "cell_type": "code",
   "execution_count": null,
   "id": "a3e2bd0e",
   "metadata": {
    "slideshow": {
     "slide_type": "fragment"
    }
   },
   "outputs": [],
   "source": [
    "#our own module (saved as file func25.py)\n",
    "\n",
    "myVar = 'hats and lemons'  #variable\n",
    "\n",
    "def myFunc(s):             #function\n",
    "\treturn len(s)\n"
   ]
  },
  {
   "cell_type": "code",
   "execution_count": null,
   "id": "d87fbffb",
   "metadata": {
    "slideshow": {
     "slide_type": "subslide"
    }
   },
   "outputs": [],
   "source": [
    "import func25\n",
    "#import function\n",
    "#invoke variable with full name\n",
    "print(func25.myVar)\n",
    "#invoke both with full names\n",
    "print(func25.myFunc(func25.myVar))"
   ]
  },
  {
   "cell_type": "code",
   "execution_count": null,
   "id": "22d19a21",
   "metadata": {
    "slideshow": {
     "slide_type": "subslide"
    }
   },
   "outputs": [],
   "source": [
    "#invoke everything from the module\n",
    "from func25 import *\n",
    "#invoke variable without prefix\n",
    "print(myVar)\n",
    "#invoke both without prefixes\n",
    "print(myFunc(myVar))"
   ]
  },
  {
   "cell_type": "code",
   "execution_count": null,
   "id": "7d93324f",
   "metadata": {
    "slideshow": {
     "slide_type": "subslide"
    }
   },
   "outputs": [],
   "source": [
    "#Finally, we can, as above, import the module with a different name:\n",
    "#import with abbreviated prefix\n",
    "import func25 as f\n",
    "#invoke function with f prefix\n",
    "print(f.myVar)\n",
    "#invoke both with f prefix\n",
    "print(f.myFunc(f.myVar))"
   ]
  },
  {
   "cell_type": "markdown",
   "id": "01f3ac3d",
   "metadata": {
    "slideshow": {
     "slide_type": "subslide"
    }
   },
   "source": [
    "### Imported only and runnable modules"
   ]
  },
  {
   "cell_type": "markdown",
   "id": "50dbb2bb",
   "metadata": {
    "slideshow": {
     "slide_type": "fragment"
    }
   },
   "source": [
    "- We can write modules that can be **imported** or be **run on their own**\n",
    "    - Imported - provide functions and variables that other programs can use\n",
    "    - Runned on their own - use those functions and variables themselves."
   ]
  },
  {
   "cell_type": "markdown",
   "id": "11df0342",
   "metadata": {
    "slideshow": {
     "slide_type": "subslide"
    }
   },
   "source": [
    "- The **__name__** variable can be used for controlling module behaviour\n",
    "- The **__name__ **  is automatically set to '__main__' when program is loaded in directly\n"
   ]
  },
  {
   "cell_type": "code",
   "execution_count": null,
   "id": "fb916750",
   "metadata": {
    "slideshow": {
     "slide_type": "fragment"
    }
   },
   "outputs": [],
   "source": [
    "#module that can run on its own\n",
    "myVar = 'hats and lemons'#variable\n",
    "def myFunc(s):\n",
    "    return len(s)#function\n",
    "#if this is loaded on its own...\n",
    "if __name__ == '__main__':\n",
    "    print(myFunc(myVar))\n",
    "\n",
    "# This program will print out the length of myVar when it is invoked on its own."
   ]
  },
  {
   "cell_type": "markdown",
   "id": "590f5420",
   "metadata": {
    "slideshow": {
     "slide_type": "subslide"
    }
   },
   "source": [
    "## Introducing special comments - docstrings"
   ]
  },
  {
   "cell_type": "markdown",
   "id": "1b9be8b0",
   "metadata": {
    "slideshow": {
     "slide_type": "fragment"
    }
   },
   "source": [
    "- So far comments in programs were used as:\n",
    "  - notes to ourselves\n",
    "  - notes to other programmers who might inherit our code\n",
    "- For **modules** we need to describe the functions and variables our module provides.\n",
    "- **docstrings** - best way to document our functions for other programmers \n",
    "- **docstrings** enable others to use **help()** function to find out more about any function\n"
   ]
  },
  {
   "cell_type": "markdown",
   "id": "37c42d04",
   "metadata": {
    "slideshow": {
     "slide_type": "subslide"
    }
   },
   "source": [
    "- **docstring** is a triple-quoted string within a function right after the def line. \n",
    "- The triple-quoted string includes two bits of information: \n",
    "  - an intuitive statement of what the function does \n",
    "  - an explanation of what the argument is"
   ]
  },
  {
   "cell_type": "code",
   "execution_count": null,
   "id": "3ae031e2",
   "metadata": {
    "slideshow": {
     "slide_type": "fragment"
    }
   },
   "outputs": [],
   "source": [
    "# example func30.py\n",
    "def myLen(s):\n",
    "\t'''This computes the length of a string.\n",
    "\ts -- the string\n",
    "\t'''\n",
    "\treturn len(s)\n"
   ]
  },
  {
   "cell_type": "code",
   "execution_count": null,
   "id": "252202f2",
   "metadata": {
    "slideshow": {
     "slide_type": "fragment"
    }
   },
   "outputs": [],
   "source": [
    "import func30\n",
    "help(func30.myLen)"
   ]
  },
  {
   "cell_type": "markdown",
   "id": "cf00fad4",
   "metadata": {
    "slideshow": {
     "slide_type": "subslide"
    }
   },
   "source": [
    "- Docstrings - are used to make the functions of your modules usable by others.\n",
    "- Comments- used for you or others to understand or alter your code.\n",
    "- You should make use of both in modules, but in different ways"
   ]
  },
  {
   "cell_type": "markdown",
   "id": "2c6e5bc5",
   "metadata": {
    "slideshow": {
     "slide_type": "subslide"
    }
   },
   "source": [
    "## Protecting module functions and variables\n",
    "\n",
    "- Modules can make functions and variables available for other programs.\n",
    "- Docstrings helps to describe their purpose and usage method\n",
    "- Some module functions or variables should be protected (not be available for other programs)"
   ]
  },
  {
   "cell_type": "markdown",
   "id": "a08928aa",
   "metadata": {
    "slideshow": {
     "slide_type": "subslide"
    }
   },
   "source": [
    "- Example purpose of the module:\n",
    "  - reads in a file\n",
    "  - returns a list of all words with an even number of letters\n",
    "  - returns how frequent each of those words is.\n",
    "\n",
    "- Module may provide function like evenCount(), which:\n",
    "  - takes a filename as an argument \n",
    "  - returns a Python dictionary\n",
    "    - key is a word with an even number of letters \n",
    "    - value is the frequency of that word."
   ]
  },
  {
   "cell_type": "markdown",
   "id": "c0e80e52",
   "metadata": {
    "slideshow": {
     "slide_type": "subslide"
    }
   },
   "source": [
    "- *evenCount()* function to work may require “helper” functions\n",
    "- These would be part of module and be called by the *evenCount()* function\n",
    "- Other programmers **do not need or should have direct access** to them\n",
    "- **Take-away - private functions should always have names that begin with _.**"
   ]
  },
  {
   "cell_type": "code",
   "execution_count": null,
   "id": "161ddbd2",
   "metadata": {
    "slideshow": {
     "slide_type": "subslide"
    }
   },
   "outputs": [],
   "source": [
    "# func32.py \n",
    "# example of module with private \n",
    "def myF(s):\n",
    "    #this uses _mySplit()\n",
    "    '''This calculates the number of\n",
    "    words in a string minus one.\n",
    "    s -- the string\n",
    "    '''\n",
    "    wds = _mySplit(s)\n",
    "    return len(wds)\n",
    "\n",
    "def _mySplit(s):\n",
    "    #this is private!\n",
    "    '''This returns all the words in\n",
    "    a string except the first.\n",
    "    This docstring is pointless!\n",
    "    '''\n",
    "    ws = s.split()\n",
    "    return ws[1:]"
   ]
  },
  {
   "cell_type": "code",
   "execution_count": null,
   "id": "9e310c3b",
   "metadata": {
    "slideshow": {
     "slide_type": "subslide"
    }
   },
   "outputs": [],
   "source": [
    "from func32 import *\n",
    "#doesn't work!\n",
    "print(_mySplit(\"This doesn't work\"))"
   ]
  },
  {
   "cell_type": "code",
   "execution_count": null,
   "id": "6eb3b986",
   "metadata": {
    "slideshow": {
     "slide_type": "fragment"
    }
   },
   "outputs": [],
   "source": [
    "import func32\n",
    "print(func32._mySplit(\"Oh, this does work\"))"
   ]
  },
  {
   "cell_type": "code",
   "execution_count": null,
   "id": "29483a20",
   "metadata": {
    "slideshow": {
     "slide_type": "fragment"
    }
   },
   "outputs": [],
   "source": [
    "from func32 import _mySplit\n",
    "print(_mySplit(\"Oh, this works too\"))"
   ]
  },
  {
   "cell_type": "markdown",
   "id": "6e42475d",
   "metadata": {
    "slideshow": {
     "slide_type": "subslide"
    }
   },
   "source": [
    "- Effectively, amount of privacy granted fron using the underscore prefix is limited\n",
    "- It's possile to reach into a module and make use of something with an underscore prefix. \n",
    "- Yet, Python programmers assume that use of underscore in name indicates private use\n",
    "- Using underscores help programmers to understand the logic and intent of your code."
   ]
  },
  {
   "cell_type": "markdown",
   "id": "f6d54d44",
   "metadata": {
    "slideshow": {
     "slide_type": "slide"
    }
   },
   "source": [
    "# 5.7 Docstrings and Modules"
   ]
  },
  {
   "cell_type": "markdown",
   "id": "63928603",
   "metadata": {
    "slideshow": {
     "slide_type": "fragment"
    }
   },
   "source": [
    "- Modules are documented with docstrings as well\n",
    "  - triple-quoted strings that appear at the beginning of a module\n",
    "  - first line of a function\n",
    "  "
   ]
  },
  {
   "cell_type": "code",
   "execution_count": null,
   "id": "5ad61128",
   "metadata": {
    "slideshow": {
     "slide_type": "subslide"
    }
   },
   "outputs": [],
   "source": [
    "'''This is a test module.\n",
    "Author:\n",
    "Jan Kowalski\n",
    "Version: 10 (11/18)\n",
    "'''\n",
    "def f(x):\n",
    "    '''This function doubles its argument.\n",
    "    Args:\n",
    "    x: a number to double\n",
    "    Returns:\n",
    "    x*2\n",
    "    '''\n",
    "    y = x * 2\n",
    "    return y"
   ]
  },
  {
   "cell_type": "markdown",
   "id": "995b7b3d",
   "metadata": {
    "slideshow": {
     "slide_type": "fragment"
    }
   },
   "source": [
    "- The first few lines of the file document the module.\n",
    "  - Description of what the module does\n",
    "  - Good programming practice - author’s name\n",
    "  - Indication of what version of the software it is (perhaps including the date)\n",
    "- The first line of a function can also be a docstring. \n",
    "  - function description\n",
    "  - explain what arguments function takes and what values are returned."
   ]
  },
  {
   "cell_type": "markdown",
   "id": "d01dd76e",
   "metadata": {
    "slideshow": {
     "slide_type": "fragment"
    }
   },
   "source": [
    "- Docstrings are instances of public documentation. \n",
    "- Can be displayed via the help() function whenever the module is loaded.\n",
    "- Private functions (with a prefixed underscore) having docstrings will not be displayed with help() call."
   ]
  },
  {
   "cell_type": "code",
   "execution_count": null,
   "id": "31712a4c",
   "metadata": {},
   "outputs": [],
   "source": []
  },
  {
   "cell_type": "code",
   "execution_count": null,
   "id": "1ed1a1a0",
   "metadata": {},
   "outputs": [],
   "source": []
  },
  {
   "cell_type": "code",
   "execution_count": null,
   "id": "343eebf9",
   "metadata": {},
   "outputs": [],
   "source": []
  },
  {
   "cell_type": "code",
   "execution_count": null,
   "id": "308825eb",
   "metadata": {},
   "outputs": [],
   "source": []
  },
  {
   "cell_type": "code",
   "execution_count": null,
   "id": "bea90725",
   "metadata": {},
   "outputs": [],
   "source": []
  }
 ],
 "metadata": {
  "celltoolbar": "Slideshow",
  "kernelspec": {
   "display_name": "Python 3 (ipykernel)",
   "language": "python",
   "name": "python3"
  },
  "language_info": {
   "codemirror_mode": {
    "name": "ipython",
    "version": 3
   },
   "file_extension": ".py",
   "mimetype": "text/x-python",
   "name": "python",
   "nbconvert_exporter": "python",
   "pygments_lexer": "ipython3",
   "version": "3.10.6"
  }
 },
 "nbformat": 4,
 "nbformat_minor": 5
}

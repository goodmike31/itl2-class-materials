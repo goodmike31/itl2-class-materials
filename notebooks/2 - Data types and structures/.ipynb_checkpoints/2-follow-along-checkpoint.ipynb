{
 "cells": [
  {
   "cell_type": "code",
   "execution_count": null,
   "id": "5a31a451",
   "metadata": {},
   "outputs": [],
   "source": [
    "!jupyter nbconvert \"2-follow-along.ipynb\" --to slides --post serve"
   ]
  },
  {
   "cell_type": "markdown",
   "id": "89dddc70",
   "metadata": {
    "slideshow": {
     "slide_type": "slide"
    }
   },
   "source": [
    "## Data Types and Variables\n",
    "- Numbers: integers and floats\n",
    "- Strings\n",
    "- Lists\n",
    "- Tuples\n",
    "- Dictionaries\n"
   ]
  },
  {
   "cell_type": "markdown",
   "id": "68659f84",
   "metadata": {
    "slideshow": {
     "slide_type": "slide"
    }
   },
   "source": [
    "## Mutability.\n",
    "Basically, some kinds of data cannot be changed once they have been created, while others can.\n",
    "Important to remember, leads to many errors."
   ]
  },
  {
   "cell_type": "code",
   "execution_count": 1,
   "id": "f83fa282",
   "metadata": {
    "slideshow": {
     "slide_type": "subslide"
    }
   },
   "outputs": [],
   "source": [
    "#example 1\n"
   ]
  },
  {
   "cell_type": "code",
   "execution_count": 2,
   "id": "1c77937e",
   "metadata": {
    "slideshow": {
     "slide_type": "fragment"
    }
   },
   "outputs": [
    {
     "data": {
      "text/plain": [
       "15.9"
      ]
     },
     "execution_count": 2,
     "metadata": {},
     "output_type": "execute_result"
    }
   ],
   "source": [
    "#example 2\n",
    "\n",
    "13 + 2.9"
   ]
  },
  {
   "cell_type": "code",
   "execution_count": null,
   "id": "2b84fe85",
   "metadata": {},
   "outputs": [],
   "source": []
  },
  {
   "cell_type": "markdown",
   "id": "0906566a",
   "metadata": {
    "slideshow": {
     "slide_type": "slide"
    }
   },
   "source": [
    "## Variable assignment\n",
    "We can also store – and later recall – any value. <br> We refer to this as variable\n",
    "assignment, or variable binding; we take some value and put it into a named\n",
    "location or receptacle. <br> The syntax is simple: the name occurs on the left, the\n",
    "value on the right, and = goes in between. "
   ]
  },
  {
   "cell_type": "code",
   "execution_count": 3,
   "id": "f5f6edfe",
   "metadata": {
    "slideshow": {
     "slide_type": "subslide"
    }
   },
   "outputs": [],
   "source": [
    "#example 1\n",
    "x=5"
   ]
  },
  {
   "cell_type": "code",
   "execution_count": 4,
   "id": "52d4b869",
   "metadata": {
    "slideshow": {
     "slide_type": "fragment"
    }
   },
   "outputs": [],
   "source": [
    "#example 2\n",
    "bananas=6"
   ]
  },
  {
   "cell_type": "code",
   "execution_count": 5,
   "id": "8034f421",
   "metadata": {},
   "outputs": [
    {
     "data": {
      "text/plain": [
       "8"
      ]
     },
     "execution_count": 5,
     "metadata": {},
     "output_type": "execute_result"
    }
   ],
   "source": [
    "3 + x"
   ]
  },
  {
   "cell_type": "code",
   "execution_count": 6,
   "id": "33bb5809",
   "metadata": {},
   "outputs": [
    {
     "data": {
      "text/plain": [
       "30"
      ]
     },
     "execution_count": 6,
     "metadata": {},
     "output_type": "execute_result"
    }
   ],
   "source": [
    "bananas * 5"
   ]
  },
  {
   "cell_type": "markdown",
   "id": "a348fd2a",
   "metadata": {
    "slideshow": {
     "slide_type": "slide"
    }
   },
   "source": [
    "## Variables naming\n",
    "Variable names must begin with a letter or an underline. <br>The remainder of\n",
    "the name can consist of any additional letters, underlines, or numbers. <br>Variable\n",
    "names are case-sensitive and should not contain any of the reserved Python\n",
    "words:\n",
    "- False\n",
    "- None\n",
    "- True\n",
    "- and\n",
    "- as\n",
    "- assert\n",
    "- break\n",
    "- class\n",
    "- continue\n",
    "- def\n",
    "- del\n",
    "- elif\n",
    "- else\n",
    "- except\n",
    "- finally\n",
    "- for\n",
    "- from\n",
    "- global\n",
    "- if\n",
    "- import\n",
    "- in\n",
    "- is\n",
    "- lambda\n",
    "- nonlocal\n",
    "- not\n",
    "- or\n",
    "- pass\n",
    "- raise\n",
    "- return\n",
    "- try\n",
    "- while\n",
    "- with\n",
    "- yield\n",
    "\n"
   ]
  },
  {
   "cell_type": "markdown",
   "id": "5492810f",
   "metadata": {
    "slideshow": {
     "slide_type": "slide"
    }
   },
   "source": [
    "The right side of an assignment can include functions and variables. For\n",
    "example:\n"
   ]
  },
  {
   "cell_type": "code",
   "execution_count": 12,
   "id": "36f4dc7e",
   "metadata": {
    "slideshow": {
     "slide_type": "fragment"
    }
   },
   "outputs": [],
   "source": [
    "#example\n",
    "oranges = bananas * 4\n",
    "bananas = bananas - 5"
   ]
  },
  {
   "cell_type": "markdown",
   "id": "0b9ce17d",
   "metadata": {
    "slideshow": {
     "slide_type": "fragment"
    }
   },
   "source": [
    "Mind the difference between '=' and '==' operators"
   ]
  },
  {
   "cell_type": "code",
   "execution_count": 13,
   "id": "58663bf3",
   "metadata": {
    "slideshow": {
     "slide_type": "fragment"
    }
   },
   "outputs": [
    {
     "data": {
      "text/plain": [
       "True"
      ]
     },
     "execution_count": 13,
     "metadata": {},
     "output_type": "execute_result"
    }
   ],
   "source": [
    "'hats' == 'hat' + 's'\n"
   ]
  },
  {
   "cell_type": "code",
   "execution_count": 14,
   "id": "f0a6cfa1",
   "metadata": {
    "slideshow": {
     "slide_type": "fragment"
    }
   },
   "outputs": [
    {
     "data": {
      "text/plain": [
       "False"
      ]
     },
     "execution_count": 14,
     "metadata": {},
     "output_type": "execute_result"
    }
   ],
   "source": [
    "bananas == bananas - 5\n"
   ]
  },
  {
   "cell_type": "markdown",
   "id": "08975ea1",
   "metadata": {
    "slideshow": {
     "slide_type": "slide"
    }
   },
   "source": [
    "## Variable Names\n",
    "- Unambigous\n",
    "<br>Good: ageOfTheStudent \n",
    "<br>Bad: Var, Age\n",
    "- Finding balance between descriptiveness and conciseness\n",
    "- Depends on frequency and span of usage (e.g. local functions vs global configs)\n"
   ]
  },
  {
   "cell_type": "markdown",
   "id": "d3952c97",
   "metadata": {
    "slideshow": {
     "slide_type": "slide"
    }
   },
   "source": [
    "## Data types\n",
    "### Numbers\n",
    "- integer, floating point, and complex.\n",
    "- "
   ]
  },
  {
   "cell_type": "code",
   "execution_count": 21,
   "id": "cddd15b4",
   "metadata": {
    "slideshow": {
     "slide_type": "subslide"
    }
   },
   "outputs": [
    {
     "data": {
      "text/plain": [
       "3"
      ]
     },
     "execution_count": 21,
     "metadata": {},
     "output_type": "execute_result"
    }
   ],
   "source": [
    "#example 1\n",
    "# Convert from string\n",
    "int('3')"
   ]
  },
  {
   "cell_type": "code",
   "execution_count": 20,
   "id": "e76ee9cf",
   "metadata": {
    "slideshow": {
     "slide_type": "fragment"
    }
   },
   "outputs": [
    {
     "data": {
      "text/plain": [
       "7.2"
      ]
     },
     "execution_count": 20,
     "metadata": {},
     "output_type": "execute_result"
    }
   ],
   "source": [
    "float('7.2')"
   ]
  },
  {
   "cell_type": "code",
   "execution_count": 19,
   "id": "8150a030",
   "metadata": {
    "slideshow": {
     "slide_type": "fragment"
    }
   },
   "outputs": [
    {
     "data": {
      "text/plain": [
       "'7.2'"
      ]
     },
     "execution_count": 19,
     "metadata": {},
     "output_type": "execute_result"
    }
   ],
   "source": [
    "str(float('7.2'))"
   ]
  },
  {
   "cell_type": "markdown",
   "id": "74b9961e",
   "metadata": {
    "slideshow": {
     "slide_type": "slide"
    }
   },
   "source": [
    "## Booleans\n",
    "- expressions that are true or false\n",
    "- manipulated with the basic logical operators: and, or, and not.\n",
    "- combined into logical expressions"
   ]
  },
  {
   "cell_type": "code",
   "execution_count": 205,
   "id": "02d9c9b3",
   "metadata": {
    "slideshow": {
     "slide_type": "subslide"
    }
   },
   "outputs": [
    {
     "data": {
      "text/plain": [
       "35"
      ]
     },
     "execution_count": 205,
     "metadata": {},
     "output_type": "execute_result"
    }
   ],
   "source": [
    "#example\n",
    "True and False"
   ]
  },
  {
   "cell_type": "code",
   "execution_count": 206,
   "id": "a3c30932",
   "metadata": {
    "slideshow": {
     "slide_type": "fragment"
    }
   },
   "outputs": [
    {
     "data": {
      "text/plain": [
       "15.9"
      ]
     },
     "execution_count": 206,
     "metadata": {},
     "output_type": "execute_result"
    }
   ],
   "source": [
    "#example\n",
    "not (False or False)"
   ]
  },
  {
   "cell_type": "code",
   "execution_count": 206,
   "id": "ed6e6f77",
   "metadata": {
    "slideshow": {
     "slide_type": "fragment"
    }
   },
   "outputs": [
    {
     "data": {
      "text/plain": [
       "15.9"
      ]
     },
     "execution_count": 206,
     "metadata": {},
     "output_type": "execute_result"
    }
   ],
   "source": [
    "#example\n",
    "not (not True)"
   ]
  },
  {
   "cell_type": "code",
   "execution_count": 206,
   "id": "1629fda0",
   "metadata": {
    "slideshow": {
     "slide_type": "fragment"
    }
   },
   "outputs": [
    {
     "data": {
      "text/plain": [
       "15.9"
      ]
     },
     "execution_count": 206,
     "metadata": {},
     "output_type": "execute_result"
    }
   ],
   "source": [
    "#mind the parentheses\n",
    "not (False or True)"
   ]
  },
  {
   "cell_type": "code",
   "execution_count": 206,
   "id": "01972536",
   "metadata": {
    "slideshow": {
     "slide_type": "fragment"
    }
   },
   "outputs": [
    {
     "data": {
      "text/plain": [
       "15.9"
      ]
     },
     "execution_count": 206,
     "metadata": {},
     "output_type": "execute_result"
    }
   ],
   "source": [
    "(not False) or True"
   ]
  },
  {
   "cell_type": "code",
   "execution_count": 206,
   "id": "28f4a143",
   "metadata": {
    "slideshow": {
     "slide_type": "fragment"
    }
   },
   "outputs": [
    {
     "data": {
      "text/plain": [
       "15.9"
      ]
     },
     "execution_count": 206,
     "metadata": {},
     "output_type": "execute_result"
    }
   ],
   "source": [
    "#example\n",
    "not (not True)"
   ]
  },
  {
   "cell_type": "code",
   "execution_count": null,
   "id": "00273cd4",
   "metadata": {
    "slideshow": {
     "slide_type": "fragment"
    }
   },
   "outputs": [],
   "source": [
    "x = True\n",
    "y = False\n",
    "x and y\n"
   ]
  },
  {
   "cell_type": "code",
   "execution_count": null,
   "id": "749732d0",
   "metadata": {
    "slideshow": {
     "slide_type": "fragment"
    }
   },
   "outputs": [],
   "source": [
    "(y or (not y))"
   ]
  },
  {
   "cell_type": "markdown",
   "id": "f3186425",
   "metadata": {
    "slideshow": {
     "slide_type": "slide"
    }
   },
   "source": [
    "## Other operators\n"
   ]
  },
  {
   "cell_type": "code",
   "execution_count": 24,
   "id": "0fd10fa9",
   "metadata": {
    "slideshow": {
     "slide_type": "fragment"
    }
   },
   "outputs": [
    {
     "name": "stdout",
     "output_type": "stream",
     "text": [
      "Comparisons\n",
      "***********\n",
      "\n",
      "Unlike C, all comparison operations in Python have the same priority,\n",
      "which is lower than that of any arithmetic, shifting or bitwise\n",
      "operation.  Also unlike C, expressions like \"a < b < c\" have the\n",
      "interpretation that is conventional in mathematics:\n",
      "\n",
      "   comparison    ::= or_expr (comp_operator or_expr)*\n",
      "   comp_operator ::= \"<\" | \">\" | \"==\" | \">=\" | \"<=\" | \"!=\"\n",
      "                     | \"is\" [\"not\"] | [\"not\"] \"in\"\n",
      "\n",
      "Comparisons yield boolean values: \"True\" or \"False\". Custom *rich\n",
      "comparison methods* may return non-boolean values. In this case Python\n",
      "will call \"bool()\" on such value in boolean contexts.\n",
      "\n",
      "Comparisons can be chained arbitrarily, e.g., \"x < y <= z\" is\n",
      "equivalent to \"x < y and y <= z\", except that \"y\" is evaluated only\n",
      "once (but in both cases \"z\" is not evaluated at all when \"x < y\" is\n",
      "found to be false).\n",
      "\n",
      "Formally, if *a*, *b*, *c*, …, *y*, *z* are expressions and *op1*,\n",
      "*op2*, …, *opN* are comparison operators, then \"a op1 b op2 c ... y\n",
      "opN z\" is equivalent to \"a op1 b and b op2 c and ... y opN z\", except\n",
      "that each expression is evaluated at most once.\n",
      "\n",
      "Note that \"a op1 b op2 c\" doesn’t imply any kind of comparison between\n",
      "*a* and *c*, so that, e.g., \"x < y > z\" is perfectly legal (though\n",
      "perhaps not pretty).\n",
      "\n",
      "\n",
      "Value comparisons\n",
      "=================\n",
      "\n",
      "The operators \"<\", \">\", \"==\", \">=\", \"<=\", and \"!=\" compare the values\n",
      "of two objects.  The objects do not need to have the same type.\n",
      "\n",
      "Chapter Objects, values and types states that objects have a value (in\n",
      "addition to type and identity).  The value of an object is a rather\n",
      "abstract notion in Python: For example, there is no canonical access\n",
      "method for an object’s value.  Also, there is no requirement that the\n",
      "value of an object should be constructed in a particular way, e.g.\n",
      "comprised of all its data attributes. Comparison operators implement a\n",
      "particular notion of what the value of an object is.  One can think of\n",
      "them as defining the value of an object indirectly, by means of their\n",
      "comparison implementation.\n",
      "\n",
      "Because all types are (direct or indirect) subtypes of \"object\", they\n",
      "inherit the default comparison behavior from \"object\".  Types can\n",
      "customize their comparison behavior by implementing *rich comparison\n",
      "methods* like \"__lt__()\", described in Basic customization.\n",
      "\n",
      "The default behavior for equality comparison (\"==\" and \"!=\") is based\n",
      "on the identity of the objects.  Hence, equality comparison of\n",
      "instances with the same identity results in equality, and equality\n",
      "comparison of instances with different identities results in\n",
      "inequality.  A motivation for this default behavior is the desire that\n",
      "all objects should be reflexive (i.e. \"x is y\" implies \"x == y\").\n",
      "\n",
      "A default order comparison (\"<\", \">\", \"<=\", and \">=\") is not provided;\n",
      "an attempt raises \"TypeError\".  A motivation for this default behavior\n",
      "is the lack of a similar invariant as for equality.\n",
      "\n",
      "The behavior of the default equality comparison, that instances with\n",
      "different identities are always unequal, may be in contrast to what\n",
      "types will need that have a sensible definition of object value and\n",
      "value-based equality.  Such types will need to customize their\n",
      "comparison behavior, and in fact, a number of built-in types have done\n",
      "that.\n",
      "\n",
      "The following list describes the comparison behavior of the most\n",
      "important built-in types.\n",
      "\n",
      "* Numbers of built-in numeric types (Numeric Types — int, float,\n",
      "  complex) and of the standard library types \"fractions.Fraction\" and\n",
      "  \"decimal.Decimal\" can be compared within and across their types,\n",
      "  with the restriction that complex numbers do not support order\n",
      "  comparison.  Within the limits of the types involved, they compare\n",
      "  mathematically (algorithmically) correct without loss of precision.\n",
      "\n",
      "  The not-a-number values \"float('NaN')\" and \"decimal.Decimal('NaN')\"\n",
      "  are special.  Any ordered comparison of a number to a not-a-number\n",
      "  value is false. A counter-intuitive implication is that not-a-number\n",
      "  values are not equal to themselves.  For example, if \"x =\n",
      "  float('NaN')\", \"3 < x\", \"x < 3\" and \"x == x\" are all false, while \"x\n",
      "  != x\" is true.  This behavior is compliant with IEEE 754.\n",
      "\n",
      "* \"None\" and \"NotImplemented\" are singletons.  **PEP 8** advises that\n",
      "  comparisons for singletons should always be done with \"is\" or \"is\n",
      "  not\", never the equality operators.\n",
      "\n",
      "* Binary sequences (instances of \"bytes\" or \"bytearray\") can be\n",
      "  compared within and across their types.  They compare\n",
      "  lexicographically using the numeric values of their elements.\n",
      "\n",
      "* Strings (instances of \"str\") compare lexicographically using the\n",
      "  numerical Unicode code points (the result of the built-in function\n",
      "  \"ord()\") of their characters. [3]\n",
      "\n",
      "  Strings and binary sequences cannot be directly compared.\n",
      "\n",
      "* Sequences (instances of \"tuple\", \"list\", or \"range\") can be compared\n",
      "  only within each of their types, with the restriction that ranges do\n",
      "  not support order comparison.  Equality comparison across these\n",
      "  types results in inequality, and ordering comparison across these\n",
      "  types raises \"TypeError\".\n",
      "\n",
      "  Sequences compare lexicographically using comparison of\n",
      "  corresponding elements.  The built-in containers typically assume\n",
      "  identical objects are equal to themselves.  That lets them bypass\n",
      "  equality tests for identical objects to improve performance and to\n",
      "  maintain their internal invariants.\n",
      "\n",
      "  Lexicographical comparison between built-in collections works as\n",
      "  follows:\n",
      "\n",
      "  * For two collections to compare equal, they must be of the same\n",
      "    type, have the same length, and each pair of corresponding\n",
      "    elements must compare equal (for example, \"[1,2] == (1,2)\" is\n",
      "    false because the type is not the same).\n",
      "\n",
      "  * Collections that support order comparison are ordered the same as\n",
      "    their first unequal elements (for example, \"[1,2,x] <= [1,2,y]\"\n",
      "    has the same value as \"x <= y\").  If a corresponding element does\n",
      "    not exist, the shorter collection is ordered first (for example,\n",
      "    \"[1,2] < [1,2,3]\" is true).\n",
      "\n",
      "* Mappings (instances of \"dict\") compare equal if and only if they\n",
      "  have equal *(key, value)* pairs. Equality comparison of the keys and\n",
      "  values enforces reflexivity.\n",
      "\n",
      "  Order comparisons (\"<\", \">\", \"<=\", and \">=\") raise \"TypeError\".\n",
      "\n",
      "* Sets (instances of \"set\" or \"frozenset\") can be compared within and\n",
      "  across their types.\n",
      "\n",
      "  They define order comparison operators to mean subset and superset\n",
      "  tests.  Those relations do not define total orderings (for example,\n",
      "  the two sets \"{1,2}\" and \"{2,3}\" are not equal, nor subsets of one\n",
      "  another, nor supersets of one another).  Accordingly, sets are not\n",
      "  appropriate arguments for functions which depend on total ordering\n",
      "  (for example, \"min()\", \"max()\", and \"sorted()\" produce undefined\n",
      "  results given a list of sets as inputs).\n",
      "\n",
      "  Comparison of sets enforces reflexivity of its elements.\n",
      "\n",
      "* Most other built-in types have no comparison methods implemented, so\n",
      "  they inherit the default comparison behavior.\n",
      "\n",
      "User-defined classes that customize their comparison behavior should\n",
      "follow some consistency rules, if possible:\n",
      "\n",
      "* Equality comparison should be reflexive. In other words, identical\n",
      "  objects should compare equal:\n",
      "\n",
      "     \"x is y\" implies \"x == y\"\n",
      "\n",
      "* Comparison should be symmetric. In other words, the following\n",
      "  expressions should have the same result:\n",
      "\n",
      "     \"x == y\" and \"y == x\"\n",
      "\n",
      "     \"x != y\" and \"y != x\"\n",
      "\n",
      "     \"x < y\" and \"y > x\"\n",
      "\n",
      "     \"x <= y\" and \"y >= x\"\n",
      "\n",
      "* Comparison should be transitive. The following (non-exhaustive)\n",
      "  examples illustrate that:\n",
      "\n",
      "     \"x > y and y > z\" implies \"x > z\"\n",
      "\n",
      "     \"x < y and y <= z\" implies \"x < z\"\n",
      "\n",
      "* Inverse comparison should result in the boolean negation. In other\n",
      "  words, the following expressions should have the same result:\n",
      "\n",
      "     \"x == y\" and \"not x != y\"\n",
      "\n",
      "     \"x < y\" and \"not x >= y\" (for total ordering)\n",
      "\n",
      "     \"x > y\" and \"not x <= y\" (for total ordering)\n",
      "\n",
      "  The last two expressions apply to totally ordered collections (e.g.\n",
      "  to sequences, but not to sets or mappings). See also the\n",
      "  \"total_ordering()\" decorator.\n",
      "\n",
      "* The \"hash()\" result should be consistent with equality. Objects that\n",
      "  are equal should either have the same hash value, or be marked as\n",
      "  unhashable.\n",
      "\n",
      "Python does not enforce these consistency rules. In fact, the\n",
      "not-a-number values are an example for not following these rules.\n",
      "\n",
      "\n",
      "Membership test operations\n",
      "==========================\n",
      "\n",
      "The operators \"in\" and \"not in\" test for membership.  \"x in s\"\n",
      "evaluates to \"True\" if *x* is a member of *s*, and \"False\" otherwise.\n",
      "\"x not in s\" returns the negation of \"x in s\".  All built-in sequences\n",
      "and set types support this as well as dictionary, for which \"in\" tests\n",
      "whether the dictionary has a given key. For container types such as\n",
      "list, tuple, set, frozenset, dict, or collections.deque, the\n",
      "expression \"x in y\" is equivalent to \"any(x is e or x == e for e in\n",
      "y)\".\n",
      "\n",
      "For the string and bytes types, \"x in y\" is \"True\" if and only if *x*\n",
      "is a substring of *y*.  An equivalent test is \"y.find(x) != -1\".\n",
      "Empty strings are always considered to be a substring of any other\n",
      "string, so \"\"\" in \"abc\"\" will return \"True\".\n",
      "\n",
      "For user-defined classes which define the \"__contains__()\" method, \"x\n",
      "in y\" returns \"True\" if \"y.__contains__(x)\" returns a true value, and\n",
      "\"False\" otherwise.\n",
      "\n",
      "For user-defined classes which do not define \"__contains__()\" but do\n",
      "define \"__iter__()\", \"x in y\" is \"True\" if some value \"z\", for which\n",
      "the expression \"x is z or x == z\" is true, is produced while iterating\n",
      "over \"y\". If an exception is raised during the iteration, it is as if\n",
      "\"in\" raised that exception.\n",
      "\n",
      "Lastly, the old-style iteration protocol is tried: if a class defines\n",
      "\"__getitem__()\", \"x in y\" is \"True\" if and only if there is a non-\n",
      "negative integer index *i* such that \"x is y[i] or x == y[i]\", and no\n",
      "lower integer index raises the \"IndexError\" exception.  (If any other\n",
      "exception is raised, it is as if \"in\" raised that exception).\n",
      "\n",
      "The operator \"not in\" is defined to have the inverse truth value of\n",
      "\"in\".\n",
      "\n",
      "\n",
      "Identity comparisons\n",
      "====================\n",
      "\n",
      "The operators \"is\" and \"is not\" test for an object’s identity: \"x is\n",
      "y\" is true if and only if *x* and *y* are the same object.  An\n",
      "Object’s identity is determined using the \"id()\" function.  \"x is not\n",
      "y\" yields the inverse truth value. [4]\n",
      "\n",
      "Related help topics: EXPRESSIONS, BASICMETHODS\n",
      "\n"
     ]
    }
   ],
   "source": [
    "help('COMPARISON') "
   ]
  },
  {
   "cell_type": "markdown",
   "id": "01dce179",
   "metadata": {
    "slideshow": {
     "slide_type": "slide"
    }
   },
   "source": [
    "## Booleans\n",
    "- expressions that are true or false\n",
    "- manipulated with the basic logical operators: and, or, and not.\n",
    "- combined into logical expressions"
   ]
  },
  {
   "cell_type": "code",
   "execution_count": 205,
   "id": "cd40eced",
   "metadata": {
    "slideshow": {
     "slide_type": "subslide"
    }
   },
   "outputs": [
    {
     "data": {
      "text/plain": [
       "35"
      ]
     },
     "execution_count": 205,
     "metadata": {},
     "output_type": "execute_result"
    }
   ],
   "source": [
    "#example\n",
    "True and False"
   ]
  },
  {
   "cell_type": "code",
   "execution_count": 206,
   "id": "260f58e7",
   "metadata": {
    "slideshow": {
     "slide_type": "fragment"
    }
   },
   "outputs": [
    {
     "data": {
      "text/plain": [
       "15.9"
      ]
     },
     "execution_count": 206,
     "metadata": {},
     "output_type": "execute_result"
    }
   ],
   "source": [
    "#example\n",
    "not (False or False)"
   ]
  },
  {
   "cell_type": "code",
   "execution_count": 25,
   "id": "8a8a186f",
   "metadata": {
    "slideshow": {
     "slide_type": "subslide"
    }
   },
   "outputs": [
    {
     "data": {
      "text/plain": [
       "False"
      ]
     },
     "execution_count": 25,
     "metadata": {},
     "output_type": "execute_result"
    }
   ],
   "source": [
    "len('hat') > 7 - 2 or 7 - 2 == 3"
   ]
  },
  {
   "cell_type": "code",
   "execution_count": 27,
   "id": "17982c40",
   "metadata": {
    "slideshow": {
     "slide_type": "fragment"
    }
   },
   "outputs": [
    {
     "data": {
      "text/plain": [
       "True"
      ]
     },
     "execution_count": 27,
     "metadata": {},
     "output_type": "execute_result"
    }
   ],
   "source": [
    "True and (8 == 4 + 4) and (True or False)"
   ]
  },
  {
   "cell_type": "code",
   "execution_count": 29,
   "id": "96ba85c9",
   "metadata": {
    "slideshow": {
     "slide_type": "fragment"
    }
   },
   "outputs": [
    {
     "data": {
      "text/plain": [
       "True"
      ]
     },
     "execution_count": 29,
     "metadata": {},
     "output_type": "execute_result"
    }
   ],
   "source": [
    "isinstance(3,int)"
   ]
  },
  {
   "cell_type": "code",
   "execution_count": 30,
   "id": "7f6f774c",
   "metadata": {
    "slideshow": {
     "slide_type": "fragment"
    }
   },
   "outputs": [
    {
     "data": {
      "text/plain": [
       "True"
      ]
     },
     "execution_count": 30,
     "metadata": {},
     "output_type": "execute_result"
    }
   ],
   "source": [
    "isinstance(3.0,float)"
   ]
  },
  {
   "cell_type": "code",
   "execution_count": 31,
   "id": "74541ddc",
   "metadata": {
    "slideshow": {
     "slide_type": "fragment"
    }
   },
   "outputs": [
    {
     "data": {
      "text/plain": [
       "True"
      ]
     },
     "execution_count": 31,
     "metadata": {},
     "output_type": "execute_result"
    }
   ],
   "source": [
    "isinstance('hat',str)"
   ]
  },
  {
   "cell_type": "code",
   "execution_count": 32,
   "id": "eb392873",
   "metadata": {
    "slideshow": {
     "slide_type": "fragment"
    }
   },
   "outputs": [
    {
     "data": {
      "text/plain": [
       "True"
      ]
     },
     "execution_count": 32,
     "metadata": {},
     "output_type": "execute_result"
    }
   ],
   "source": [
    "isinstance(3 == 4,bool)"
   ]
  },
  {
   "cell_type": "code",
   "execution_count": null,
   "id": "5acd9451",
   "metadata": {},
   "outputs": [],
   "source": []
  },
  {
   "cell_type": "markdown",
   "id": "dbc3949c",
   "metadata": {
    "slideshow": {
     "slide_type": "slide"
    }
   },
   "source": [
    "## Strings\n",
    "- Linguists are concerned with sounds, words, and sentences, and these are typically most naturally represented as strings of characters.\n",
    "- 2 type of strings"
   ]
  },
  {
   "cell_type": "code",
   "execution_count": 33,
   "id": "47388bf1",
   "metadata": {
    "slideshow": {
     "slide_type": "fragment"
    }
   },
   "outputs": [
    {
     "data": {
      "text/plain": [
       "True"
      ]
     },
     "execution_count": 33,
     "metadata": {},
     "output_type": "execute_result"
    }
   ],
   "source": [
    "#simple strings marked with single or double quotes. They are interchangeable:\n",
    "'hat' == \"hat\""
   ]
  },
  {
   "cell_type": "code",
   "execution_count": 206,
   "id": "0ce00669",
   "metadata": {
    "slideshow": {
     "slide_type": "fragment"
    }
   },
   "outputs": [
    {
     "data": {
      "text/plain": [
       "15.9"
      ]
     },
     "execution_count": 206,
     "metadata": {},
     "output_type": "execute_result"
    }
   ],
   "source": [
    "#triple-quoted string, marked with three single or double quotes. \n",
    "#Triple-quoted strings that employ single quotes allow a string to continue over multiple lines.\n",
    "'''This is a string\n",
    "that continues on\n",
    "more than one line'''"
   ]
  },
  {
   "cell_type": "code",
   "execution_count": null,
   "id": "64d18cbf",
   "metadata": {},
   "outputs": [],
   "source": []
  }
 ],
 "metadata": {
  "celltoolbar": "Slideshow",
  "kernelspec": {
   "display_name": "Python 3 (ipykernel)",
   "language": "python",
   "name": "python3"
  },
  "language_info": {
   "codemirror_mode": {
    "name": "ipython",
    "version": 3
   },
   "file_extension": ".py",
   "mimetype": "text/x-python",
   "name": "python",
   "nbconvert_exporter": "python",
   "pygments_lexer": "ipython3",
   "version": "3.10.6"
  }
 },
 "nbformat": 4,
 "nbformat_minor": 5
}

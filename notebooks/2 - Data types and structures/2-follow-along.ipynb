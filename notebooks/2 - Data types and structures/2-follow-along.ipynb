{
 "cells": [
  {
   "cell_type": "code",
   "execution_count": null,
   "id": "3c03e874",
   "metadata": {
    "slideshow": {
     "slide_type": "skip"
    }
   },
   "outputs": [
    {
     "name": "stdout",
     "output_type": "stream",
     "text": [
      "[NbConvertApp] Converting notebook 2-follow-along.ipynb to slides\n",
      "[NbConvertApp] Writing 695307 bytes to 2-follow-along.slides.html\n",
      "[NbConvertApp] Redirecting reveal.js requests to https://cdnjs.cloudflare.com/ajax/libs/reveal.js/3.5.0\n",
      "Serving your slides at http://127.0.0.1:8000/2-follow-along.slides.html\n",
      "Use Control-C to stop this server\n"
     ]
    }
   ],
   "source": [
    "!jupyter nbconvert \"2-follow-along.ipynb\" --to slides --post serve"
   ]
  },
  {
   "cell_type": "markdown",
   "id": "04e67420",
   "metadata": {
    "slideshow": {
     "slide_type": "slide"
    }
   },
   "source": [
    "# IT Skills for linguists 2\n",
    "## UAM, Faculty of English, 2BA\n",
    "## Poznań 28.11.2022\n",
    "### Teacher: mgr inż. Michał Junczyk\n"
   ]
  },
  {
   "cell_type": "markdown",
   "id": "89dddc70",
   "metadata": {
    "slideshow": {
     "slide_type": "slide"
    }
   },
   "source": [
    "## Topic 2 - Data Types and Variables\n",
    "\n"
   ]
  },
  {
   "cell_type": "markdown",
   "id": "82853d3c",
   "metadata": {
    "slideshow": {
     "slide_type": "subslide"
    }
   },
   "source": [
    "- Some types were already introduced on the last class:\n",
    "  - Numbers: \n",
    "    - Integers e.g. 1, 123, -999,\n",
    "    - Floats e.g. 3.14, 103.3, 2.0, 3.333333333333\n",
    "  - Strings e.g. \"some text\", 'some other text' "
   ]
  },
  {
   "cell_type": "markdown",
   "id": "e074b450",
   "metadata": {
    "slideshow": {
     "slide_type": "subslide"
    }
   },
   "source": [
    "- New structures\n",
    "  - Lists\n",
    "  - Tuples\n",
    "  - Dictionaries"
   ]
  },
  {
   "cell_type": "markdown",
   "id": "85284f5a",
   "metadata": {
    "slideshow": {
     "slide_type": "slide"
    }
   },
   "source": [
    "## Mutability.\n",
    "Basically, some kinds of data cannot be changed once they have been created, while others can.<br>\n",
    "Note - lack of understanding of how mutability works often leads to errors."
   ]
  },
  {
   "cell_type": "markdown",
   "id": "0d8d2b50",
   "metadata": {
    "slideshow": {
     "slide_type": "subslide"
    }
   },
   "source": [
    "## Variable assignment\n",
    "- also referred to as variable binding;\n",
    "- syntax: the variable name  on the left, the value on the right, and = goes in between. "
   ]
  },
  {
   "cell_type": "code",
   "execution_count": null,
   "id": "a116db51",
   "metadata": {
    "slideshow": {
     "slide_type": "fragment"
    }
   },
   "outputs": [],
   "source": [
    "#example 1\n",
    "x=5"
   ]
  },
  {
   "cell_type": "code",
   "execution_count": null,
   "id": "077c8d53",
   "metadata": {
    "slideshow": {
     "slide_type": "fragment"
    }
   },
   "outputs": [],
   "source": [
    "#example 2\n",
    "bananas=6"
   ]
  },
  {
   "cell_type": "code",
   "execution_count": null,
   "id": "7d61ee56",
   "metadata": {
    "slideshow": {
     "slide_type": "fragment"
    }
   },
   "outputs": [],
   "source": [
    "3 + x"
   ]
  },
  {
   "cell_type": "code",
   "execution_count": null,
   "id": "2094ea10",
   "metadata": {
    "slideshow": {
     "slide_type": "fragment"
    }
   },
   "outputs": [],
   "source": [
    "bananas * 5"
   ]
  },
  {
   "cell_type": "markdown",
   "id": "9168d962",
   "metadata": {
    "slideshow": {
     "slide_type": "subslide"
    }
   },
   "source": [
    "## Variables naming\n",
    "- variable names must begin with a letter or an underline.\n",
    "- the remainder  consist of any additional letters, underlines, or numbers.\n",
    "- variable names are case-sensitive \n",
    "- names must not contain any of the reserved Python words:"
   ]
  },
  {
   "cell_type": "code",
   "execution_count": null,
   "id": "d213ee67",
   "metadata": {
    "slideshow": {
     "slide_type": "subslide"
    }
   },
   "outputs": [],
   "source": [
    "# Reserved python words are displayed with green font in the terminal\n",
    "False"
   ]
  },
  {
   "cell_type": "markdown",
   "id": "89d625d8",
   "metadata": {
    "slideshow": {
     "slide_type": "fragment"
    }
   },
   "source": [
    "- False\n",
    "- None\n",
    "- True\n",
    "- and\n",
    "- as\n",
    "- assert\n",
    "- break\n",
    "- class\n",
    "- continue\n",
    "- def\n",
    "- del\n",
    "- elif\n",
    "- else\n",
    "- except\n",
    "- finally\n",
    "- for\n",
    "- from\n",
    "- global\n",
    "- if\n",
    "- import\n",
    "- in\n",
    "- is\n",
    "- lambda\n",
    "- nonlocal\n",
    "- not\n",
    "- or\n",
    "- pass\n",
    "- raise\n",
    "- return\n",
    "- try\n",
    "- while\n",
    "- with\n",
    "- yield\n",
    "\n"
   ]
  },
  {
   "cell_type": "markdown",
   "id": "f9ef29da",
   "metadata": {
    "slideshow": {
     "slide_type": "subslide"
    }
   },
   "source": [
    "The right side of an assignment can include functions and variables. For\n",
    "example:\n"
   ]
  },
  {
   "cell_type": "code",
   "execution_count": null,
   "id": "06ff4fab",
   "metadata": {
    "slideshow": {
     "slide_type": "fragment"
    }
   },
   "outputs": [],
   "source": [
    "#example\n",
    "oranges = bananas * 4\n",
    "bananas = bananas - 5"
   ]
  },
  {
   "cell_type": "code",
   "execution_count": null,
   "id": "76548052",
   "metadata": {
    "slideshow": {
     "slide_type": "fragment"
    }
   },
   "outputs": [],
   "source": [
    "ratio=bananas/oranges\n",
    "print(ratio)\n",
    "ratio=round(ratio,3)\n",
    "print(ratio)"
   ]
  },
  {
   "cell_type": "markdown",
   "id": "3d17ba6c",
   "metadata": {
    "slideshow": {
     "slide_type": "subslide"
    }
   },
   "source": [
    "Mind the difference between '=' and '==' operators"
   ]
  },
  {
   "cell_type": "code",
   "execution_count": null,
   "id": "4fe8609c",
   "metadata": {
    "slideshow": {
     "slide_type": "fragment"
    }
   },
   "outputs": [],
   "source": [
    "'hats' == 'hat' + 's'\n"
   ]
  },
  {
   "cell_type": "code",
   "execution_count": null,
   "id": "309ce36d",
   "metadata": {
    "slideshow": {
     "slide_type": "fragment"
    }
   },
   "outputs": [],
   "source": [
    "bananas == bananas - 5\n"
   ]
  },
  {
   "cell_type": "markdown",
   "id": "f97346e7",
   "metadata": {
    "slideshow": {
     "slide_type": "subslide"
    }
   },
   "source": [
    "## Variable Names\n",
    "- Unambigous\n",
    "<br>Good: ageOfTheStudent \n",
    "<br>Bad: Var, Age\n",
    "- Finding balance between descriptiveness and conciseness\n",
    "- Depends on frequency and span of usage (e.g. local functions vs global configs)\n"
   ]
  },
  {
   "cell_type": "markdown",
   "id": "c8617312",
   "metadata": {
    "slideshow": {
     "slide_type": "slide"
    }
   },
   "source": [
    "## Data types\n",
    "### Numbers\n",
    "- 3 basic types: integer, floating point, and complex.\n",
    "- Only integer and floating point needed in practice."
   ]
  },
  {
   "cell_type": "code",
   "execution_count": null,
   "id": "9edd9de0",
   "metadata": {
    "slideshow": {
     "slide_type": "subslide"
    }
   },
   "outputs": [],
   "source": [
    "#example 1\n",
    "# Convert from string\n",
    "int('3')"
   ]
  },
  {
   "cell_type": "code",
   "execution_count": null,
   "id": "1b7af257",
   "metadata": {
    "slideshow": {
     "slide_type": "fragment"
    }
   },
   "outputs": [],
   "source": [
    "float('7.2')"
   ]
  },
  {
   "cell_type": "code",
   "execution_count": null,
   "id": "b2bb32c9",
   "metadata": {
    "slideshow": {
     "slide_type": "fragment"
    }
   },
   "outputs": [],
   "source": [
    "str(float('7.2'))"
   ]
  },
  {
   "cell_type": "markdown",
   "id": "48c22c5f",
   "metadata": {
    "slideshow": {
     "slide_type": "slide"
    }
   },
   "source": [
    "## Booleans\n",
    "- expressions that are true or false\n",
    "- manipulated with the basic logical operators: and, or, and not.\n",
    "- combined into logical expressions"
   ]
  },
  {
   "cell_type": "code",
   "execution_count": null,
   "id": "5f3befa9",
   "metadata": {
    "slideshow": {
     "slide_type": "subslide"
    }
   },
   "outputs": [],
   "source": [
    "#example\n",
    "True and False"
   ]
  },
  {
   "cell_type": "code",
   "execution_count": null,
   "id": "e89e15d7",
   "metadata": {
    "slideshow": {
     "slide_type": "fragment"
    }
   },
   "outputs": [],
   "source": [
    "#example\n",
    "not (False or False)"
   ]
  },
  {
   "cell_type": "code",
   "execution_count": null,
   "id": "a5a93997",
   "metadata": {
    "slideshow": {
     "slide_type": "fragment"
    }
   },
   "outputs": [],
   "source": [
    "#example\n",
    "not (not True)"
   ]
  },
  {
   "cell_type": "code",
   "execution_count": null,
   "id": "7ed137ad",
   "metadata": {
    "slideshow": {
     "slide_type": "fragment"
    }
   },
   "outputs": [],
   "source": [
    "#mind the parentheses\n",
    "not (False or True)"
   ]
  },
  {
   "cell_type": "code",
   "execution_count": null,
   "id": "06e2d191",
   "metadata": {
    "slideshow": {
     "slide_type": "fragment"
    }
   },
   "outputs": [],
   "source": [
    "(not False) or True"
   ]
  },
  {
   "cell_type": "code",
   "execution_count": null,
   "id": "2a387d26",
   "metadata": {
    "slideshow": {
     "slide_type": "fragment"
    }
   },
   "outputs": [],
   "source": [
    "#example\n",
    "not (not True)"
   ]
  },
  {
   "cell_type": "code",
   "execution_count": null,
   "id": "cb3502cb",
   "metadata": {
    "slideshow": {
     "slide_type": "fragment"
    }
   },
   "outputs": [],
   "source": [
    "x = True\n",
    "y = False\n",
    "x and y\n"
   ]
  },
  {
   "cell_type": "code",
   "execution_count": null,
   "id": "62917079",
   "metadata": {
    "slideshow": {
     "slide_type": "fragment"
    }
   },
   "outputs": [],
   "source": [
    "(y or (not y))"
   ]
  },
  {
   "cell_type": "markdown",
   "id": "3d1ec26a",
   "metadata": {
    "slideshow": {
     "slide_type": "slide"
    }
   },
   "source": [
    "## Other operators\n"
   ]
  },
  {
   "cell_type": "code",
   "execution_count": null,
   "id": "f538d153",
   "metadata": {
    "slideshow": {
     "slide_type": "fragment"
    }
   },
   "outputs": [],
   "source": [
    "help('COMPARISON') "
   ]
  },
  {
   "cell_type": "code",
   "execution_count": null,
   "id": "4b2f1c36",
   "metadata": {
    "slideshow": {
     "slide_type": "subslide"
    }
   },
   "outputs": [],
   "source": [
    "len('hat') > 7 - 2 or 7 - 2 == 3"
   ]
  },
  {
   "cell_type": "code",
   "execution_count": null,
   "id": "2a6e47db",
   "metadata": {
    "slideshow": {
     "slide_type": "fragment"
    }
   },
   "outputs": [],
   "source": [
    "True and (8 == 4 + 4) and (True or False)"
   ]
  },
  {
   "cell_type": "code",
   "execution_count": null,
   "id": "da2af62b",
   "metadata": {
    "slideshow": {
     "slide_type": "fragment"
    }
   },
   "outputs": [],
   "source": [
    "isinstance(3,int)"
   ]
  },
  {
   "cell_type": "code",
   "execution_count": null,
   "id": "b8346a17",
   "metadata": {
    "slideshow": {
     "slide_type": "fragment"
    }
   },
   "outputs": [],
   "source": [
    "isinstance(3.0,float)"
   ]
  },
  {
   "cell_type": "code",
   "execution_count": null,
   "id": "8fb84a10",
   "metadata": {
    "slideshow": {
     "slide_type": "fragment"
    }
   },
   "outputs": [],
   "source": [
    "isinstance('hat',str)"
   ]
  },
  {
   "cell_type": "code",
   "execution_count": null,
   "id": "3eaef440",
   "metadata": {
    "slideshow": {
     "slide_type": "fragment"
    }
   },
   "outputs": [],
   "source": [
    "isinstance(3 == 4,bool)"
   ]
  },
  {
   "cell_type": "markdown",
   "id": "8d60409b",
   "metadata": {
    "slideshow": {
     "slide_type": "slide"
    }
   },
   "source": [
    "## Strings\n",
    "- Linguists are concerned with sounds, words, and sentences, and these are typically most naturally represented as strings of characters.\n",
    "- 2 type of strings"
   ]
  },
  {
   "cell_type": "code",
   "execution_count": null,
   "id": "a5a56775",
   "metadata": {
    "slideshow": {
     "slide_type": "fragment"
    }
   },
   "outputs": [],
   "source": [
    "#simple strings marked with single or double quotes. They are interchangeable:\n",
    "'hat' == \"hat\""
   ]
  },
  {
   "cell_type": "code",
   "execution_count": null,
   "id": "38565f11",
   "metadata": {
    "slideshow": {
     "slide_type": "subslide"
    }
   },
   "outputs": [],
   "source": [
    "#triple-quoted string, marked with three single or double quotes. \n",
    "#Triple-quoted strings that employ single quotes allow a string to continue over multiple lines.\n",
    "'''This is a string\n",
    "that continues on\n",
    "more than one line'''"
   ]
  },
  {
   "cell_type": "code",
   "execution_count": null,
   "id": "b6eb37d1",
   "metadata": {
    "slideshow": {
     "slide_type": "fragment"
    }
   },
   "outputs": [],
   "source": [
    "\"\"\"This is a string\n",
    "that continues on\n",
    "more than one line\"\"\""
   ]
  },
  {
   "cell_type": "code",
   "execution_count": null,
   "id": "1fc374ed",
   "metadata": {
    "slideshow": {
     "slide_type": "subslide"
    }
   },
   "outputs": [],
   "source": [
    "x = '''This is\n",
    "more\n",
    "than one line'''\n",
    "print(x)\n",
    "#convenient way to enter multiline strings"
   ]
  },
  {
   "cell_type": "code",
   "execution_count": null,
   "id": "38a81b31",
   "metadata": {
    "slideshow": {
     "slide_type": "fragment"
    }
   },
   "outputs": [],
   "source": [
    "y ='this is more\\nthan one\\nline too'\n",
    "print(y)"
   ]
  },
  {
   "cell_type": "code",
   "execution_count": null,
   "id": "a321344b",
   "metadata": {
    "slideshow": {
     "slide_type": "subslide"
    }
   },
   "outputs": [],
   "source": [
    "x = 'a\\tfew\\ttabs\\there'"
   ]
  },
  {
   "cell_type": "code",
   "execution_count": null,
   "id": "bb5aec90",
   "metadata": {
    "slideshow": {
     "slide_type": "fragment"
    }
   },
   "outputs": [],
   "source": [
    "x"
   ]
  },
  {
   "cell_type": "code",
   "execution_count": null,
   "id": "2a06da15",
   "metadata": {
    "slideshow": {
     "slide_type": "fragment"
    }
   },
   "outputs": [],
   "source": [
    "print(x)"
   ]
  },
  {
   "cell_type": "markdown",
   "id": "beca5528",
   "metadata": {
    "slideshow": {
     "slide_type": "slide"
    }
   },
   "source": [
    "## Handling special characters"
   ]
  },
  {
   "cell_type": "code",
   "execution_count": null,
   "id": "59e374eb",
   "metadata": {
    "slideshow": {
     "slide_type": "subslide"
    }
   },
   "outputs": [],
   "source": [
    "x = 'xyz\\\\nabc'\n",
    "x"
   ]
  },
  {
   "cell_type": "code",
   "execution_count": null,
   "id": "552ce784",
   "metadata": {
    "slideshow": {
     "slide_type": "fragment"
    }
   },
   "outputs": [],
   "source": [
    "print(x)"
   ]
  },
  {
   "cell_type": "markdown",
   "id": "c45a0796",
   "metadata": {
    "slideshow": {
     "slide_type": "fragment"
    }
   },
   "source": [
    "If you’re entering strings with lots of special characters that require backslashes, the raw string notation becomes useful. If you prefix a single- or double-quoted string with r, then a backslash is interpreted as an actual backslash."
   ]
  },
  {
   "cell_type": "code",
   "execution_count": null,
   "id": "8006811a",
   "metadata": {
    "slideshow": {
     "slide_type": "fragment"
    }
   },
   "outputs": [],
   "source": [
    "x = r'abc\\nxyz'\n",
    "x"
   ]
  },
  {
   "cell_type": "code",
   "execution_count": null,
   "id": "61bd82d7",
   "metadata": {
    "slideshow": {
     "slide_type": "fragment"
    }
   },
   "outputs": [],
   "source": [
    "print(x)"
   ]
  },
  {
   "cell_type": "code",
   "execution_count": null,
   "id": "5913fcf9",
   "metadata": {
    "slideshow": {
     "slide_type": "fragment"
    }
   },
   "outputs": [],
   "source": [
    "y = r\"xyz\\nabc\"\n",
    "y"
   ]
  },
  {
   "cell_type": "code",
   "execution_count": null,
   "id": "ddfae2df",
   "metadata": {
    "slideshow": {
     "slide_type": "fragment"
    }
   },
   "outputs": [],
   "source": [
    "print(y)"
   ]
  },
  {
   "cell_type": "markdown",
   "id": "34f6b0c1",
   "metadata": {
    "slideshow": {
     "slide_type": "slide"
    }
   },
   "source": [
    "## Applying functions\n"
   ]
  },
  {
   "cell_type": "markdown",
   "id": "f59fdc34",
   "metadata": {
    "slideshow": {
     "slide_type": "subslide"
    }
   },
   "source": [
    "### Common functions"
   ]
  },
  {
   "cell_type": "code",
   "execution_count": null,
   "id": "1be5046b",
   "metadata": {
    "slideshow": {
     "slide_type": "fragment"
    }
   },
   "outputs": [],
   "source": [
    "x='77'\n",
    "len(x)"
   ]
  },
  {
   "cell_type": "code",
   "execution_count": null,
   "id": "54f552f2",
   "metadata": {
    "slideshow": {
     "slide_type": "fragment"
    }
   },
   "outputs": [],
   "source": [
    "int(x)"
   ]
  },
  {
   "cell_type": "markdown",
   "id": "5259bfcb",
   "metadata": {
    "slideshow": {
     "slide_type": "slide"
    }
   },
   "source": [
    "### String specific functions"
   ]
  },
  {
   "cell_type": "code",
   "execution_count": null,
   "id": "dabb61ae",
   "metadata": {
    "slideshow": {
     "slide_type": "subslide"
    }
   },
   "outputs": [],
   "source": [
    "x='a hat'"
   ]
  },
  {
   "cell_type": "code",
   "execution_count": null,
   "id": "11c75f17",
   "metadata": {
    "slideshow": {
     "slide_type": "fragment"
    }
   },
   "outputs": [],
   "source": [
    "x.count('a')"
   ]
  },
  {
   "cell_type": "code",
   "execution_count": null,
   "id": "b0d3d751",
   "metadata": {
    "slideshow": {
     "slide_type": "fragment"
    }
   },
   "outputs": [],
   "source": [
    "x.upper()"
   ]
  },
  {
   "cell_type": "code",
   "execution_count": null,
   "id": "65e0dd64",
   "metadata": {
    "slideshow": {
     "slide_type": "fragment"
    }
   },
   "outputs": [],
   "source": [
    "x.lower()"
   ]
  },
  {
   "cell_type": "markdown",
   "id": "63d9429c",
   "metadata": {
    "slideshow": {
     "slide_type": "subslide"
    }
   },
   "source": [
    "### format() method.\n",
    "- define a string with slots and fill those slots"
   ]
  },
  {
   "cell_type": "code",
   "execution_count": null,
   "id": "8d8ea6ea",
   "metadata": {
    "slideshow": {
     "slide_type": "fragment"
    }
   },
   "outputs": [],
   "source": [
    "x = '{} Mike'"
   ]
  },
  {
   "cell_type": "code",
   "execution_count": null,
   "id": "5fa3ca75",
   "metadata": {
    "slideshow": {
     "slide_type": "fragment"
    }
   },
   "outputs": [],
   "source": [
    "y = x.format('Hello')\n",
    "y"
   ]
  },
  {
   "cell_type": "code",
   "execution_count": null,
   "id": "d36de963",
   "metadata": {
    "slideshow": {
     "slide_type": "fragment"
    }
   },
   "outputs": [],
   "source": [
    "z = x.format('Goodbye')\n",
    "z"
   ]
  },
  {
   "cell_type": "code",
   "execution_count": null,
   "id": "79f5c948",
   "metadata": {
    "slideshow": {
     "slide_type": "fragment"
    }
   },
   "outputs": [],
   "source": [
    "x.format('Hello','How are you')"
   ]
  },
  {
   "cell_type": "code",
   "execution_count": null,
   "id": "ff9c45c2",
   "metadata": {
    "slideshow": {
     "slide_type": "subslide"
    }
   },
   "outputs": [],
   "source": [
    "x = 'one = {1}; two = {0}'"
   ]
  },
  {
   "cell_type": "code",
   "execution_count": null,
   "id": "14c3da24",
   "metadata": {
    "slideshow": {
     "slide_type": "fragment"
    }
   },
   "outputs": [],
   "source": [
    "x.format('dos','uno')"
   ]
  },
  {
   "cell_type": "code",
   "execution_count": null,
   "id": "e2c24c73",
   "metadata": {
    "slideshow": {
     "slide_type": "fragment"
    }
   },
   "outputs": [],
   "source": [
    "x = 'one = {uno}; two = {dos}'"
   ]
  },
  {
   "cell_type": "code",
   "execution_count": null,
   "id": "b46d90a5",
   "metadata": {
    "slideshow": {
     "slide_type": "fragment"
    }
   },
   "outputs": [],
   "source": [
    "x.format(dos='dau',uno='un')"
   ]
  },
  {
   "cell_type": "code",
   "execution_count": null,
   "id": "d9d5c645",
   "metadata": {
    "slideshow": {
     "slide_type": "fragment"
    }
   },
   "outputs": [],
   "source": [
    "# arguments order does not matter\n",
    "x.format(uno='un',dos='dau')"
   ]
  },
  {
   "cell_type": "markdown",
   "id": "52808fc6",
   "metadata": {
    "slideshow": {
     "slide_type": "subslide"
    }
   },
   "source": [
    "## Extracting part of strings\n",
    "Finally, there is a syntax for extracting part of a string. The syntax is to put\n",
    "one or more integers in square brackets after the string. Using a single integer\n",
    "in the square brackets extracts a single character. The characters in a string are\n",
    "counted from the left, starting at 0"
   ]
  },
  {
   "cell_type": "code",
   "execution_count": null,
   "id": "d6857c8a",
   "metadata": {
    "slideshow": {
     "slide_type": "fragment"
    }
   },
   "outputs": [],
   "source": [
    "x = 'persistence'"
   ]
  },
  {
   "cell_type": "code",
   "execution_count": null,
   "id": "67fe9da4",
   "metadata": {
    "slideshow": {
     "slide_type": "fragment"
    }
   },
   "outputs": [],
   "source": [
    "x[1]"
   ]
  },
  {
   "cell_type": "code",
   "execution_count": null,
   "id": "e1a5213a",
   "metadata": {
    "slideshow": {
     "slide_type": "fragment"
    }
   },
   "outputs": [],
   "source": [
    "x[5]"
   ]
  },
  {
   "cell_type": "code",
   "execution_count": null,
   "id": "fc326fff",
   "metadata": {
    "slideshow": {
     "slide_type": "subslide"
    }
   },
   "outputs": [],
   "source": [
    "x = 'abcde'\n",
    "x[2:4]"
   ]
  },
  {
   "cell_type": "code",
   "execution_count": null,
   "id": "49c71eaa",
   "metadata": {
    "slideshow": {
     "slide_type": "fragment"
    }
   },
   "outputs": [],
   "source": [
    "x[2:2]"
   ]
  },
  {
   "cell_type": "code",
   "execution_count": null,
   "id": "a600ac67",
   "metadata": {
    "slideshow": {
     "slide_type": "fragment"
    }
   },
   "outputs": [],
   "source": [
    " x[2:1]"
   ]
  },
  {
   "cell_type": "code",
   "execution_count": null,
   "id": "0a1df86e",
   "metadata": {
    "slideshow": {
     "slide_type": "fragment"
    }
   },
   "outputs": [],
   "source": [
    "x[2:]"
   ]
  },
  {
   "cell_type": "markdown",
   "id": "8eef6cf0",
   "metadata": {
    "slideshow": {
     "slide_type": "slide"
    }
   },
   "source": [
    "## Lists\n",
    "- super important for working with text\n",
    "- holds a sequence of elements of whatever type you want. \n",
    "- created by simply listing elements in square brackets."
   ]
  },
  {
   "cell_type": "code",
   "execution_count": null,
   "id": "038f02f1",
   "metadata": {
    "slideshow": {
     "slide_type": "subslide"
    }
   },
   "outputs": [],
   "source": [
    "#same type - integer\n",
    "x = [1,6,4,9]\n",
    "print(x)\n",
    "type(x)"
   ]
  },
  {
   "cell_type": "code",
   "execution_count": null,
   "id": "885ce7b4",
   "metadata": {
    "slideshow": {
     "slide_type": "fragment"
    }
   },
   "outputs": [],
   "source": [
    "#same type - strings\n",
    "y = ['stops','fricatives','glides']\n",
    "print(y)\n",
    "type(y)"
   ]
  },
  {
   "cell_type": "code",
   "execution_count": null,
   "id": "072cc6f0",
   "metadata": {
    "slideshow": {
     "slide_type": "fragment"
    }
   },
   "outputs": [],
   "source": [
    "# mixed types string + int + float \n",
    "z = [7,'hats',56,'chairs',6.802]\n",
    "print(z)\n",
    "type(z)\n",
    "print(len(z))"
   ]
  },
  {
   "cell_type": "markdown",
   "id": "a2dcdc1b",
   "metadata": {
    "slideshow": {
     "slide_type": "slide"
    }
   },
   "source": [
    "## List methods"
   ]
  },
  {
   "cell_type": "code",
   "execution_count": null,
   "id": "e003ac01",
   "metadata": {
    "slideshow": {
     "slide_type": "subslide"
    }
   },
   "outputs": [],
   "source": [
    "x[1]"
   ]
  },
  {
   "cell_type": "code",
   "execution_count": null,
   "id": "41d3be1c",
   "metadata": {
    "slideshow": {
     "slide_type": "fragment"
    }
   },
   "outputs": [],
   "source": [
    "print(x)\n",
    "x.append(10)\n",
    "#note that the argument is value to be appended to the list\n",
    "print(x)"
   ]
  },
  {
   "cell_type": "code",
   "execution_count": null,
   "id": "488da60e",
   "metadata": {
    "slideshow": {
     "slide_type": "subslide"
    }
   },
   "outputs": [],
   "source": [
    "print(x)\n",
    "#note that the argument is the position on the list to pop value from\n",
    "\n",
    "# remove first element\n",
    "x.pop(0)\n",
    "print(x)\n",
    "# remove last element\n",
    "x.pop(len(x)-1)\n",
    "print(x)"
   ]
  },
  {
   "cell_type": "code",
   "execution_count": null,
   "id": "318c2b14",
   "metadata": {
    "slideshow": {
     "slide_type": "subslide"
    }
   },
   "outputs": [],
   "source": [
    "#select first element\n",
    "y = ['stops','fricatives','glides']\n",
    "y[0]"
   ]
  },
  {
   "cell_type": "code",
   "execution_count": null,
   "id": "d6f4754a",
   "metadata": {
    "slideshow": {
     "slide_type": "fragment"
    }
   },
   "outputs": [],
   "source": [
    "#select all elements starting from 4th (index 3)\n",
    "z = [7,'hats',56,'chairs',6.802]\n",
    "\n",
    "z[3:]"
   ]
  },
  {
   "cell_type": "markdown",
   "id": "b567ff8c",
   "metadata": {
    "slideshow": {
     "slide_type": "slide"
    }
   },
   "source": [
    "### Manipulating lists - useful functions\n",
    "#### Range\n",
    "- returns a range object that represents the sequence from 0 up to that argument\n",
    "- can be converted to a list with the list() function.\n",
    "<br>\n",
    "x = list(range(4))<br>\n",
    "[0,1,2,3]"
   ]
  },
  {
   "cell_type": "markdown",
   "id": "349a4eee",
   "metadata": {
    "slideshow": {
     "slide_type": "subslide"
    }
   },
   "source": [
    "#### Sort \n"
   ]
  },
  {
   "cell_type": "code",
   "execution_count": null,
   "id": "34ecc874",
   "metadata": {
    "slideshow": {
     "slide_type": "fragment"
    }
   },
   "outputs": [],
   "source": [
    "x = [5,2,8,3]\n",
    "x.sort()\n",
    "x\n"
   ]
  },
  {
   "cell_type": "markdown",
   "id": "47e9f58d",
   "metadata": {
    "slideshow": {
     "slide_type": "subslide"
    }
   },
   "source": [
    "#### Reverse \n"
   ]
  },
  {
   "cell_type": "code",
   "execution_count": null,
   "id": "a00f3e86",
   "metadata": {
    "slideshow": {
     "slide_type": "fragment"
    }
   },
   "outputs": [],
   "source": [
    "x.reverse()\n",
    "x"
   ]
  },
  {
   "cell_type": "markdown",
   "id": "7eb33aa7",
   "metadata": {
    "slideshow": {
     "slide_type": "subslide"
    }
   },
   "source": [
    "#### In operator \n"
   ]
  },
  {
   "cell_type": "code",
   "execution_count": null,
   "id": "bb5dc5b6",
   "metadata": {
    "slideshow": {
     "slide_type": "fragment"
    }
   },
   "outputs": [],
   "source": [
    "x = [5,2,8,3]\n",
    "print(8 in x)\n",
    "print(7 in x)\n"
   ]
  },
  {
   "cell_type": "markdown",
   "id": "88ab1714",
   "metadata": {
    "slideshow": {
     "slide_type": "slide"
    }
   },
   "source": [
    "## Tuples \n",
    "- fixed sequence of elements\n",
    "- tuples are fixed in length and, once created, cannot be changed.\n",
    "- otherwise similar to lists"
   ]
  },
  {
   "cell_type": "markdown",
   "id": "9864dfae",
   "metadata": {
    "slideshow": {
     "slide_type": "subslide"
    }
   },
   "source": [
    "- An empty tuple is just parentheses: ().\n",
    "- Larger tuples separate the members with commas, e.g., (7,'hat',8.2).\n",
    "- Interestingly, a tuple with one element must have a comma, unlike a list with a single element: (3,) vs. [3]."
   ]
  },
  {
   "cell_type": "code",
   "execution_count": null,
   "id": "f6357daa",
   "metadata": {
    "slideshow": {
     "slide_type": "fragment"
    }
   },
   "outputs": [],
   "source": [
    "x = ()\n",
    "y = (7,'hat',8.2)\n",
    "z = (3,)"
   ]
  },
  {
   "cell_type": "markdown",
   "id": "e8efc0bd",
   "metadata": {
    "slideshow": {
     "slide_type": "subslide"
    }
   },
   "source": [
    "### Tuples follow similar operations as lists \n"
   ]
  },
  {
   "cell_type": "code",
   "execution_count": null,
   "id": "422da316",
   "metadata": {
    "slideshow": {
     "slide_type": "fragment"
    }
   },
   "outputs": [],
   "source": [
    "y = (7,'hat',8.2)\n",
    "len(y)"
   ]
  },
  {
   "cell_type": "code",
   "execution_count": null,
   "id": "a17633f8",
   "metadata": {
    "slideshow": {
     "slide_type": "fragment"
    }
   },
   "outputs": [],
   "source": [
    "y[2]\n",
    "8.2"
   ]
  },
  {
   "cell_type": "code",
   "execution_count": null,
   "id": "71ed8f3a",
   "metadata": {
    "slideshow": {
     "slide_type": "fragment"
    }
   },
   "outputs": [],
   "source": [
    "# The in operator applies to tuples, just as it does to lists:\n",
    "x = (5,2,8,3)\n",
    "print(8 in x)\n",
    "print(7 in x)"
   ]
  },
  {
   "cell_type": "markdown",
   "id": "f9933ae0",
   "metadata": {
    "slideshow": {
     "slide_type": "slide"
    }
   },
   "source": [
    "### Converting between tuples and lists\n"
   ]
  },
  {
   "cell_type": "code",
   "execution_count": null,
   "id": "543fc584",
   "metadata": {
    "slideshow": {
     "slide_type": "fragment"
    }
   },
   "outputs": [],
   "source": [
    "x = [1,2,3]\n",
    "print(type(x))\n",
    "y = tuple(x)\n",
    "print(type(y))\n"
   ]
  },
  {
   "cell_type": "code",
   "execution_count": null,
   "id": "03d9d67d",
   "metadata": {
    "slideshow": {
     "slide_type": "fragment"
    }
   },
   "outputs": [],
   "source": [
    "a = (1,2,3)\n",
    "print(type(a))\n",
    "b = list(a)\n",
    "print(type(b))\n"
   ]
  },
  {
   "cell_type": "markdown",
   "id": "ce013649",
   "metadata": {
    "slideshow": {
     "slide_type": "slide"
    }
   },
   "source": [
    "## Dictionaries\n",
    "- One of the most useful data types for linguists is dictionaries.\n",
    "- Sets of pairs, where the first element (key) in each pair can be used to “look up” the second element (value).\n",
    "- The first element of each pair must thus be distinct from the first elements of all the other pairs.\n",
    "- Marked with curly brackets within which each pair of elements is separated with a colon.<br>\n",
    "*d = {'cat':7,'chair':'hat','table':7}*"
   ]
  },
  {
   "cell_type": "code",
   "execution_count": null,
   "id": "3071e5bb",
   "metadata": {
    "slideshow": {
     "slide_type": "subslide"
    }
   },
   "outputs": [],
   "source": [
    "# put the key in square brackets to look-up values\n",
    "d = {'cat':7,'chair':'hat','table':7}\n",
    "d['cat']\n"
   ]
  },
  {
   "cell_type": "code",
   "execution_count": null,
   "id": "4b9262c1",
   "metadata": {
    "slideshow": {
     "slide_type": "fragment"
    }
   },
   "outputs": [],
   "source": [
    "\n",
    "d['chair']\n"
   ]
  },
  {
   "cell_type": "code",
   "execution_count": null,
   "id": "74f5d23c",
   "metadata": {
    "slideshow": {
     "slide_type": "fragment"
    }
   },
   "outputs": [],
   "source": [
    "len(d)"
   ]
  },
  {
   "cell_type": "code",
   "execution_count": null,
   "id": "38367d91",
   "metadata": {
    "slideshow": {
     "slide_type": "fragment"
    }
   },
   "outputs": [],
   "source": [
    "# adding new element\n",
    "d['onion'] = 3.7\n",
    "d"
   ]
  },
  {
   "cell_type": "code",
   "execution_count": null,
   "id": "acbafd99",
   "metadata": {
    "slideshow": {
     "slide_type": "fragment"
    }
   },
   "outputs": [],
   "source": [
    "d['onion'] = 3.7"
   ]
  },
  {
   "cell_type": "code",
   "execution_count": null,
   "id": "343c64bb",
   "metadata": {
    "slideshow": {
     "slide_type": "subslide"
    }
   },
   "outputs": [],
   "source": [
    "# in operator\n",
    "'chair' in d"
   ]
  },
  {
   "cell_type": "code",
   "execution_count": null,
   "id": "0b2b681c",
   "metadata": {
    "slideshow": {
     "slide_type": "fragment"
    }
   },
   "outputs": [],
   "source": [
    "'hat' in d"
   ]
  },
  {
   "cell_type": "code",
   "execution_count": null,
   "id": "fb5ba636",
   "metadata": {
    "slideshow": {
     "slide_type": "fragment"
    }
   },
   "outputs": [],
   "source": [
    "#Notice how in tests for membership in the dictionary keys, not the dictionary values."
   ]
  },
  {
   "cell_type": "code",
   "execution_count": null,
   "id": "325dba0a",
   "metadata": {
    "slideshow": {
     "slide_type": "subslide"
    }
   },
   "outputs": [],
   "source": [
    "#altering value\n",
    "d['cat'] = d['cat'] + 2\n",
    "d"
   ]
  },
  {
   "cell_type": "code",
   "execution_count": null,
   "id": "39045005",
   "metadata": {
    "slideshow": {
     "slide_type": "fragment"
    }
   },
   "outputs": [],
   "source": [
    "del(d['cat'])\n",
    "d"
   ]
  },
  {
   "cell_type": "markdown",
   "id": "3126fcd5",
   "metadata": {
    "slideshow": {
     "slide_type": "subslide"
    }
   },
   "source": [
    "- It's possible to extract the keys, values, or key–value pairs from a dictionary.\n",
    "- It can be converted to lists by using list()"
   ]
  },
  {
   "cell_type": "code",
   "execution_count": null,
   "id": "dbc4ebf3",
   "metadata": {
    "slideshow": {
     "slide_type": "fragment"
    }
   },
   "outputs": [],
   "source": [
    "d = {'cat':7,'chair':'hat','table':7}\n",
    "list(d.keys())"
   ]
  },
  {
   "cell_type": "code",
   "execution_count": null,
   "id": "b2d7bc62",
   "metadata": {
    "slideshow": {
     "slide_type": "fragment"
    }
   },
   "outputs": [],
   "source": [
    "list(d.values())\n"
   ]
  },
  {
   "cell_type": "code",
   "execution_count": null,
   "id": "9396fe9f",
   "metadata": {
    "slideshow": {
     "slide_type": "fragment"
    }
   },
   "outputs": [],
   "source": [
    "list(d.items())\n"
   ]
  },
  {
   "cell_type": "markdown",
   "id": "4119debb",
   "metadata": {
    "slideshow": {
     "slide_type": "subslide"
    }
   },
   "source": [
    "#### Dictionaries can be used directly with the string method format().\n",
    "- special operator for this \\*\\*. (exponentiation in a numerical context) \n",
    "- Slots in the string are named with keys from dictionary.\n",
    "- Values of slots filled with values associated with the relevant keys in the dictionary."
   ]
  },
  {
   "cell_type": "code",
   "execution_count": null,
   "id": "12c8e3a5",
   "metadata": {
    "slideshow": {
     "slide_type": "fragment"
    }
   },
   "outputs": [],
   "source": [
    "d = {'uno':'eins','dos':'zwei','tres':'drei'}"
   ]
  },
  {
   "cell_type": "code",
   "execution_count": null,
   "id": "c0138e1f",
   "metadata": {
    "slideshow": {
     "slide_type": "fragment"
    }
   },
   "outputs": [],
   "source": [
    "s = 'one = {uno} and three = {tres}'"
   ]
  },
  {
   "cell_type": "code",
   "execution_count": null,
   "id": "aa5ca41c",
   "metadata": {
    "slideshow": {
     "slide_type": "fragment"
    }
   },
   "outputs": [],
   "source": [
    "s.format(**d)"
   ]
  },
  {
   "cell_type": "markdown",
   "id": "0025ed67",
   "metadata": {
    "slideshow": {
     "slide_type": "slide"
    }
   },
   "source": [
    "## Mutability\n",
    "- some objects in Python can be changed and others cannot.\n",
    "- Relaated base concepts: garbage collection and naming.\n",
    "\n"
   ]
  },
  {
   "cell_type": "markdown",
   "id": "29081503",
   "metadata": {
    "slideshow": {
     "slide_type": "subslide"
    }
   },
   "source": [
    "- Elements created in Python occupy space in computer’s memory.\n",
    "- Memory fills as more elements are created.\n",
    "- As programs run, there's a risk of filling up computer’s memory.\n"
   ]
  },
  {
   "cell_type": "markdown",
   "id": "3ab38047",
   "metadata": {
    "slideshow": {
     "slide_type": "subslide"
    }
   },
   "source": [
    "- Python manages memory automatically. \n",
    "- As elements are created and manipulated, Python holds them in memory.\n",
    "- When element is no longer used, element is automatically removed, freeing up memory. \n",
    "- The process is called garbage collection."
   ]
  },
  {
   "cell_type": "markdown",
   "id": "24e0a820",
   "metadata": {
    "slideshow": {
     "slide_type": "subslide"
    }
   },
   "source": [
    "- For example, you defined i as 35 at some point in a program, used it, and then stoped using it. \n",
    "- The garbage collector will detect that and free up that bit of memory.\n"
   ]
  },
  {
   "cell_type": "markdown",
   "id": "1494d8b2",
   "metadata": {
    "slideshow": {
     "slide_type": "subslide"
    }
   },
   "source": [
    "- Mutable elements that can be directly changed:\n",
    " - Lists\n",
    " - Dictionaries\n",
    "- Immutable, elements that cannot be changed:\n",
    " - Integers\n",
    " - Floating point numbers\n",
    " - Booleans\n",
    " - Strings\n",
    " - Tuples"
   ]
  },
  {
   "cell_type": "markdown",
   "id": "6c709d17",
   "metadata": {
    "slideshow": {
     "slide_type": "slide"
    }
   },
   "source": [
    "- Mutability occurs when an element occupies multiple parts in the memory.\n",
    "- Some part of an element can be change, while leaving the rest intact\n",
    "- Possible for lists and dictionaries; they are mutable. \n",
    "- It's possible to add or delete elements, or change elements in the list."
   ]
  },
  {
   "cell_type": "code",
   "execution_count": null,
   "id": "9a89b4df",
   "metadata": {
    "slideshow": {
     "slide_type": "subslide"
    }
   },
   "outputs": [],
   "source": [
    "x = ['Tom','Dick','Harry']\n",
    "x[1] = 'Mary'\n",
    "x\n"
   ]
  },
  {
   "cell_type": "code",
   "execution_count": null,
   "id": "57a0bf00",
   "metadata": {
    "slideshow": {
     "slide_type": "subslide"
    }
   },
   "outputs": [],
   "source": [
    "['Tom','Mary','Harry']\n",
    "x.append('Edna')\n",
    "x\n"
   ]
  },
  {
   "cell_type": "code",
   "execution_count": null,
   "id": "faf4fdad",
   "metadata": {
    "slideshow": {
     "slide_type": "subslide"
    }
   },
   "outputs": [],
   "source": [
    "# Dictionaries also are mutable. We can add, delete, or change items. For example:\n",
    "d = {'un':'un','deux':'?','trois':'tri'}\n",
    "print(\"Original:\")\n",
    "print(d)\n",
    "d['quatre'] = 'pedwar'\n",
    "d['deux'] = 'dau'\n",
    "print(\"Modified:\")\n",
    "print(d)\n"
   ]
  },
  {
   "cell_type": "code",
   "execution_count": null,
   "id": "d29d6e62",
   "metadata": {
    "slideshow": {
     "slide_type": "subslide"
    }
   },
   "outputs": [],
   "source": [
    "#simple data types like numbers and booleans. \n",
    "# It seems like we can change them:\n",
    "x = 3\n",
    "x = 7\n",
    "print(x)\n",
    "\n",
    "y = True\n",
    "y = False\n",
    "print(y)\n",
    "\n",
    "# We reassigned the names of x and y to new elements. \n",
    "# The old elements are unchanged and available for garbage collection."
   ]
  },
  {
   "cell_type": "code",
   "execution_count": null,
   "id": "ee0909a8",
   "metadata": {
    "slideshow": {
     "slide_type": "subslide"
    }
   },
   "outputs": [],
   "source": [
    "# Strings and tuples have multiple parts, but they are not mutable. \n",
    "# You can refer to pieces of each with indexes, but not assign new values to indexed segments. \n",
    "# For strings:\n",
    "x = 'abc'\n",
    "x[1] = 'd'"
   ]
  },
  {
   "cell_type": "code",
   "execution_count": null,
   "id": "f45bf330",
   "metadata": {
    "slideshow": {
     "slide_type": "subslide"
    }
   },
   "outputs": [],
   "source": [
    "# The same applies to tuples:\n",
    "x = ('a','b','c')\n",
    "x[1] = 'd'"
   ]
  },
  {
   "cell_type": "code",
   "execution_count": null,
   "id": "09842676",
   "metadata": {
    "slideshow": {
     "slide_type": "subslide"
    }
   },
   "outputs": [],
   "source": [
    "# Notice that we can reuse a name that initially was assigned to a string or tuple\n",
    "# This is reusing the name, not changing the initial data structure.\n",
    ">>> x = 'a first string'\n",
    ">>> x = 'another string'"
   ]
  },
  {
   "cell_type": "markdown",
   "id": "197f9661",
   "metadata": {
    "slideshow": {
     "slide_type": "subslide"
    }
   },
   "source": [
    "- Super important!\n",
    "- Methods for mutable and immutable elements differ \n",
    "- Methods change the objects of which they are methods or return a new element. \n",
    "\n"
   ]
  },
  {
   "cell_type": "code",
   "execution_count": null,
   "id": "01fc2f33",
   "metadata": {
    "slideshow": {
     "slide_type": "fragment"
    }
   },
   "outputs": [],
   "source": [
    "# For example, the reverse() method for lists alters the list in place, reversing its elements.\n",
    "x = [1,2,3]\n",
    "x.reverse()\n",
    "x"
   ]
  },
  {
   "cell_type": "code",
   "execution_count": null,
   "id": "5ced74f4",
   "metadata": {
    "slideshow": {
     "slide_type": "fragment"
    }
   },
   "outputs": [],
   "source": [
    "# On the other hand, the upper() method for strings returns a new string with all uppercase letters and leaves the initial string unaffected.\n",
    "\n",
    "y = 'letters'\n",
    "print(y.upper())\n",
    "print(y)"
   ]
  },
  {
   "cell_type": "markdown",
   "id": "a1992c4b",
   "metadata": {
    "slideshow": {
     "slide_type": "slide"
    }
   },
   "source": [
    "### Mutability is extremely easy to forget\n",
    "### Neglecting it can lead to all sorts of hidden bugs in your programs."
   ]
  },
  {
   "cell_type": "code",
   "execution_count": null,
   "id": "851e0f35",
   "metadata": {},
   "outputs": [],
   "source": []
  },
  {
   "cell_type": "code",
   "execution_count": null,
   "id": "f2dbb065",
   "metadata": {},
   "outputs": [],
   "source": []
  }
 ],
 "metadata": {
  "celltoolbar": "Slideshow",
  "kernelspec": {
   "display_name": "Python 3 (ipykernel)",
   "language": "python",
   "name": "python3"
  },
  "language_info": {
   "codemirror_mode": {
    "name": "ipython",
    "version": 3
   },
   "file_extension": ".py",
   "mimetype": "text/x-python",
   "name": "python",
   "nbconvert_exporter": "python",
   "pygments_lexer": "ipython3",
   "version": "3.10.6"
  }
 },
 "nbformat": 4,
 "nbformat_minor": 5
}

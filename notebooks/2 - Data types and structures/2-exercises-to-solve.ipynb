{
 "cells": [
  {
   "cell_type": "markdown",
   "id": "5f6df540",
   "metadata": {
    "slideshow": {
     "slide_type": "slide"
    }
   },
   "source": [
    "What does this code do:<br><br> *isinstance(bool == bool,bool)*?<br><br>\n",
    "What is the output and why?\n"
   ]
  },
  {
   "cell_type": "code",
   "execution_count": null,
   "id": "11480316",
   "metadata": {},
   "outputs": [],
   "source": [
    "# solution"
   ]
  },
  {
   "cell_type": "markdown",
   "id": "2654afa8",
   "metadata": {
    "slideshow": {
     "slide_type": "slide"
    }
   },
   "source": [
    "Write three lines of code that: <br>\n",
    "(i) create a string **transformational**; <br>\n",
    "(ii) create a string **grammar**; <br>\n",
    "(iii) concatenate those together and print the result. <br>"
   ]
  },
  {
   "cell_type": "code",
   "execution_count": null,
   "id": "d755685a",
   "metadata": {
    "slideshow": {
     "slide_type": "subslide"
    }
   },
   "outputs": [],
   "source": [
    "#solution"
   ]
  },
  {
   "cell_type": "markdown",
   "id": "9e0ce523",
   "metadata": {
    "slideshow": {
     "slide_type": "slide"
    }
   },
   "source": [
    "What does this code do: a = 3 == 3? What is the result and\n",
    "why? "
   ]
  },
  {
   "cell_type": "code",
   "execution_count": null,
   "id": "91a54125",
   "metadata": {
    "slideshow": {
     "slide_type": "subslide"
    }
   },
   "outputs": [],
   "source": [
    "#solution"
   ]
  },
  {
   "cell_type": "markdown",
   "id": "e33ac9a0",
   "metadata": {
    "slideshow": {
     "slide_type": "slide"
    }
   },
   "source": [
    "What’s the difference between that code snippet and this one:<br><br>\n",
    "a == 3 = 3? <br><br> (Note that the latter produces an error.)\n"
   ]
  },
  {
   "cell_type": "code",
   "execution_count": null,
   "id": "d9acaeba",
   "metadata": {
    "slideshow": {
     "slide_type": "subslide"
    }
   },
   "outputs": [],
   "source": [
    "#solution"
   ]
  },
  {
   "cell_type": "markdown",
   "id": "b2b860dd",
   "metadata": {
    "slideshow": {
     "slide_type": "slide"
    }
   },
   "source": [
    "##### Write three lines of code that: <br>\n",
    "(i) create a variable with the value 5; <br>\n",
    "(ii) create another variable with the value 4; <br>\n",
    "(iii) print out the result of multiplying those together.\n"
   ]
  },
  {
   "cell_type": "code",
   "execution_count": null,
   "id": "1c19da68",
   "metadata": {
    "slideshow": {
     "slide_type": "subslide"
    }
   },
   "outputs": [],
   "source": [
    "#solution"
   ]
  },
  {
   "cell_type": "markdown",
   "id": "d57e2069",
   "metadata": {
    "slideshow": {
     "slide_type": "slide"
    }
   },
   "source": [
    "Explain what the following bit of code does and why it’s a bad idea:<br>\n",
    "yes = 'no'<br>\n",
    "no = 'yes'\n"
   ]
  },
  {
   "cell_type": "markdown",
   "id": "cdcb46d3",
   "metadata": {
    "slideshow": {
     "slide_type": "slide"
    }
   },
   "source": [
    "Explain what’s going on below; is x mutable?<br>\n",
    "x = 'abc'<br>\n",
    "x = x.upper()\n"
   ]
  },
  {
   "cell_type": "code",
   "execution_count": null,
   "id": "1fe96e06",
   "metadata": {
    "slideshow": {
     "slide_type": "subslide"
    }
   },
   "outputs": [],
   "source": [
    "#solution"
   ]
  },
  {
   "cell_type": "markdown",
   "id": "84cd08c7",
   "metadata": {
    "slideshow": {
     "slide_type": "slide"
    }
   },
   "source": [
    "Write a single line of code that tests whether 73 is greater than 15 \\* 16.\n"
   ]
  },
  {
   "cell_type": "code",
   "execution_count": null,
   "id": "2c9ceb78",
   "metadata": {
    "slideshow": {
     "slide_type": "subslide"
    }
   },
   "outputs": [],
   "source": [
    "# solution"
   ]
  },
  {
   "cell_type": "code",
   "execution_count": null,
   "id": "9cb769c2",
   "metadata": {
    "slideshow": {
     "slide_type": "subslide"
    }
   },
   "outputs": [],
   "source": []
  }
 ],
 "metadata": {
  "celltoolbar": "Slideshow",
  "kernelspec": {
   "display_name": "Python 3 (ipykernel)",
   "language": "python",
   "name": "python3"
  },
  "language_info": {
   "codemirror_mode": {
    "name": "ipython",
    "version": 3
   },
   "file_extension": ".py",
   "mimetype": "text/x-python",
   "name": "python",
   "nbconvert_exporter": "python",
   "pygments_lexer": "ipython3",
   "version": "3.10.6"
  }
 },
 "nbformat": 4,
 "nbformat_minor": 5
}

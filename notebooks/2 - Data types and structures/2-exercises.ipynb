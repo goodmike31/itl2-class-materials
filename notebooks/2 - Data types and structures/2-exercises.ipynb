{
 "cells": [
  {
   "cell_type": "code",
   "execution_count": 12,
   "id": "307ea558",
   "metadata": {},
   "outputs": [
    {
     "name": "stdout",
     "output_type": "stream",
     "text": [
      "[NbConvertApp] Converting notebook class2-exercises.ipynb to slides\n",
      "[NbConvertApp] Writing 584816 bytes to class2-exercises.slides.html\n",
      "[NbConvertApp] Redirecting reveal.js requests to https://cdnjs.cloudflare.com/ajax/libs/reveal.js/3.5.0\n",
      "Serving your slides at http://127.0.0.1:8000/class2-exercises.slides.html\n",
      "Use Control-C to stop this server\n",
      "^C\n",
      "\n",
      "Interrupted\n"
     ]
    }
   ],
   "source": [
    "!jupyter nbconvert \"class2-exercises.ipynb\" --to slides --post serve"
   ]
  },
  {
   "cell_type": "markdown",
   "id": "5f6df540",
   "metadata": {
    "slideshow": {
     "slide_type": "slide"
    }
   },
   "source": [
    "What does this code do:<br><br> *isinstance(bool == bool,bool)*?<br><br>\n",
    "What is the output and why?\n"
   ]
  },
  {
   "cell_type": "code",
   "execution_count": 30,
   "id": "b4c0c593",
   "metadata": {
    "slideshow": {
     "slide_type": "subslide"
    }
   },
   "outputs": [
    {
     "data": {
      "text/plain": [
       "True"
      ]
     },
     "execution_count": 30,
     "metadata": {},
     "output_type": "execute_result"
    }
   ],
   "source": [
    "isinstance(bool == bool,bool)"
   ]
  },
  {
   "cell_type": "code",
   "execution_count": 31,
   "id": "c6bace9a",
   "metadata": {
    "slideshow": {
     "slide_type": "subslide"
    }
   },
   "outputs": [
    {
     "data": {
      "text/plain": [
       "True"
      ]
     },
     "execution_count": 31,
     "metadata": {},
     "output_type": "execute_result"
    }
   ],
   "source": [
    "isinstance(True,bool)"
   ]
  },
  {
   "cell_type": "code",
   "execution_count": 32,
   "id": "adfd77dc",
   "metadata": {
    "slideshow": {
     "slide_type": "subslide"
    }
   },
   "outputs": [
    {
     "data": {
      "text/plain": [
       "True"
      ]
     },
     "execution_count": 32,
     "metadata": {},
     "output_type": "execute_result"
    }
   ],
   "source": [
    "isinstance(False,bool)"
   ]
  },
  {
   "cell_type": "markdown",
   "id": "2654afa8",
   "metadata": {
    "slideshow": {
     "slide_type": "slide"
    }
   },
   "source": [
    "Write three lines of code that: <br>\n",
    "(i) create a string **transformational**; <br>\n",
    "(ii) create a string **grammar**; <br>\n",
    "(iii) concatenate those together and print the result. <br>"
   ]
  },
  {
   "cell_type": "code",
   "execution_count": 33,
   "id": "d755685a",
   "metadata": {
    "slideshow": {
     "slide_type": "subslide"
    }
   },
   "outputs": [
    {
     "name": "stdout",
     "output_type": "stream",
     "text": [
      "transformational grammar\n"
     ]
    }
   ],
   "source": [
    "str1=\"transformational\"\n",
    "str2=\"grammar\"\n",
    "str3=str1 + ' ' + str2\n",
    "print(str3)"
   ]
  },
  {
   "cell_type": "markdown",
   "id": "9e0ce523",
   "metadata": {
    "slideshow": {
     "slide_type": "slide"
    }
   },
   "source": [
    "What does this code do: a = 3 == 3? What is the result and\n",
    "why? "
   ]
  },
  {
   "cell_type": "code",
   "execution_count": 34,
   "id": "91a54125",
   "metadata": {
    "slideshow": {
     "slide_type": "subslide"
    }
   },
   "outputs": [],
   "source": [
    "a = 3 == 3"
   ]
  },
  {
   "cell_type": "code",
   "execution_count": 35,
   "id": "5da36416",
   "metadata": {
    "slideshow": {
     "slide_type": "subslide"
    }
   },
   "outputs": [
    {
     "data": {
      "text/plain": [
       "True"
      ]
     },
     "execution_count": 35,
     "metadata": {},
     "output_type": "execute_result"
    }
   ],
   "source": [
    "a"
   ]
  },
  {
   "cell_type": "markdown",
   "id": "e33ac9a0",
   "metadata": {
    "slideshow": {
     "slide_type": "slide"
    }
   },
   "source": [
    "What’s the difference between that code snippet and this one:<br><br>\n",
    "a == 3 = 3? <br><br> (Note that the latter produces an error.)\n"
   ]
  },
  {
   "cell_type": "code",
   "execution_count": 37,
   "id": "d9acaeba",
   "metadata": {
    "slideshow": {
     "slide_type": "subslide"
    }
   },
   "outputs": [],
   "source": [
    "#a == 3 = 3"
   ]
  },
  {
   "cell_type": "markdown",
   "id": "b2b860dd",
   "metadata": {
    "slideshow": {
     "slide_type": "slide"
    }
   },
   "source": [
    "##### Write three lines of code that: <br>\n",
    "(i) create a variable with the value 5; <br>\n",
    "(ii) create another variable with the value 4; <br>\n",
    "(iii) print out the result of multiplying those together.\n"
   ]
  },
  {
   "cell_type": "code",
   "execution_count": 38,
   "id": "1c19da68",
   "metadata": {
    "slideshow": {
     "slide_type": "subslide"
    }
   },
   "outputs": [
    {
     "name": "stdout",
     "output_type": "stream",
     "text": [
      "20\n"
     ]
    }
   ],
   "source": [
    "var1=5\n",
    "var2=4\n",
    "print(var1 * var2)"
   ]
  },
  {
   "cell_type": "markdown",
   "id": "d57e2069",
   "metadata": {
    "slideshow": {
     "slide_type": "slide"
    }
   },
   "source": [
    "Explain what the following bit of code does and why it’s a bad idea:<br>\n",
    "yes = 'no'<br>\n",
    "no = 'yes'\n"
   ]
  },
  {
   "cell_type": "markdown",
   "id": "cdcb46d3",
   "metadata": {
    "slideshow": {
     "slide_type": "slide"
    }
   },
   "source": [
    "Explain what’s going on below; is x mutable?<br>\n",
    "x = 'abc'<br>\n",
    "x = x.upper()\n"
   ]
  },
  {
   "cell_type": "code",
   "execution_count": 39,
   "id": "1fe96e06",
   "metadata": {
    "slideshow": {
     "slide_type": "subslide"
    }
   },
   "outputs": [],
   "source": [
    "x = 'abc'\n",
    "x = x.upper()\n"
   ]
  },
  {
   "cell_type": "code",
   "execution_count": 40,
   "id": "e0f79ea7",
   "metadata": {
    "slideshow": {
     "slide_type": "subslide"
    }
   },
   "outputs": [
    {
     "data": {
      "text/plain": [
       "'ABC'"
      ]
     },
     "execution_count": 40,
     "metadata": {},
     "output_type": "execute_result"
    }
   ],
   "source": [
    "x"
   ]
  },
  {
   "cell_type": "markdown",
   "id": "84cd08c7",
   "metadata": {
    "slideshow": {
     "slide_type": "slide"
    }
   },
   "source": [
    "Write a single line of code that tests whether 73 is greater than 15 \\* 16.\n"
   ]
  },
  {
   "cell_type": "code",
   "execution_count": 41,
   "id": "2c9ceb78",
   "metadata": {
    "slideshow": {
     "slide_type": "subslide"
    }
   },
   "outputs": [
    {
     "data": {
      "text/plain": [
       "False"
      ]
     },
     "execution_count": 41,
     "metadata": {},
     "output_type": "execute_result"
    }
   ],
   "source": [
    "(73 > 15 * 16)"
   ]
  },
  {
   "cell_type": "markdown",
   "id": "37d2f668",
   "metadata": {
    "slideshow": {
     "slide_type": "slide"
    }
   },
   "source": [
    "Semitic morphology involves intercalating vowels and consonants to express morphological categories.<br>\n",
    "For example, the Arabic root k,t,b occurs in the following forms:\n"
   ]
  },
  {
   "cell_type": "markdown",
   "id": "a76d48f0",
   "metadata": {
    "slideshow": {
     "slide_type": "fragment"
    }
   },
   "source": [
    "| **Arabic** | **English** |\n",
    "|---|---|\n",
    "| katab-a | ‘he wrote’ |\n",
    "| kaatab-a | ‘he corresponded’ |\n",
    "| kutib-a | ‘it was written’ |\n",
    "| kitab | ‘book’ |\n",
    "| kuttaab | ‘writers’ |\n",
    "| uktub | ‘write!' |\n",
    "| etc. |  |\n",
    "|  |  |\n",
    "|  |  |\n"
   ]
  },
  {
   "cell_type": "markdown",
   "id": "e3020885",
   "metadata": {
    "slideshow": {
     "slide_type": "fragment"
    }
   },
   "source": [
    "How might you use format() to describe this system?<br> Give a sample representation for the root k,t,b and show how format() could be used to express different categories."
   ]
  },
  {
   "cell_type": "markdown",
   "id": "3ca396a1",
   "metadata": {
    "slideshow": {
     "slide_type": "slide"
    }
   },
   "source": [
    "We can also use format() to treat vowel harmony. Choose a simple vowel harmony system and show how this might work.\n"
   ]
  },
  {
   "cell_type": "code",
   "execution_count": null,
   "id": "9cb769c2",
   "metadata": {
    "slideshow": {
     "slide_type": "subslide"
    }
   },
   "outputs": [],
   "source": []
  }
 ],
 "metadata": {
  "celltoolbar": "Slideshow",
  "kernelspec": {
   "display_name": "Python 3 (ipykernel)",
   "language": "python",
   "name": "python3"
  },
  "language_info": {
   "codemirror_mode": {
    "name": "ipython",
    "version": 3
   },
   "file_extension": ".py",
   "mimetype": "text/x-python",
   "name": "python",
   "nbconvert_exporter": "python",
   "pygments_lexer": "ipython3",
   "version": "3.10.6"
  }
 },
 "nbformat": 4,
 "nbformat_minor": 5
}
